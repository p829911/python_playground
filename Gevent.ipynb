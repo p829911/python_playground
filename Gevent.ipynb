{
 "cells": [
  {
   "cell_type": "code",
   "execution_count": 1,
   "metadata": {},
   "outputs": [],
   "source": [
    "import gevent"
   ]
  },
  {
   "cell_type": "code",
   "execution_count": 2,
   "metadata": {},
   "outputs": [
    {
     "name": "stdout",
     "output_type": "stream",
     "text": [
      "Running in foo\n",
      "Explicit context to bar\n",
      "Explicit context switch to foo again\n",
      "Implicit context switch back to bar\n"
     ]
    },
    {
     "data": {
      "text/plain": [
       "[<Greenlet at 0x7f27b03cf158: _run>, <Greenlet at 0x7f27b03cf268: _run>]"
      ]
     },
     "execution_count": 2,
     "metadata": {},
     "output_type": "execute_result"
    }
   ],
   "source": [
    "def foo():\n",
    "    print('Running in foo')\n",
    "    gevent.sleep(0)\n",
    "    print('Explicit context switch to foo again')\n",
    "    \n",
    "def bar():\n",
    "    print('Explicit context to bar')\n",
    "    gevent.sleep(0)\n",
    "    print('Implicit context switch back to bar')\n",
    "    \n",
    "gevent.joinall([\n",
    "    gevent.spawn(foo),\n",
    "    gevent.spawn(bar),\n",
    "])"
   ]
  },
  {
   "cell_type": "code",
   "execution_count": 3,
   "metadata": {},
   "outputs": [],
   "source": [
    "import time\n",
    "import gevent\n",
    "from gevent import select"
   ]
  },
  {
   "cell_type": "code",
   "execution_count": 4,
   "metadata": {},
   "outputs": [
    {
     "name": "stdout",
     "output_type": "stream",
     "text": [
      "Started Polling: at 0.0 seconds\n",
      "Started Polling: at 0.0 seconds\n",
      "Hey lets do some stuff while the greenlets poll, at 0.0 seconds\n",
      "Ended Polling: at 2.0 seconds\n",
      "Ended Polling: at 2.0 seconds\n"
     ]
    },
    {
     "data": {
      "text/plain": [
       "[<Greenlet at 0x7f27b03cf598: _run>,\n",
       " <Greenlet at 0x7f27b03cf048: _run>,\n",
       " <Greenlet at 0x7f27b03cf488: _run>]"
      ]
     },
     "execution_count": 4,
     "metadata": {},
     "output_type": "execute_result"
    }
   ],
   "source": [
    "start = time.time()\n",
    "tic = lambda: 'at %1.1f seconds' % (time.time() - start)\n",
    "\n",
    "def gr1():\n",
    "    # Busy waits for a second, but we don't want to stick around...\n",
    "    print('Started Polling: %s' % tic())\n",
    "    select.select([], [], [], 2)\n",
    "    print('Ended Polling: %s' % tic())\n",
    "\n",
    "def gr2():\n",
    "    # Busy waits for a second, but we don't want to stick around...\n",
    "    print('Started Polling: %s' % tic())\n",
    "    select.select([], [], [], 2)\n",
    "    print('Ended Polling: %s' % tic())\n",
    "\n",
    "def gr3():\n",
    "    print(\"Hey lets do some stuff while the greenlets poll, %s\" % tic())\n",
    "    gevent.sleep(1)\n",
    "\n",
    "gevent.joinall([\n",
    "    gevent.spawn(gr1),\n",
    "    gevent.spawn(gr2),\n",
    "    gevent.spawn(gr3),\n",
    "])"
   ]
  },
  {
   "cell_type": "code",
   "execution_count": 5,
   "metadata": {},
   "outputs": [],
   "source": [
    "import threading"
   ]
  },
  {
   "cell_type": "code",
   "execution_count": 6,
   "metadata": {},
   "outputs": [],
   "source": [
    "x = 0"
   ]
  },
  {
   "cell_type": "code",
   "execution_count": 8,
   "metadata": {},
   "outputs": [
    {
     "name": "stdout",
     "output_type": "stream",
     "text": [
      "1231120\n"
     ]
    }
   ],
   "source": [
    "def foo():\n",
    "    global x\n",
    "    for i in range(10000000):\n",
    "        x += 1\n",
    "\n",
    "def bar():\n",
    "    global x\n",
    "    for i in range(10000000):\n",
    "        x -= 1\n",
    "    \n",
    "t1 = threading.Thread(target=foo)\n",
    "t2 = threading.Thread(target=bar)\n",
    "t1.start()\n",
    "t2.start()\n",
    "t1.join()\n",
    "t2.join()\n",
    "\n",
    "print(x)"
   ]
  },
  {
   "cell_type": "markdown",
   "metadata": {},
   "source": [
    "`print(x)` 의 결과가 0으로 나오는 게 정상적으로 작동할 것이라 생각이 들지만, 실제 계산을 통해 나온 값은 전혀 이상한 숫자가 된다.  \n",
    "전역 변수 x 에 두 개의 thread가 동시에 접근해서 각자의 작업을 하면서 어느 한 쪽의 작업 결과가 반영이 되지 않기 때문이다.  \n",
    "이렇게 여러 thread가 공유된 데이터를 변경함으로써 발생하는 문제를 `race condition`이라고도 부른다."
   ]
  },
  {
   "cell_type": "markdown",
   "metadata": {},
   "source": [
    "### mutex\n",
    "Thread-safe한 코드를 만들기 위해서 사용하는 것 중 하나가 mutex (mutual exclusion) 이다. 위에서 본 참사를 막기 위해서, 공유되는 메모리의 데이터를 여러 thread가 동시에 사용할 수 없도록 잠그는 일을 mutex가 맡는다.  \n",
    "\n",
    "**mutex에 대한 좋은 비유**\n",
    "> 휴대폰이 없던 시절에는 공중 전화를 주로 이용했었다. 거리의 모든 남자들은 각자의 아내에게 전화를 너무나 걸고 싶어한다.  \n",
    "어떤 한 남자가 처음으로 공중 전화 부스에 들어가서 그의 사랑하는 아내에게 전화를 걸었다면, 그는 꼭 전화 부스의 문을 꼭 잡고 있어야 한다. 왜냐하면 사랑에 눈이 먼 다른 남자들이 전화를 걸기 위해 시도때도 없이 달려들고 있기 때문이다. 줄 서는 질서 문화 따위는 없다. 심지어 그 문을 놓친다면, 전화 부스에 들이닥친 남자들이 수화기를 뺏어 당신의 아내에게 애정 표현을 할 지도 모른다.  \n",
    "아내와의 즐거운 통화를 무사히 마쳤다면, 이제 문을 잡고 있던 손을 놓고 부스 밖으로 나가면 된다. 그러면 공중 전화를 쓰기 위해 달려드는 다른 남자들 중 제일 빠른 한 명이 부스에 들어가서 똑같이 문을 꼭 잡고 그의 아내와 통화할 수 있다.\n",
    "\n",
    "- thread: 각 남자들\n",
    "- mutex: 공중 전화 부스의 문\n",
    "- lock: 그 문을 잡고 있는 남자의 손\n",
    "- resource: 공중 전화"
   ]
  },
  {
   "cell_type": "code",
   "execution_count": 9,
   "metadata": {},
   "outputs": [],
   "source": [
    "import sys"
   ]
  },
  {
   "cell_type": "code",
   "execution_count": 10,
   "metadata": {},
   "outputs": [],
   "source": [
    "a = []\n",
    "b = a"
   ]
  },
  {
   "cell_type": "code",
   "execution_count": 11,
   "metadata": {},
   "outputs": [
    {
     "data": {
      "text/plain": [
       "3"
      ]
     },
     "execution_count": 11,
     "metadata": {},
     "output_type": "execute_result"
    }
   ],
   "source": [
    "sys.getrefcount(a)"
   ]
  },
  {
   "cell_type": "markdown",
   "metadata": {},
   "source": [
    "- `a`가 처음 만들어 졌을 때의 reference 개수가 하나,\n",
    "- `b`에 `a`의 reference를 할당했으므로, 그 개수가 하나 늘어나서 두 개,\n",
    "- `sys.getrefcount`함수에 argument로 `a`가 들어가서, 이 함수 내부에서 `a`의 reference 개수를 하나 늘리므로 세 개 (그리고 이 함수가 끝날 때 다시 reference 개수를 하나 줄일 것이다)  \n",
    "\n",
    "그리고 이 개수가 0이 되면 CPython이 알아서 메모리를 회수한다고 생각할 수 있다."
   ]
  },
  {
   "cell_type": "code",
   "execution_count": 12,
   "metadata": {},
   "outputs": [],
   "source": [
    "import gevent\n",
    "import random"
   ]
  },
  {
   "cell_type": "code",
   "execution_count": 14,
   "metadata": {},
   "outputs": [
    {
     "name": "stdout",
     "output_type": "stream",
     "text": [
      "Synchronous: \n",
      "Task 1 done\n",
      "Task 2 done\n",
      "Task 3 done\n",
      "Task 4 done\n",
      "Task 5 done\n",
      "Task 6 done\n",
      "Task 7 done\n",
      "Task 8 done\n",
      "Task 9 done\n",
      "Asynchronous: \n",
      "Task 5 done\n",
      "Task 1 done\n",
      "Task 2 done\n",
      "Task 3 done\n",
      "Task 6 done\n",
      "Task 7 done\n",
      "Task 0 done\n",
      "Task 4 done\n",
      "Task 8 done\n",
      "Task 9 done\n"
     ]
    }
   ],
   "source": [
    "def task(pid):\n",
    "    gevent.sleep(random.randint(0, 2) * 0.001)\n",
    "    print('Task %s done' % pid)\n",
    "    \n",
    "def synchronous():\n",
    "    for i in range(1, 10):\n",
    "        task(i)\n",
    "        \n",
    "def asynchronous():\n",
    "    threads = [gevent.spawn(task, i) for i in range(10)]\n",
    "    gevent.joinall(threads)\n",
    "    \n",
    "print('Synchronous: ')\n",
    "synchronous()\n",
    "\n",
    "print('Asynchronous: ')\n",
    "asynchronous()"
   ]
  },
  {
   "cell_type": "code",
   "execution_count": 1,
   "metadata": {},
   "outputs": [],
   "source": [
    "import gevent.monkey\n",
    "gevent.monkey.patch_socket()\n",
    "import gevent\n",
    "import requests\n",
    "# import simplejson as json\n",
    "import json"
   ]
  },
  {
   "cell_type": "code",
   "execution_count": 6,
   "metadata": {},
   "outputs": [],
   "source": [
    "def fetch(pid):\n",
    "    response = requests.get('https://api.github.com/events')\n",
    "    json_result = response.json()\n",
    "#     json_result = json.loads(result)\n",
    "    result_id = json_result[0]['id']\n",
    "    print('Process %s: %s' % (pid, result_id))\n",
    "    return result_id\n",
    "\n",
    "def synchronous():\n",
    "    for i in range(1, 10):\n",
    "        fetch(i)\n",
    "        \n",
    "def asynchronous():\n",
    "    threads = []\n",
    "    for i in range(1, 10):\n",
    "        threads.append(gevent.spawn(fetch, i))\n",
    "    gevent.joinall(threads)"
   ]
  },
  {
   "cell_type": "code",
   "execution_count": 7,
   "metadata": {},
   "outputs": [
    {
     "name": "stdout",
     "output_type": "stream",
     "text": [
      "Synchronous:\n",
      "Process 1: 10764816613\n",
      "Process 2: 10764817224\n",
      "Process 3: 10764817847\n",
      "Process 4: 10764818351\n",
      "Process 5: 10764818973\n",
      "Process 6: 10764819662\n",
      "Process 7: 10764820238\n",
      "Process 8: 10764820926\n",
      "Process 9: 10764821668\n",
      "Asynchronous:\n",
      "Process 1: 10764822209\n",
      "Process 2: 10764823319\n",
      "Process 9: 10764823431\n",
      "Process 6: 10764823431\n",
      "Process 7: 10764823523\n",
      "Process 3: 10764823632\n",
      "Process 4: 10764823632\n",
      "Process 8: 10764823737\n",
      "Process 5: 10764823737\n"
     ]
    }
   ],
   "source": [
    "print('Synchronous:')\n",
    "synchronous()\n",
    "print('Asynchronous:')\n",
    "asynchronous()"
   ]
  },
  {
   "cell_type": "code",
   "execution_count": 8,
   "metadata": {},
   "outputs": [],
   "source": [
    "import time"
   ]
  },
  {
   "cell_type": "code",
   "execution_count": 9,
   "metadata": {},
   "outputs": [],
   "source": [
    "def echo(i):\n",
    "    time.sleep(0.001)\n",
    "    return i"
   ]
  },
  {
   "cell_type": "code",
   "execution_count": 24,
   "metadata": {},
   "outputs": [],
   "source": [
    "from multiprocessing import Pool"
   ]
  },
  {
   "cell_type": "code",
   "execution_count": 25,
   "metadata": {},
   "outputs": [],
   "source": [
    "p = Pool(10)"
   ]
  },
  {
   "cell_type": "code",
   "execution_count": 26,
   "metadata": {},
   "outputs": [],
   "source": [
    "run1 = [a for a in p.imap_unordered(echo, range(10))]\n",
    "run2 = [a for a in p.imap_unordered(echo, range(10))]\n",
    "run3 = [a for a in p.imap_unordered(echo, range(10))]\n",
    "run4 = [a for a in p.imap_unordered(echo, range(10))]"
   ]
  },
  {
   "cell_type": "code",
   "execution_count": 14,
   "metadata": {},
   "outputs": [
    {
     "name": "stdout",
     "output_type": "stream",
     "text": [
      "False\n"
     ]
    }
   ],
   "source": [
    "print(run1 == run2 == run3 == run4)"
   ]
  },
  {
   "cell_type": "code",
   "execution_count": 15,
   "metadata": {},
   "outputs": [],
   "source": [
    "from gevent.pool import Pool"
   ]
  },
  {
   "cell_type": "code",
   "execution_count": 16,
   "metadata": {},
   "outputs": [],
   "source": [
    "p = Pool(10)\n",
    "run1 = [a for a in p.imap_unordered(echo, range(10))]\n",
    "run2 = [a for a in p.imap_unordered(echo, range(10))]\n",
    "run3 = [a for a in p.imap_unordered(echo, range(10))]\n",
    "run4 = [a for a in p.imap_unordered(echo, range(10))]"
   ]
  },
  {
   "cell_type": "code",
   "execution_count": 17,
   "metadata": {},
   "outputs": [
    {
     "name": "stdout",
     "output_type": "stream",
     "text": [
      "True\n"
     ]
    }
   ],
   "source": [
    "print(run1 == run2 == run3 == run4)"
   ]
  }
 ],
 "metadata": {
  "kernelspec": {
   "display_name": "Python 3",
   "language": "python",
   "name": "python3"
  },
  "language_info": {
   "codemirror_mode": {
    "name": "ipython",
    "version": 3
   },
   "file_extension": ".py",
   "mimetype": "text/x-python",
   "name": "python",
   "nbconvert_exporter": "python",
   "pygments_lexer": "ipython3",
   "version": "3.7.3"
  }
 },
 "nbformat": 4,
 "nbformat_minor": 2
}
