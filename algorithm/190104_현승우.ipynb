{
 "cells": [
  {
   "cell_type": "markdown",
   "metadata": {},
   "source": [
    "## 짝궁 찾기\n",
    "n명의 사람들이 각각 고유한 번호를 가지고 있습니다. \n",
    "\n",
    "사람들이 가지고 있는 번호의 차이가 짝궁숫자 k일때 두 사람을 짝궁으로 묶으려고 합니다.\n",
    "\n",
    "n명의 사람들의 고유번호 정보와, 짝궁 숫자가 주어졌을때, 생성되는 짝궁의 갯수를 구하세요.\n",
    "\n",
    "### 조건\n",
    "\n",
    "def solution(A, k):\n",
    "\n",
    "- 리스트 A는 사람들이 가지고 있는 고유번호를 가지고 있습니다.\n",
    "- 리스트 A의 크기는 2보다 같거나 크고 십만보다 같거나 작습니다.\n",
    "- 짝궁번호 k는 0보다 크고 10억보다 작습니다.\n",
    "- 고유번호는 0보다 크고 2의 31승보다 작습니다.\n",
    "- 고유의 뜻은 중복이 없다는 뜻입니다.\n",
    "\n",
    "### 예제\n",
    "\n",
    "input\n",
    "\n",
    "```\n",
    "A = [1, 5, 3, 4, 2]\n",
    "k = 2\n",
    "```\n",
    "\n",
    "output 3\n",
    "\n",
    "why?\n",
    "\n",
    "짝궁번호 2를 만족하는 짝궁은 (1, 3), (2, 4), (3, 5)"
   ]
  },
  {
   "cell_type": "markdown",
   "metadata": {},
   "source": [
    "### 강사님 코드"
   ]
  },
  {
   "cell_type": "code",
   "execution_count": 2,
   "metadata": {},
   "outputs": [],
   "source": [
    "A = [1, 5, 3, 4, 2]"
   ]
  },
  {
   "cell_type": "code",
   "execution_count": 3,
   "metadata": {},
   "outputs": [],
   "source": [
    "def diff(A):\n",
    "    result = []\n",
    "    for i, a in enumerate(A[:-1], 1):\n",
    "        result.append(A[i]-a)\n",
    "    return result"
   ]
  },
  {
   "cell_type": "code",
   "execution_count": 4,
   "metadata": {},
   "outputs": [
    {
     "data": {
      "text/plain": [
       "[1, 1, 1, 1]"
      ]
     },
     "execution_count": 4,
     "metadata": {},
     "output_type": "execute_result"
    }
   ],
   "source": [
    "diff(sorted(A))"
   ]
  },
  {
   "cell_type": "code",
   "execution_count": 9,
   "metadata": {},
   "outputs": [],
   "source": [
    "def solution(A, k):\n",
    "    print(A)\n",
    "    diff_A = diff(sorted(A))\n",
    "    print(diff_A)\n",
    "    count = 0\n",
    "    for i, a in enumerate(diff_A):\n",
    "        for j in range(i+1, len(diff_A)+1):\n",
    "            print(diff_A[i:j])\n",
    "            if sum(diff_A[i:j]) == k:\n",
    "                count += 1\n",
    "                break\n",
    "    return count"
   ]
  },
  {
   "cell_type": "code",
   "execution_count": 10,
   "metadata": {},
   "outputs": [
    {
     "name": "stdout",
     "output_type": "stream",
     "text": [
      "[1, 5, 3, 4, 2]\n",
      "[1, 1, 1, 1]\n",
      "[1]\n",
      "[1, 1]\n",
      "[1]\n",
      "[1, 1]\n",
      "[1]\n",
      "[1, 1]\n",
      "[1]\n"
     ]
    },
    {
     "data": {
      "text/plain": [
       "3"
      ]
     },
     "execution_count": 10,
     "metadata": {},
     "output_type": "execute_result"
    }
   ],
   "source": [
    "solution(A, 2)"
   ]
  },
  {
   "cell_type": "code",
   "execution_count": null,
   "metadata": {},
   "outputs": [],
   "source": [
    "def solution(A, k):\n",
    "    count = 0\n",
    "#    A = { a: True for a in A }\n",
    "    A = set(A)\n",
    "    print(A)\n",
    "    for a in A:\n",
    "        if (a+k) in A:\n",
    "            count += 1\n",
    "    return count"
   ]
  },
  {
   "cell_type": "code",
   "execution_count": 11,
   "metadata": {},
   "outputs": [],
   "source": [
    "# List의 장점은 indexing -> 몇 번째에 있는 요소가 뭔지 탐색할때 굉장히 빠릅니다.\n",
    "# -> 어떤 요소가 있는지 찾는건 n번 입니다.\n",
    "# dict -> 어떤 key를 가지고 값을 가져오는데 굉장히 빠르다 -> 어떤 key가 있느냐 없느냐를 판단할 때 빠르다."
   ]
  },
  {
   "cell_type": "code",
   "execution_count": 12,
   "metadata": {},
   "outputs": [],
   "source": [
    "string = [\"a\", \"b\", \"c\", \"d\", \"e\"]"
   ]
  },
  {
   "cell_type": "code",
   "execution_count": 15,
   "metadata": {},
   "outputs": [],
   "source": [
    "# List에서 in 보다 dictionary의 in이 더 빠르다."
   ]
  },
  {
   "cell_type": "code",
   "execution_count": 13,
   "metadata": {},
   "outputs": [],
   "source": [
    "string_d = {'a': 1, 'b': 2, 'c': 3}"
   ]
  },
  {
   "cell_type": "code",
   "execution_count": 14,
   "metadata": {},
   "outputs": [
    {
     "data": {
      "text/plain": [
       "True"
      ]
     },
     "execution_count": 14,
     "metadata": {},
     "output_type": "execute_result"
    }
   ],
   "source": [
    "'a' in string_d"
   ]
  },
  {
   "cell_type": "markdown",
   "metadata": {},
   "source": [
    "### 문제 1"
   ]
  },
  {
   "cell_type": "code",
   "execution_count": 23,
   "metadata": {},
   "outputs": [],
   "source": [
    "def solution(A, k):\n",
    "    output = 0\n",
    "    ls = sorted(A)\n",
    "    for i, num in enumerate(ls):\n",
    "        if num + k > ls[-1]:\n",
    "            break\n",
    "        elif num + k in ls:\n",
    "            output += 1\n",
    "    return output"
   ]
  },
  {
   "cell_type": "code",
   "execution_count": 24,
   "metadata": {},
   "outputs": [],
   "source": [
    "test_A = [1, 7, 15, 5, 3, 4, 2]\n",
    "test_k = 2"
   ]
  },
  {
   "cell_type": "code",
   "execution_count": 25,
   "metadata": {},
   "outputs": [
    {
     "data": {
      "text/plain": [
       "[1, 2, 3, 4, 5, 7, 15]"
      ]
     },
     "execution_count": 25,
     "metadata": {},
     "output_type": "execute_result"
    }
   ],
   "source": [
    "sorted(test_A)"
   ]
  },
  {
   "cell_type": "code",
   "execution_count": 26,
   "metadata": {
    "scrolled": true
   },
   "outputs": [
    {
     "data": {
      "text/plain": [
       "4"
      ]
     },
     "execution_count": 26,
     "metadata": {},
     "output_type": "execute_result"
    }
   ],
   "source": [
    "solution(test_A, test_k)"
   ]
  },
  {
   "cell_type": "markdown",
   "metadata": {},
   "source": [
    "## 버스 기사님 인사해요! 안녕!\n",
    "1번 버스 버스기사님들 마주오는 같은 버스 기사님에게 항상 인사를 합니다.\n",
    "\n",
    "모든 버스기사님들이 총 몇번 인사하게되는지 카운트하는 함수를 작성해보세요.\n",
    "\n",
    "1. 상행선을 타는 버스를 1, 하행선을 타는 버스를 0로 표현합니다.\n",
    "1. 리스트에 버스노선을 직선상으로 표현합니다.\n",
    "1. [0, 1, 0, 1, 1]라고할때 0은 리스트의 끝으로, 1은 리스트의 앞으로 이동합니다.\n",
    "1. 각 버스가 진행방향으로 계속 이동할때, 모든 기사님들은 총 몇번 인사를 하게되는지 구하세요.\n",
    "\n",
    "### 예제\n",
    "\n",
    "A = [0, 1, 0, 1, 1] 라고할때,\n",
    "\n",
    "(A[0], A[1]) 인사 발생 (A[0], A[3]) 인사 발생 (A[0], A[4]) 인사 발생 (A[2], A[3]) 인사 발생 (A[2], A[4]) 인사 발생\n",
    "\n",
    "모든 버스기사 아저씨들은 총 5번 인사를 합니다.\n",
    "\n",
    "### 조건\n",
    "\n",
    "def solution(A):\n",
    "\n",
    "1. 리스트의 A 길이는 1부터 십만 사이입니다.\n",
    "\n",
    "1. 리스트의 A의 각요소는 0 또는 1 만 옵니다."
   ]
  },
  {
   "cell_type": "markdown",
   "metadata": {},
   "source": [
    "### 문제 2"
   ]
  },
  {
   "cell_type": "markdown",
   "metadata": {},
   "source": [
    "### 강사님 코드"
   ]
  },
  {
   "cell_type": "code",
   "execution_count": null,
   "metadata": {},
   "outputs": [],
   "source": [
    "def solution(A):\n",
    "    sum_a = sum(A)\n",
    "    count = 0\n",
    "    for a in A:\n",
    "        if a == 0:\n",
    "            # 매번 a 다음에 오는 리스트의 합을 구하기\n",
    "            count += sum_a\n",
    "        else:\n",
    "            sum_a -= 1\n",
    "    return count"
   ]
  },
  {
   "cell_type": "code",
   "execution_count": 27,
   "metadata": {},
   "outputs": [],
   "source": [
    "A = [0, 1, 0, 1, 1, 0, 1, 1, 0]"
   ]
  },
  {
   "cell_type": "code",
   "execution_count": 28,
   "metadata": {},
   "outputs": [],
   "source": [
    "def solution(A):\n",
    "    hello_num = 0\n",
    "    for i in range(len(A)):\n",
    "        if A[i] == 0:\n",
    "            hello_num += sum(A[i+1:])\n",
    "    return hello_num"
   ]
  },
  {
   "cell_type": "code",
   "execution_count": 29,
   "metadata": {},
   "outputs": [
    {
     "data": {
      "text/plain": [
       "11"
      ]
     },
     "execution_count": 29,
     "metadata": {},
     "output_type": "execute_result"
    }
   ],
   "source": [
    "solution(A)"
   ]
  },
  {
   "cell_type": "code",
   "execution_count": 30,
   "metadata": {},
   "outputs": [],
   "source": [
    "### 순서가 있는 SET 만들기"
   ]
  },
  {
   "cell_type": "code",
   "execution_count": 31,
   "metadata": {},
   "outputs": [],
   "source": [
    "A = [1, 3, 3, 1, 2, 2]"
   ]
  },
  {
   "cell_type": "code",
   "execution_count": 38,
   "metadata": {},
   "outputs": [
    {
     "data": {
      "text/plain": [
       "[1, 2, 3]"
      ]
     },
     "execution_count": 38,
     "metadata": {},
     "output_type": "execute_result"
    }
   ],
   "source": [
    "list(set(A))"
   ]
  },
  {
   "cell_type": "code",
   "execution_count": 39,
   "metadata": {},
   "outputs": [],
   "source": [
    "from collections import OrderedDict"
   ]
  },
  {
   "cell_type": "code",
   "execution_count": 40,
   "metadata": {},
   "outputs": [
    {
     "data": {
      "text/plain": [
       "OrderedDict([('a', 1), ('b', 2), ('c', 3), ('d', 4), ('e', 5)])"
      ]
     },
     "execution_count": 40,
     "metadata": {},
     "output_type": "execute_result"
    }
   ],
   "source": [
    "OrderedDict(a=1, b=2, c=3, d=4, e=5)"
   ]
  },
  {
   "cell_type": "code",
   "execution_count": null,
   "metadata": {},
   "outputs": [],
   "source": [
    "class OrderedSet(OrderedDict):\n",
    "    def __init__(self, values):\n",
    "        temp = [\n",
    "            (value, None) for value in values\n",
    "        ]\n",
    "        super().__init__(temp)"
   ]
  },
  {
   "cell_type": "code",
   "execution_count": null,
   "metadata": {},
   "outputs": [],
   "source": []
  }
 ],
 "metadata": {
  "kernelspec": {
   "display_name": "Python 3",
   "language": "python",
   "name": "python3"
  },
  "language_info": {
   "codemirror_mode": {
    "name": "ipython",
    "version": 3
   },
   "file_extension": ".py",
   "mimetype": "text/x-python",
   "name": "python",
   "nbconvert_exporter": "python",
   "pygments_lexer": "ipython3",
   "version": "3.7.1"
  }
 },
 "nbformat": 4,
 "nbformat_minor": 2
}
