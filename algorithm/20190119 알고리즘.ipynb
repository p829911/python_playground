{
 "cells": [
  {
   "cell_type": "markdown",
   "metadata": {},
   "source": [
    "# 20190119 알고리즘"
   ]
  },
  {
   "cell_type": "markdown",
   "metadata": {},
   "source": [
    "1부터 M까지 숫자가 들어있는 길이가 N인 리스트에서,\n",
    "\n",
    "각 숫자가 마지막으로 등장하는 `index`를 순차적으로 담은 리스트를 리턴하세요.\n",
    "\n",
    "\n",
    "#### 예제\n",
    "\n",
    "|m|data|return|\n",
    "|-|-|-|\n",
    "|3|[1, 2, 3, 1, 2, 3, 1]|[6, 4, 5]|\n",
    "\n",
    "\n",
    "#### 설명\n",
    "- 1이 등장한 index는 0과 3과 6, 이중에 가장 마지막에 등장한 index 6\n",
    "- 2가 등장한 index는 1과 4, 이중에 마지막인 4\n",
    "- 3이 등장한 index는 2와 5, 이중에 마지막인 5\n",
    "\n",
    "#### 조건\n",
    "- M은 2보다 크고 1만보다 작은 숫자\n",
    "- N은 1보다 크고 10만보다 작은 숫자"
   ]
  },
  {
   "cell_type": "code",
   "execution_count": 151,
   "metadata": {},
   "outputs": [],
   "source": [
    "M = 3\n",
    "N = 7\n",
    "data = [1,2,3,1,2,3,1]"
   ]
  },
  {
   "cell_type": "code",
   "execution_count": 156,
   "metadata": {},
   "outputs": [],
   "source": [
    "def solution(M, N, data):\n",
    "    dic = {}\n",
    "    dic_ls = [0] * M\n",
    "    for i in range(N-1, -1, -1):\n",
    "        last = data[i]\n",
    "        if last in dic:\n",
    "            continue\n",
    "        else:\n",
    "            dic[last] = i\n",
    "            dic_ls[last-1] = i\n",
    "            if len(dic) == M:\n",
    "                break\n",
    "        \n",
    "    return dic_ls"
   ]
  },
  {
   "cell_type": "code",
   "execution_count": 157,
   "metadata": {},
   "outputs": [
    {
     "name": "stdout",
     "output_type": "stream",
     "text": [
      "CPU times: user 11 µs, sys: 0 ns, total: 11 µs\n",
      "Wall time: 17.9 µs\n"
     ]
    }
   ],
   "source": [
    "%%time\n",
    "_ = solution(M, N, data)"
   ]
  },
  {
   "cell_type": "code",
   "execution_count": 158,
   "metadata": {},
   "outputs": [],
   "source": [
    "def solution(M, N, data):\n",
    "    dic_ls = [0] * M\n",
    "    zero_count = M\n",
    "    for i in range(N-1, -1, -1):\n",
    "        last = data[i]\n",
    "        \n",
    "        if dic_ls[last-1] == 0:\n",
    "            dic_ls[last-1] = i\n",
    "            zero_count -= 1 \n",
    "        \n",
    "        else:\n",
    "            continue\n",
    "            \n",
    "        if zero_count == 0:\n",
    "            break\n",
    "        \n",
    "    return dic_ls"
   ]
  },
  {
   "cell_type": "code",
   "execution_count": 159,
   "metadata": {},
   "outputs": [
    {
     "name": "stdout",
     "output_type": "stream",
     "text": [
      "CPU times: user 12 µs, sys: 1 µs, total: 13 µs\n",
      "Wall time: 18.4 µs\n"
     ]
    }
   ],
   "source": [
    "%%time\n",
    "_ = solution(M, N, data)"
   ]
  },
  {
   "cell_type": "code",
   "execution_count": null,
   "metadata": {},
   "outputs": [],
   "source": []
  }
 ],
 "metadata": {
  "kernelspec": {
   "display_name": "Python 3",
   "language": "python",
   "name": "python3"
  },
  "language_info": {
   "codemirror_mode": {
    "name": "ipython",
    "version": 3
   },
   "file_extension": ".py",
   "mimetype": "text/x-python",
   "name": "python",
   "nbconvert_exporter": "python",
   "pygments_lexer": "ipython3",
   "version": "3.7.2"
  }
 },
 "nbformat": 4,
 "nbformat_minor": 2
}
