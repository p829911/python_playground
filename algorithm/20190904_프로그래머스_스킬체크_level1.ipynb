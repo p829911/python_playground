{
 "cells": [
  {
   "cell_type": "code",
   "execution_count": 1,
   "metadata": {},
   "outputs": [],
   "source": [
    "s = \"Zbcdefg\"\n",
    "\n",
    "import string\n",
    "\n",
    "letter = string.ascii_uppercase + string.ascii_lowercase\n",
    "\n",
    "letter_dic = {}\n",
    "\n",
    "for i, alpha in enumerate(letter):\n",
    "    letter_dic[alpha] = i\n",
    "\n",
    "letter_dic_reverse = {v:k for k, v in letter_dic.items()}\n",
    "\n",
    "new_num_list = []\n",
    "\n",
    "for alpha in list(s):\n",
    "    new_num_list.append(letter_dic[alpha])\n",
    "\n",
    "new_num_list = sorted(new_num_list, reverse=True)\n",
    "\n",
    "new_alpha_list = [letter_dic_reverse[num] for num in new_num_list]\n",
    "\n",
    "\"\".join(new_alpha_list)"
   ]
  },
  {
   "cell_type": "code",
   "execution_count": 66,
   "metadata": {},
   "outputs": [],
   "source": [
    "participant = ['leo', 'kiki', 'eden']\n",
    "completion = ['eden', 'kiki']"
   ]
  },
  {
   "cell_type": "code",
   "execution_count": 64,
   "metadata": {},
   "outputs": [],
   "source": [
    "def solution(participant, completion):\n",
    "    participant_dic = {man: i for i, man in enumerate(participant)}\n",
    "    participant_dic_reverse = {v: k for k, v in participant_dic.items()}\n",
    "    completion_num = [participant_dic[man] for man in completion]\n",
    "    completion_num = sorted(completion_num)\n",
    "    for i, num in enumerate(completion_num):\n",
    "        if i != num:\n",
    "            answer = participant_dic_reverse[i]\n",
    "            break\n",
    "    return answer"
   ]
  },
  {
   "cell_type": "code",
   "execution_count": 67,
   "metadata": {},
   "outputs": [],
   "source": [
    "participant_dic = {man: i for i, man in enumerate(participant)}"
   ]
  },
  {
   "cell_type": "code",
   "execution_count": 70,
   "metadata": {},
   "outputs": [
    {
     "data": {
      "text/plain": [
       "{'leo': 0, 'kiki': 1, 'eden': 2}"
      ]
     },
     "execution_count": 70,
     "metadata": {},
     "output_type": "execute_result"
    }
   ],
   "source": [
    "participant_dic"
   ]
  },
  {
   "cell_type": "code",
   "execution_count": 69,
   "metadata": {},
   "outputs": [],
   "source": [
    "participant_dic_reverse = {v: k for k, v in participant_dic.items()}"
   ]
  },
  {
   "cell_type": "code",
   "execution_count": 71,
   "metadata": {},
   "outputs": [
    {
     "data": {
      "text/plain": [
       "{0: 'leo', 1: 'kiki', 2: 'eden'}"
      ]
     },
     "execution_count": 71,
     "metadata": {},
     "output_type": "execute_result"
    }
   ],
   "source": [
    "participant_dic_reverse"
   ]
  },
  {
   "cell_type": "code",
   "execution_count": 72,
   "metadata": {},
   "outputs": [],
   "source": [
    "completion_num = [participant_dic[man] for man in completion]"
   ]
  },
  {
   "cell_type": "code",
   "execution_count": 73,
   "metadata": {},
   "outputs": [
    {
     "data": {
      "text/plain": [
       "[2, 1]"
      ]
     },
     "execution_count": 73,
     "metadata": {},
     "output_type": "execute_result"
    }
   ],
   "source": [
    "completion_num"
   ]
  },
  {
   "cell_type": "code",
   "execution_count": 74,
   "metadata": {},
   "outputs": [],
   "source": [
    "completion_num = sorted(completion_num)"
   ]
  },
  {
   "cell_type": "code",
   "execution_count": 75,
   "metadata": {},
   "outputs": [
    {
     "data": {
      "text/plain": [
       "[1, 2]"
      ]
     },
     "execution_count": 75,
     "metadata": {},
     "output_type": "execute_result"
    }
   ],
   "source": [
    "completion_num"
   ]
  },
  {
   "cell_type": "code",
   "execution_count": 76,
   "metadata": {},
   "outputs": [],
   "source": [
    "for i, num in enumerate(completion_num):\n",
    "    if i != num:\n",
    "        answer = participant_dic_reverse[i]\n",
    "        break"
   ]
  },
  {
   "cell_type": "code",
   "execution_count": 77,
   "metadata": {},
   "outputs": [
    {
     "data": {
      "text/plain": [
       "'leo'"
      ]
     },
     "execution_count": 77,
     "metadata": {},
     "output_type": "execute_result"
    }
   ],
   "source": [
    "answer"
   ]
  },
  {
   "cell_type": "code",
   "execution_count": 78,
   "metadata": {},
   "outputs": [],
   "source": [
    "def solution(participant, completion):\n",
    "    participant_dic = {man: i for i, man in enumerate(participant)}\n",
    "    participant_dic_reverse = {v: k for k, v in participant_dic.items()}\n",
    "    completion_num = [participant_dic[man] for man in completion]\n",
    "    completion_num = sorted(completion_num)\n",
    "    for i, num in enumerate(completion_num):\n",
    "        if i != num:\n",
    "            answer = participant_dic_reverse[i]\n",
    "            break\n",
    "    return answer"
   ]
  },
  {
   "cell_type": "code",
   "execution_count": 96,
   "metadata": {},
   "outputs": [
    {
     "data": {
      "text/plain": [
       "Counter({'josipa': 1, 'filipa': 1, 'marina': 1, 'nikola': 1})"
      ]
     },
     "execution_count": 96,
     "metadata": {},
     "output_type": "execute_result"
    }
   ],
   "source": [
    "collections.Counter(completion)"
   ]
  },
  {
   "cell_type": "code",
   "execution_count": 91,
   "metadata": {},
   "outputs": [],
   "source": [
    "dic = {man: 0 for man in participant}\n",
    "for man in participant:\n",
    "    dic[man] += 1"
   ]
  },
  {
   "cell_type": "code",
   "execution_count": 92,
   "metadata": {},
   "outputs": [
    {
     "data": {
      "text/plain": [
       "{'marina': 1, 'josipa': 1, 'nikola': 2, 'vinko': 1, 'filipa': 1}"
      ]
     },
     "execution_count": 92,
     "metadata": {},
     "output_type": "execute_result"
    }
   ],
   "source": [
    "dic"
   ]
  },
  {
   "cell_type": "code",
   "execution_count": 84,
   "metadata": {},
   "outputs": [],
   "source": [
    "for man in completion:\n",
    "    participant.remove(man)"
   ]
  },
  {
   "cell_type": "code",
   "execution_count": 85,
   "metadata": {},
   "outputs": [
    {
     "data": {
      "text/plain": [
       "['vinko']"
      ]
     },
     "execution_count": 85,
     "metadata": {},
     "output_type": "execute_result"
    }
   ],
   "source": [
    "participant[0]"
   ]
  },
  {
   "cell_type": "code",
   "execution_count": 88,
   "metadata": {},
   "outputs": [
    {
     "data": {
      "text/plain": [
       "False"
      ]
     },
     "execution_count": 88,
     "metadata": {},
     "output_type": "execute_result"
    }
   ],
   "source": [
    "completion in participant"
   ]
  },
  {
   "cell_type": "code",
   "execution_count": null,
   "metadata": {},
   "outputs": [],
   "source": [
    "def solution(participant, completion):\n",
    "    dic = {}\n",
    "    for p in participant:\n",
    "        try: dic[p] += 1\n",
    "        except: dic[p] = 1\n",
    "\n",
    "    for c in completion:\n",
    "        if c in dic:\n",
    "            dic[c] -= 1\n",
    "            if dic[c] == 0:\n",
    "                del dic[c]\n",
    "    return list(dic.keys())[0]"
   ]
  }
 ],
 "metadata": {
  "kernelspec": {
   "display_name": "rdkit-env",
   "language": "python",
   "name": "rdkit-env"
  },
  "language_info": {
   "codemirror_mode": {
    "name": "ipython",
    "version": 3
   },
   "file_extension": ".py",
   "mimetype": "text/x-python",
   "name": "python",
   "nbconvert_exporter": "python",
   "pygments_lexer": "ipython3",
   "version": "3.6.8"
  }
 },
 "nbformat": 4,
 "nbformat_minor": 2
}
