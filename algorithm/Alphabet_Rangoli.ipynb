{
 "cells": [
  {
   "cell_type": "markdown",
   "metadata": {},
   "source": [
    "#size 3\n",
    "\n",
    "----c----  \n",
    "--c-b-c--  \n",
    "c-b-a-b-c  \n",
    "--c-b-c--  \n",
    "----c----  \n",
    "\n",
    "#size 5\n",
    "\n",
    "--------e--------  \n",
    "------e-d-e------  \n",
    "----e-d-c-d-e----  \n",
    "--e-d-c-b-c-d-e--  \n",
    "e-d-c-b-a-b-c-d-e  \n",
    "--e-d-c-b-c-d-e--  \n",
    "----e-d-c-d-e----  \n",
    "------e-d-e------  \n",
    "--------e--------  \n",
    "\n",
    "#size 10\n",
    "\n",
    "------------------j------------------  \n",
    "----------------j-i-j----------------  \n",
    "--------------j-i-h-i-j--------------  \n",
    "------------j-i-h-g-h-i-j------------  \n",
    "----------j-i-h-g-f-g-h-i-j----------  \n",
    "--------j-i-h-g-f-e-f-g-h-i-j--------  \n",
    "------j-i-h-g-f-e-d-e-f-g-h-i-j------  \n",
    "----j-i-h-g-f-e-d-c-d-e-f-g-h-i-j----  \n",
    "--j-i-h-g-f-e-d-c-b-c-d-e-f-g-h-i-j--  \n",
    "j-i-h-g-f-e-d-c-b-a-b-c-d-e-f-g-h-i-j  \n",
    "--j-i-h-g-f-e-d-c-b-c-d-e-f-g-h-i-j--  \n",
    "----j-i-h-g-f-e-d-c-d-e-f-g-h-i-j----  \n",
    "------j-i-h-g-f-e-d-e-f-g-h-i-j------  \n",
    "--------j-i-h-g-f-e-f-g-h-i-j--------  \n",
    "----------j-i-h-g-f-g-h-i-j----------  \n",
    "------------j-i-h-g-h-i-j------------  \n",
    "--------------j-i-h-i-j--------------  \n",
    "----------------j-i-j----------------  \n",
    "------------------j------------------  "
   ]
  },
  {
   "cell_type": "code",
   "execution_count": 6,
   "metadata": {},
   "outputs": [
    {
     "name": "stdout",
     "output_type": "stream",
     "text": [
      "------------------j------------------\n",
      "----------------j-i-j----------------\n",
      "--------------j-i-h-i-j--------------\n",
      "------------j-i-h-g-h-i-j------------\n",
      "----------j-i-h-g-f-g-h-i-j----------\n",
      "--------j-i-h-g-f-e-f-g-h-i-j--------\n",
      "------j-i-h-g-f-e-d-e-f-g-h-i-j------\n",
      "----j-i-h-g-f-e-d-c-d-e-f-g-h-i-j----\n",
      "--j-i-h-g-f-e-d-c-b-c-d-e-f-g-h-i-j--\n",
      "j-i-h-g-f-e-d-c-b-a-b-c-d-e-f-g-h-i-j\n",
      "--j-i-h-g-f-e-d-c-b-c-d-e-f-g-h-i-j--\n",
      "----j-i-h-g-f-e-d-c-d-e-f-g-h-i-j----\n",
      "------j-i-h-g-f-e-d-e-f-g-h-i-j------\n",
      "--------j-i-h-g-f-e-f-g-h-i-j--------\n",
      "----------j-i-h-g-f-g-h-i-j----------\n",
      "------------j-i-h-g-h-i-j------------\n",
      "--------------j-i-h-i-j--------------\n",
      "----------------j-i-j----------------\n",
      "------------------j------------------\n"
     ]
    }
   ],
   "source": [
    "import string\n",
    "\n",
    "alpha = string.ascii_lowercase\n",
    "\n",
    "alpha_ls = [a for a in alpha]\n",
    "\n",
    "n = 10\n",
    "row_num = 2 * n - 1\n",
    "col_num = 4 * n - 3\n",
    "\n",
    "row_alpha = alpha_ls[:n][::-1]\n",
    "for i in range(1, n):\n",
    "    r_ls = row_alpha[:i]\n",
    "    r_ls.extend(row_alpha[:i-1][::-1])\n",
    "    r_ls = \"-\".join(r_ls)\n",
    "    center = len(r_ls)\n",
    "    side = (col_num - center) // 2\n",
    "    print(\"-\" * side + r_ls + \"-\" * side)\n",
    "\n",
    "for j in range(n, 0, -1):\n",
    "    r_ls = row_alpha[:j]\n",
    "    r_ls.extend(row_alpha[:j-1][::-1])\n",
    "    r_ls = \"-\".join(r_ls)\n",
    "    center = len(r_ls)\n",
    "    side = (col_num - center) // 2\n",
    "    print(\"-\" * side + r_ls + \"-\" * side)"
   ]
  },
  {
   "cell_type": "code",
   "execution_count": null,
   "metadata": {},
   "outputs": [],
   "source": []
  }
 ],
 "metadata": {
  "hide_input": false,
  "kernelspec": {
   "display_name": "Python [conda env:root] *",
   "language": "python",
   "name": "conda-root-py"
  },
  "language_info": {
   "codemirror_mode": {
    "name": "ipython",
    "version": 3
   },
   "file_extension": ".py",
   "mimetype": "text/x-python",
   "name": "python",
   "nbconvert_exporter": "python",
   "pygments_lexer": "ipython3",
   "version": "3.7.4"
  },
  "varInspector": {
   "cols": {
    "lenName": 16,
    "lenType": 16,
    "lenVar": 40
   },
   "kernels_config": {
    "python": {
     "delete_cmd_postfix": "",
     "delete_cmd_prefix": "del ",
     "library": "var_list.py",
     "varRefreshCmd": "print(var_dic_list())"
    },
    "r": {
     "delete_cmd_postfix": ") ",
     "delete_cmd_prefix": "rm(",
     "library": "var_list.r",
     "varRefreshCmd": "cat(var_dic_list()) "
    }
   },
   "types_to_exclude": [
    "module",
    "function",
    "builtin_function_or_method",
    "instance",
    "_Feature"
   ],
   "window_display": false
  }
 },
 "nbformat": 4,
 "nbformat_minor": 4
}
