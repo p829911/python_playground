{
 "cells": [
  {
   "cell_type": "code",
   "execution_count": 1,
   "metadata": {},
   "outputs": [],
   "source": [
    "#!/bin/python3\n",
    "\n",
    "import math\n",
    "import os\n",
    "import random\n",
    "import re\n",
    "import sys\n",
    "import time"
   ]
  },
  {
   "cell_type": "markdown",
   "metadata": {},
   "source": [
    "### Success"
   ]
  },
  {
   "cell_type": "code",
   "execution_count": 2,
   "metadata": {},
   "outputs": [],
   "source": [
    "# Complete the solve function below.\n",
    "def solve1(s):\n",
    "    string = list(s[0].upper() + s[1:])\n",
    "    for i in range(1, len(s)):\n",
    "        if string[i-1].isspace() and string[i].isalnum():\n",
    "            string[i] = string[i].upper()\n",
    "    return \"\".join(string)"
   ]
  },
  {
   "cell_type": "code",
   "execution_count": 3,
   "metadata": {},
   "outputs": [],
   "source": [
    "def solve2(s):\n",
    "    words = s.split(\" \")\n",
    "    return \" \".join([word[0].upper() + word[1:] if len(word) else word for word in words])"
   ]
  },
  {
   "cell_type": "code",
   "execution_count": 4,
   "metadata": {},
   "outputs": [
    {
     "name": "stdout",
     "output_type": "stream",
     "text": [
      "\n",
      "solve1 result\n",
      "\n",
      "Hello World\n",
      "process time: 9.059906005859375e-05\n",
      "Hello   World  Lol\n",
      "process time: 0.0003228187561035156\n",
      "\n",
      "solve2 result\n",
      "\n",
      "Hello World\n",
      "process time: 7.271766662597656e-05\n",
      "Hello   World  Lol\n",
      "process time: 9.34600830078125e-05\n"
     ]
    }
   ],
   "source": [
    "s1 = \"hello world\"\n",
    "s2 = \"hello   world  lol\"\n",
    "\n",
    "for solve in [solve1, solve2]:\n",
    "    print(f\"\\n{solve.__name__} result\\n\")\n",
    "    for string in [s1, s2]:\n",
    "        start = time.time()\n",
    "        print(solve(string))\n",
    "        end = time.time()\n",
    "        print(f\"process time: {end-start}\")"
   ]
  },
  {
   "cell_type": "code",
   "execution_count": null,
   "metadata": {},
   "outputs": [],
   "source": []
  }
 ],
 "metadata": {
  "hide_input": false,
  "kernelspec": {
   "display_name": "Python [conda env:root] *",
   "language": "python",
   "name": "conda-root-py"
  },
  "language_info": {
   "codemirror_mode": {
    "name": "ipython",
    "version": 3
   },
   "file_extension": ".py",
   "mimetype": "text/x-python",
   "name": "python",
   "nbconvert_exporter": "python",
   "pygments_lexer": "ipython3",
   "version": "3.7.4"
  },
  "varInspector": {
   "cols": {
    "lenName": 16,
    "lenType": 16,
    "lenVar": 40
   },
   "kernels_config": {
    "python": {
     "delete_cmd_postfix": "",
     "delete_cmd_prefix": "del ",
     "library": "var_list.py",
     "varRefreshCmd": "print(var_dic_list())"
    },
    "r": {
     "delete_cmd_postfix": ") ",
     "delete_cmd_prefix": "rm(",
     "library": "var_list.r",
     "varRefreshCmd": "cat(var_dic_list()) "
    }
   },
   "types_to_exclude": [
    "module",
    "function",
    "builtin_function_or_method",
    "instance",
    "_Feature"
   ],
   "window_display": false
  }
 },
 "nbformat": 4,
 "nbformat_minor": 4
}
