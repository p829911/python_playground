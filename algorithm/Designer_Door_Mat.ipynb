{
 "cells": [
  {
   "cell_type": "markdown",
   "metadata": {},
   "source": [
    "### Sample Designs\n",
    "```\n",
    "Size: 7 x 21 \n",
    "---------.|.---------\n",
    "------.|..|..|.------\n",
    "---.|..|..|..|..|.---\n",
    "-------WELCOME-------\n",
    "---.|..|..|..|..|.---\n",
    "------.|..|..|.------\n",
    "---------.|.---------\n",
    "\n",
    "Size: 11 x 33\n",
    "---------------.|.---------------\n",
    "------------.|..|..|.------------\n",
    "---------.|..|..|..|..|.---------\n",
    "------.|..|..|..|..|..|..|.------\n",
    "---.|..|..|..|..|..|..|..|..|.---\n",
    "-------------WELCOME-------------\n",
    "---.|..|..|..|..|..|..|..|..|.---\n",
    "------.|..|..|..|..|..|..|.------\n",
    "---------.|..|..|..|..|.---------\n",
    "------------.|..|..|.------------\n",
    "---------------.|.---------------\n",
    "```\n"
   ]
  },
  {
   "cell_type": "markdown",
   "metadata": {},
   "source": [
    "\".|.\" 1, 3, 5, 5, 3, 1  \n",
    "\"WELCOME\" 4줄 중간  \n",
    "그 외에 모든 공간은 \"-\" 이걸로."
   ]
  },
  {
   "cell_type": "code",
   "execution_count": null,
   "metadata": {},
   "outputs": [],
   "source": [
    "# '-' 길이\n",
    "s_string = \"-\"\n",
    "s_stringn = m - len(c_string) # / 2 왼쪽, 오른쪽"
   ]
  },
  {
   "cell_type": "code",
   "execution_count": 29,
   "metadata": {
    "scrolled": false
   },
   "outputs": [
    {
     "name": "stdout",
     "output_type": "stream",
     "text": [
      "------------.|.------------\n",
      "---------.|..|..|.---------\n",
      "------.|..|..|..|..|.------\n",
      "---.|..|..|..|..|..|..|.---\n",
      "----------WELCOME----------\n",
      "---.|..|..|..|..|..|..|.---\n",
      "------.|..|..|..|..|.------\n",
      "---------.|..|..|.---------\n",
      "------------.|.------------\n"
     ]
    }
   ],
   "source": [
    "n, m = 9, 27\n",
    "c_string = \".|.\"\n",
    "s_string = \"-\"\n",
    "w_string = \"WELCOME\"\n",
    "w_stringn = int((m - len(w_string)) / 2)\n",
    "center = n // 2 + 1\n",
    "for i in range(1, center):\n",
    "    c_stringn = 2 * i - 1\n",
    "    s_stringn = int((m - len(c_string) * c_stringn) / 2)\n",
    "    print(s_string * s_stringn + c_string * c_stringn + s_string * s_stringn)\n",
    "\n",
    "print(s_string * w_stringn + w_string + s_string * w_stringn)\n",
    "\n",
    "for i in range(1, center):\n",
    "    c_stringn = n - 2 * i\n",
    "    s_stringn = int((m - len(c_string) * c_stringn) / 2)\n",
    "    print(s_string * s_stringn + c_string * c_stringn + s_string * s_stringn)\n",
    "    \n",
    "    "
   ]
  }
 ],
 "metadata": {
  "hide_input": false,
  "kernelspec": {
   "display_name": "Python [conda env:root] *",
   "language": "python",
   "name": "conda-root-py"
  },
  "language_info": {
   "codemirror_mode": {
    "name": "ipython",
    "version": 3
   },
   "file_extension": ".py",
   "mimetype": "text/x-python",
   "name": "python",
   "nbconvert_exporter": "python",
   "pygments_lexer": "ipython3",
   "version": "3.7.4"
  },
  "varInspector": {
   "cols": {
    "lenName": 16,
    "lenType": 16,
    "lenVar": 40
   },
   "kernels_config": {
    "python": {
     "delete_cmd_postfix": "",
     "delete_cmd_prefix": "del ",
     "library": "var_list.py",
     "varRefreshCmd": "print(var_dic_list())"
    },
    "r": {
     "delete_cmd_postfix": ") ",
     "delete_cmd_prefix": "rm(",
     "library": "var_list.r",
     "varRefreshCmd": "cat(var_dic_list()) "
    }
   },
   "types_to_exclude": [
    "module",
    "function",
    "builtin_function_or_method",
    "instance",
    "_Feature"
   ],
   "window_display": false
  }
 },
 "nbformat": 4,
 "nbformat_minor": 4
}
