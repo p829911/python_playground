{
 "cells": [
  {
   "cell_type": "code",
   "execution_count": 1,
   "metadata": {},
   "outputs": [],
   "source": [
    "q = [1, 2, 5, 3, 7, 8, 6, 4]"
   ]
  },
  {
   "cell_type": "code",
   "execution_count": 2,
   "metadata": {},
   "outputs": [],
   "source": [
    "num = 0\n",
    "\n",
    "for _ in range(2):\n",
    "    for i in range(len(q) - 1):\n",
    "        if q[i] > q[i+1]:\n",
    "            q[i], q[i+1] = q[i+1], q[i]\n",
    "            num += 1\n",
    "\n",
    "    for i in range(len(q) - 1, 0, -1):\n",
    "        if q[i] < q[i-1]:\n",
    "            q[i], q[i-1] = q[i-1], q[i]\n",
    "            num += 1"
   ]
  },
  {
   "cell_type": "code",
   "execution_count": 4,
   "metadata": {},
   "outputs": [
    {
     "data": {
      "text/plain": [
       "[1, 2, 3, 4, 5, 6, 7, 8]"
      ]
     },
     "execution_count": 4,
     "metadata": {},
     "output_type": "execute_result"
    }
   ],
   "source": [
    "q"
   ]
  },
  {
   "cell_type": "code",
   "execution_count": 5,
   "metadata": {},
   "outputs": [
    {
     "data": {
      "text/plain": [
       "7"
      ]
     },
     "execution_count": 5,
     "metadata": {},
     "output_type": "execute_result"
    }
   ],
   "source": [
    "num"
   ]
  },
  {
   "cell_type": "code",
   "execution_count": 37,
   "metadata": {},
   "outputs": [],
   "source": [
    "arr1 = [7, 1, 3, 2, 4, 5, 6]\n",
    "arr2 = [4, 3, 1, 2]\n",
    "arr3 = [2, 3, 4, 1, 5]\n",
    "arr4 = [1, 3, 5, 2, 4, 6, 7]"
   ]
  },
  {
   "cell_type": "markdown",
   "metadata": {},
   "source": [
    "### hackerrank - Minimum Swap 2\n",
    "재귀 이용"
   ]
  },
  {
   "cell_type": "code",
   "execution_count": 38,
   "metadata": {},
   "outputs": [],
   "source": [
    "from functools import reduce"
   ]
  },
  {
   "cell_type": "code",
   "execution_count": 43,
   "metadata": {},
   "outputs": [],
   "source": [
    "def minimum_swap(arr):\n",
    "    swap = 0\n",
    "    if len(arr) % 2:\n",
    "        # 홀수\n",
    "        tmp = sorted(arr)\n",
    "        mid_value = tmp[len(tmp) // 2]\n",
    "        mid_index = len(arr) // 2\n",
    "        for i in range(len(arr)):\n",
    "            if arr[mid_index] != mid_value and arr[i] == mid_value:\n",
    "                arr[i], arr[mid_index] = arr[mid_index], arr[i]\n",
    "                swap += 1\n",
    "                print('홀수: ', swap)\n",
    "                break\n",
    "        arr = arr[:mid_index] + arr[mid_index+1:]\n",
    "        swap += minimum_swap(arr)\n",
    "    else:\n",
    "        mid = arr[len(arr) // 2]\n",
    "        pre = arr[:len(arr) // 2]\n",
    "        post = arr[len(arr) // 2:]\n",
    "        for j in range(len(pre)):\n",
    "            if pre[j] > mid:\n",
    "                low = max(arr)\n",
    "                low_index = 0\n",
    "                for z in range(len(post)):\n",
    "                    if post[z] < low:\n",
    "                        low = post[z]\n",
    "                        low_index = z\n",
    "                pre[j], post[low_index] = post[low_index], pre[j]\n",
    "                swap += 1\n",
    "                print('짝수: ', swap)\n",
    "                break\n",
    "        \n",
    "\n",
    "        if len(pre) > 1 and len(post) > 1:\n",
    "            swap += minimum_swap(pre)\n",
    "            swap += minimum_swap(post)\n",
    "    print(\"---------------\")\n",
    "    return swap"
   ]
  },
  {
   "cell_type": "code",
   "execution_count": 44,
   "metadata": {
    "scrolled": true
   },
   "outputs": [
    {
     "name": "stdout",
     "output_type": "stream",
     "text": [
      "짝수:  1\n",
      "---------------\n",
      "짝수:  1\n",
      "---------------\n",
      "---------------\n"
     ]
    },
    {
     "data": {
      "text/plain": [
       "2"
      ]
     },
     "execution_count": 44,
     "metadata": {},
     "output_type": "execute_result"
    }
   ],
   "source": [
    "minimum_swap(arr2)"
   ]
  },
  {
   "cell_type": "code",
   "execution_count": null,
   "metadata": {},
   "outputs": [],
   "source": []
  }
 ],
 "metadata": {
  "hide_input": false,
  "kernelspec": {
   "display_name": "Python [conda env:root] *",
   "language": "python",
   "name": "conda-root-py"
  },
  "language_info": {
   "codemirror_mode": {
    "name": "ipython",
    "version": 3
   },
   "file_extension": ".py",
   "mimetype": "text/x-python",
   "name": "python",
   "nbconvert_exporter": "python",
   "pygments_lexer": "ipython3",
   "version": "3.7.4"
  },
  "varInspector": {
   "cols": {
    "lenName": 16,
    "lenType": 16,
    "lenVar": 40
   },
   "kernels_config": {
    "python": {
     "delete_cmd_postfix": "",
     "delete_cmd_prefix": "del ",
     "library": "var_list.py",
     "varRefreshCmd": "print(var_dic_list())"
    },
    "r": {
     "delete_cmd_postfix": ") ",
     "delete_cmd_prefix": "rm(",
     "library": "var_list.r",
     "varRefreshCmd": "cat(var_dic_list()) "
    }
   },
   "types_to_exclude": [
    "module",
    "function",
    "builtin_function_or_method",
    "instance",
    "_Feature"
   ],
   "window_display": false
  }
 },
 "nbformat": 4,
 "nbformat_minor": 4
}
