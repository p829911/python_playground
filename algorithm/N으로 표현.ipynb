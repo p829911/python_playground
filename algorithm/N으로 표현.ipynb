{
 "cells": [
  {
   "cell_type": "markdown",
   "metadata": {},
   "source": [
    "### 문제 설명\n",
    "아래와 같이 5와 사칙연산만으로 12를 표현할 수 있습니다.\n",
    "\n",
    "12 = 5 + 5 + (5 / 5) + (5 / 5)  \n",
    "12 = 55 / 5 + 5 / 5  \n",
    "12 = (55 + 5) / 5  \n",
    "\n",
    "5를 사용한 횟수는 각각 6,5,4 입니다. 그리고 이중 가장 작은 경우는 4입니다.  \n",
    "이처럼 숫자 N과 number가 주어질 때, N과 사칙연산만 사용해서 표현 할 수 있는 방법 중 N 사용횟수의 최솟값을 return 하도록 solution 함수를 작성하세요.\n",
    "\n",
    "### 제한사항\n",
    "- N은 1 이상 9 이하입니다.\n",
    "- number는 1 이상 32,000 이하입니다.\n",
    "- 수식에는 괄호와 사칙연산만 가능하며 나누기 연산에서 나머지는 무시합니다.\n",
    "- 최솟값이 8보다 크면 -1을 return 합니다.\n",
    "\n",
    "### 입출력 예\n",
    "|N|number|return|\n",
    "|--|--|--|\n",
    "|5|12|4|\n",
    "|2|11|3|\n",
    "\n",
    "### 입출력 예 설명\n",
    "\n",
    "예제 #1\n",
    "문제에 나온 예와 같습니다.\n",
    "\n",
    "예제 #2\n",
    "`11 = 22 / 2`와 같이 2를 3번만 사용하여 표현할 수 있습니다.\n",
    "\n",
    "\n"
   ]
  },
  {
   "cell_type": "markdown",
   "metadata": {},
   "source": [
    "### 나의 풀이"
   ]
  },
  {
   "cell_type": "code",
   "execution_count": 1,
   "metadata": {},
   "outputs": [],
   "source": [
    "N = 3\n",
    "number = 12\n",
    "# 3 + 3 + 3 + 3\n",
    "# 3 * 3 + 3\n",
    "# (33 + 3) / 3"
   ]
  },
  {
   "cell_type": "code",
   "execution_count": null,
   "metadata": {},
   "outputs": [],
   "source": [
    "N = 3\n",
    "number = 15\n",
    "# 3 + 3 + 3 + 3 + 3\n",
    "# 3 * 3 + 3 + 3\n",
    "# 33 / 3 + 3/3 + 3\n",
    "\n",
    "11<3>, 1<2>, 111<4>"
   ]
  },
  {
   "cell_type": "code",
   "execution_count": null,
   "metadata": {},
   "outputs": [],
   "source": [
    "N = 4\n",
    "number = 23\n",
    "# 4 * 4 + 4 + 4 - 4/4 <6>\n",
    "# 23 = 4 * 5 + 3\n",
    "# 23 = 4 * 6 - 1"
   ]
  },
  {
   "cell_type": "code",
   "execution_count": null,
   "metadata": {},
   "outputs": [],
   "source": [
    "N = 2\n",
    "number = 15\n",
    "# 2 * 7 + 1 = 2 * 2 * 2 * 2 - 2/2 <6>\n",
    "# 22 /2 + 2 * 2 <5>"
   ]
  },
  {
   "cell_type": "code",
   "execution_count": null,
   "metadata": {},
   "outputs": [],
   "source": [
    "N = 2\n",
    "number = 8\n",
    "# 2 * 2 * 2 <3>"
   ]
  },
  {
   "cell_type": "code",
   "execution_count": null,
   "metadata": {},
   "outputs": [],
   "source": [
    "3N -> 더하기 3개\n",
    "N*N -> 곱하기 2개\n",
    "N/N -> 나누기(1) 2개\n",
    "NN"
   ]
  },
  {
   "cell_type": "code",
   "execution_count": null,
   "metadata": {},
   "outputs": [],
   "source": [
    "def solution(N, number):\n",
    "    if number % N == 0:\n",
    "        min = number // N\n",
    "        if min > 8:\n",
    "            return -1\n",
    "        return number // N"
   ]
  },
  {
   "cell_type": "code",
   "execution_count": null,
   "metadata": {},
   "outputs": [],
   "source": [
    "def solution(N, number):\n",
    "    answer = 0\n",
    "    return answer"
   ]
  },
  {
   "cell_type": "code",
   "execution_count": 2,
   "metadata": {},
   "outputs": [],
   "source": [
    "N = 5\n",
    "number = 12"
   ]
  },
  {
   "cell_type": "code",
   "execution_count": 13,
   "metadata": {},
   "outputs": [
    {
     "data": {
      "text/plain": [
       "2"
      ]
     },
     "execution_count": 13,
     "metadata": {},
     "output_type": "execute_result"
    }
   ],
   "source": [
    "number // N"
   ]
  },
  {
   "cell_type": "code",
   "execution_count": 12,
   "metadata": {},
   "outputs": [
    {
     "data": {
      "text/plain": [
       "2"
      ]
     },
     "execution_count": 12,
     "metadata": {},
     "output_type": "execute_result"
    }
   ],
   "source": [
    "number % N"
   ]
  },
  {
   "cell_type": "code",
   "execution_count": 72,
   "metadata": {},
   "outputs": [],
   "source": [
    "N = 5\n",
    "number = 12"
   ]
  },
  {
   "cell_type": "code",
   "execution_count": 73,
   "metadata": {},
   "outputs": [],
   "source": [
    "ls = [N ** i for i in range(9)]\n",
    "one_ls = [str(N) * i for i in range(1, 6)]\n",
    "one_range = []\n",
    "for i, num in enumerate(ls):\n",
    "    if num > number:\n",
    "        min, max = ls[i-1], ls[i]\n",
    "        break\n",
    "for one in one_ls:\n",
    "    if (int(one) > min) & (int(one) < max):\n",
    "        one_range.append(int(one))\n",
    "        "
   ]
  },
  {
   "cell_type": "code",
   "execution_count": 74,
   "metadata": {},
   "outputs": [
    {
     "data": {
      "text/plain": [
       "(5, 25)"
      ]
     },
     "execution_count": 74,
     "metadata": {},
     "output_type": "execute_result"
    }
   ],
   "source": [
    "min, max"
   ]
  },
  {
   "cell_type": "code",
   "execution_count": 75,
   "metadata": {},
   "outputs": [
    {
     "data": {
      "text/plain": [
       "[]"
      ]
     },
     "execution_count": 75,
     "metadata": {},
     "output_type": "execute_result"
    }
   ],
   "source": [
    "one_range"
   ]
  },
  {
   "cell_type": "code",
   "execution_count": 77,
   "metadata": {},
   "outputs": [
    {
     "data": {
      "text/plain": [
       "(7, 13)"
      ]
     },
     "execution_count": 77,
     "metadata": {},
     "output_type": "execute_result"
    }
   ],
   "source": [
    "abs(number - min), abs(number-max)"
   ]
  },
  {
   "cell_type": "markdown",
   "metadata": {},
   "source": [
    "### 미해결"
   ]
  },
  {
   "cell_type": "code",
   "execution_count": null,
   "metadata": {},
   "outputs": [],
   "source": []
  }
 ],
 "metadata": {
  "kernelspec": {
   "display_name": "Python 3",
   "language": "python",
   "name": "python3"
  },
  "language_info": {
   "codemirror_mode": {
    "name": "ipython",
    "version": 3
   },
   "file_extension": ".py",
   "mimetype": "text/x-python",
   "name": "python",
   "nbconvert_exporter": "python",
   "pygments_lexer": "ipython3",
   "version": "3.7.2"
  }
 },
 "nbformat": 4,
 "nbformat_minor": 2
}
