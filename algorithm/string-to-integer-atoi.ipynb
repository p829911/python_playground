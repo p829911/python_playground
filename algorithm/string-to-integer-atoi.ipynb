{
 "cells": [
  {
   "cell_type": "code",
   "execution_count": 1,
   "metadata": {},
   "outputs": [],
   "source": [
    "s = [\n",
    "    \"42\",\n",
    "    \"   -42\",\n",
    "    \"4193 with words\",\n",
    "    \"words and 987\",\n",
    "    \"-91283472332\",\n",
    "]"
   ]
  },
  {
   "cell_type": "code",
   "execution_count": 2,
   "metadata": {},
   "outputs": [],
   "source": [
    "def myAtoi(s: str) -> int:\n",
    "        trim_str = s.strip()\n",
    "        first_str = trim_str[0]\n",
    "        \n",
    "        num = \"\"\n",
    "        sign = \"+\"\n",
    "        \n",
    "        if first_str == \"-\":\n",
    "            sign = \"-\"\n",
    "        elif first_str.isalpha():\n",
    "            return 0\n",
    "        elif first_str.isdigit():\n",
    "            num += first_str\n",
    "        \n",
    "        for i in trim_str[1:]:\n",
    "            if i.isdigit():\n",
    "                num += i\n",
    "            else:\n",
    "                break\n",
    "        \n",
    "        final_num = int(sign + num)\n",
    "        if -2**31 > final_num:\n",
    "            return -2**31\n",
    "        elif 2**31 - 1 < final_num:\n",
    "            return 2**31 - 1\n",
    "        else:\n",
    "            return final_num"
   ]
  },
  {
   "cell_type": "code",
   "execution_count": 3,
   "metadata": {},
   "outputs": [
    {
     "name": "stdout",
     "output_type": "stream",
     "text": [
      "42\n",
      "-42\n",
      "4193\n",
      "0\n",
      "-2147483648\n"
     ]
    }
   ],
   "source": [
    "for i in s:\n",
    "    print(myAtoi(i))"
   ]
  }
 ],
 "metadata": {
  "hide_input": false,
  "kernelspec": {
   "display_name": "Python 3",
   "language": "python",
   "name": "python3"
  },
  "language_info": {
   "codemirror_mode": {
    "name": "ipython",
    "version": 3
   },
   "file_extension": ".py",
   "mimetype": "text/x-python",
   "name": "python",
   "nbconvert_exporter": "python",
   "pygments_lexer": "ipython3",
   "version": "3.8.5"
  }
 },
 "nbformat": 4,
 "nbformat_minor": 4
}
