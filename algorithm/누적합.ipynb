{
 "cells": [
  {
   "cell_type": "markdown",
   "metadata": {},
   "source": [
    "# 누적합\n",
    "\n",
    "길이가 N인 리스트에서 누적합을 구해서 리턴하는 함수를 구하세요.\n",
    "1부터 N까지 숫자로 이뤄진 길이가 N인 리스트와, 구하려는 누적합의 시작하는 지점과 끝나는 지점을 담은 M개의 쿼리 데이터를 받습니다.\n",
    "\n",
    "```\n",
    "N = 5\n",
    "M = 5\n",
    "data = [10, 20, 30, 40, 50]\n",
    "queries = [[1, 3], [2, 4], [3, 5], [1, 5], [4, 4]]\n",
    "```\n",
    "일때 결과는\n",
    "\n",
    "data에서\n",
    "* 1번째부터 3번째까지의 누적합 : 60\n",
    "* 2번째부터 4번째까지의 누적합 : 90\n",
    "* 3번째부터 5번째까지의 누적합 : 120\n",
    "* 1번째부터 5번째까지의 누적합 : 150\n",
    "* 4번째부터 4번째까지의 누적합 : 40\n",
    "\n",
    "즉 `[60, 90, 120, 150, 40]`을 리턴합니다.\n",
    "\n",
    "**조건**\n",
    "\n",
    "`def solution(data, queries):`\n",
    "\n",
    "\n",
    "N은 data의 길이, data요소의 최대값\n",
    "\n",
    "`1<=N<=십만`\n",
    "\n",
    "\n",
    "M은 queries의 길이\n",
    "\n",
    "`1<=M<=만`\n"
   ]
  },
  {
   "cell_type": "code",
   "execution_count": 4,
   "metadata": {},
   "outputs": [],
   "source": [
    "N = 5\n",
    "M = 5\n",
    "data = [10, 20, 30, 40, 50]\n",
    "queries = [[1, 3], [2, 4], [3, 5], [1, 5], [4, 4]]"
   ]
  },
  {
   "cell_type": "code",
   "execution_count": 2,
   "metadata": {},
   "outputs": [],
   "source": [
    "def solution(data, queries):\n",
    "    ls = []\n",
    "    for i,j in queries:\n",
    "        ls.append(sum(data[i-1:j]))\n",
    "\n",
    "    return ls"
   ]
  },
  {
   "cell_type": "code",
   "execution_count": 3,
   "metadata": {},
   "outputs": [
    {
     "data": {
      "text/plain": [
       "[60, 90, 120, 150, 40]"
      ]
     },
     "execution_count": 3,
     "metadata": {},
     "output_type": "execute_result"
    }
   ],
   "source": [
    "solution(data,queries)"
   ]
  },
  {
   "cell_type": "markdown",
   "metadata": {},
   "source": [
    "### **단순한 코드**"
   ]
  },
  {
   "cell_type": "code",
   "execution_count": 5,
   "metadata": {},
   "outputs": [],
   "source": [
    "def solution(data, queries):\n",
    "    result = []\n",
    "    for start, end in queries:\n",
    "        value = data[start-1:end]\n",
    "        result.append(sum(value))\n",
    "    return result"
   ]
  },
  {
   "cell_type": "code",
   "execution_count": 6,
   "metadata": {},
   "outputs": [
    {
     "data": {
      "text/plain": [
       "[60, 90, 120, 150, 40]"
      ]
     },
     "execution_count": 6,
     "metadata": {},
     "output_type": "execute_result"
    }
   ],
   "source": [
    "solution(data, queries)"
   ]
  },
  {
   "cell_type": "code",
   "execution_count": 10,
   "metadata": {},
   "outputs": [],
   "source": [
    "from random import randint\n",
    "\n",
    "N = 100000\n",
    "M = 10000\n",
    "data = [randint(1, N) for _ in range(N)]\n",
    "q = [ sorted([randint(1, N), randint(1, N)]) for _ in range(M) ]"
   ]
  },
  {
   "cell_type": "markdown",
   "metadata": {},
   "source": [
    "#### 실행시간에서 `s`가 나왔다고 하면 의심해 봐야 한다."
   ]
  },
  {
   "cell_type": "code",
   "execution_count": 11,
   "metadata": {},
   "outputs": [
    {
     "name": "stdout",
     "output_type": "stream",
     "text": [
      "CPU times: user 3.96 s, sys: 13 ms, total: 3.97 s\n",
      "Wall time: 3.97 s\n"
     ]
    }
   ],
   "source": [
    "%%time\n",
    "_ = solution(data, q)"
   ]
  },
  {
   "cell_type": "markdown",
   "metadata": {},
   "source": [
    "### **효율적인 코드**"
   ]
  },
  {
   "cell_type": "markdown",
   "metadata": {},
   "source": [
    "#### prefix_sum\n",
    "\n",
    "사전에 미리 누적합을 구해놓는다"
   ]
  },
  {
   "cell_type": "markdown",
   "metadata": {},
   "source": [
    "#### 내가 다시 푼 코드"
   ]
  },
  {
   "cell_type": "code",
   "execution_count": 12,
   "metadata": {},
   "outputs": [],
   "source": [
    "N = 5\n",
    "M = 5\n",
    "data = [10, 20, 30, 40, 50]\n",
    "queries = [[1, 3], [2, 4], [3, 5], [1, 5], [4, 4]]"
   ]
  },
  {
   "cell_type": "code",
   "execution_count": 19,
   "metadata": {},
   "outputs": [],
   "source": [
    "def solution(data, queries):\n",
    "    ls = [0]\n",
    "    total = 0\n",
    "    for num in data:\n",
    "        total += num\n",
    "        ls.append(total)\n",
    "\n",
    "    result = []\n",
    "\n",
    "    for start, end in queries:\n",
    "        result.append(ls[end] - ls[start-1])\n",
    "\n",
    "    return result"
   ]
  },
  {
   "cell_type": "code",
   "execution_count": 21,
   "metadata": {},
   "outputs": [
    {
     "data": {
      "text/plain": [
       "[60, 90, 120, 150, 40]"
      ]
     },
     "execution_count": 21,
     "metadata": {},
     "output_type": "execute_result"
    }
   ],
   "source": [
    "solution(data, queries)"
   ]
  },
  {
   "cell_type": "code",
   "execution_count": 23,
   "metadata": {},
   "outputs": [
    {
     "data": {
      "text/plain": [
       "[0, 10, 30, 60, 100, 150]"
      ]
     },
     "execution_count": 23,
     "metadata": {},
     "output_type": "execute_result"
    }
   ],
   "source": [
    "from itertools import accumulate\n",
    "\n",
    "acc_data = [0] + list(accumulate(data))\n",
    "acc_data"
   ]
  },
  {
   "cell_type": "markdown",
   "metadata": {},
   "source": [
    "data 에서 0번째 부터 2번째 까지의 합은?"
   ]
  },
  {
   "cell_type": "code",
   "execution_count": null,
   "metadata": {},
   "outputs": [],
   "source": [
    "acc_data[2+1]"
   ]
  }
 ],
 "metadata": {
  "kernelspec": {
   "display_name": "Python 3",
   "language": "python",
   "name": "python3"
  },
  "language_info": {
   "codemirror_mode": {
    "name": "ipython",
    "version": 3
   },
   "file_extension": ".py",
   "mimetype": "text/x-python",
   "name": "python",
   "nbconvert_exporter": "python",
   "pygments_lexer": "ipython3",
   "version": "3.7.2"
  }
 },
 "nbformat": 4,
 "nbformat_minor": 2
}
