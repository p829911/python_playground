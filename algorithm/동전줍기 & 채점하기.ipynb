{
 "cells": [
  {
   "cell_type": "markdown",
   "metadata": {},
   "source": [
    "## 동전 줍기\n",
    "\n",
    "길에 떨어져 있는 많은 동전들의 위치와 갯수를 의미하는 리스트 `A`가 있습니다.\n",
    "\n",
    "당신은 길위에 동전을 수집하려고 합니다.\n",
    "\n",
    "출발하는 위치 `k`와 이동가능한 거리를 `m`이 주어질때,\n",
    "가장 많은 동전을 획득하려고하면 몇개를 획득할 수 있는지 알려주는 함수를 만드세요.\n",
    "\n",
    "\n",
    "예를 들어 `리스트 A`와 `k`, `m`이 아래와 같을때\n",
    "\n",
    "```\n",
    "A = [2, 3, 7, 5, 1, 3, 9]\n",
    "k=4\n",
    "m=6\n",
    "```\n",
    "\n",
    "가장 많은 동전을 주울수있는 방법은 아래와 같고\n",
    "\n",
    "```\n",
    "4번째에서 출발 - 1개 획득 \n",
    "왼쪽으로 이동  - 5개 획득 (1번이동)\n",
    "왼쪽으로 이동  - 7개 획득 (2번이동)\n",
    "오른쪽으로 이동 - 0개 획득 (3번이동)\n",
    "오른쪽으로 이동 - 0개 획득 (4번이동)\n",
    "오른쪽으로 이동 - 3개 획득 (5번이동)\n",
    "오른쪽으로 이동 - 9개 획득 (6번이동)\n",
    "```\n",
    "\n",
    "총\n",
    "`1, 5, 7, 3, 9` = 25개의 버섯을 주울 수 있다.\n",
    "\n",
    "25를 리턴하는 함수 `solution`을 생성하세요.\n",
    "\n",
    "**조건**\n",
    "\n",
    "`def solution(A, k, m):`\n",
    "\n",
    "`1 <= len(A) <= 10**5`\n",
    "\n",
    "`0 <= k, m <= 10**5`"
   ]
  },
  {
   "cell_type": "code",
   "execution_count": 95,
   "metadata": {},
   "outputs": [],
   "source": [
    "A = [2,3,7,5,1,3,9]\n",
    "k = 4\n",
    "m = 6"
   ]
  },
  {
   "cell_type": "markdown",
   "metadata": {},
   "source": [
    "### 나의 풀이"
   ]
  },
  {
   "cell_type": "code",
   "execution_count": 87,
   "metadata": {},
   "outputs": [],
   "source": [
    "def solution(A, k, m):\n",
    "    acc_ls = []\n",
    "    sum = A[k]\n",
    "    for i in range(k-1,-1,-1):\n",
    "        sum += A[i]\n",
    "        acc_ls.append(sum)\n",
    "    acc_ls = sorted(acc_ls, reverse=True)\n",
    "    acc_ls.append(A[k])\n",
    "\n",
    "    sum = 0\n",
    "    for j in range(k+1,len(A)):\n",
    "        sum += A[j]\n",
    "        acc_ls.append(sum)\n",
    "    \n",
    "    result = 0\n",
    "    min = k - m\n",
    "    if min < 0:\n",
    "        min = 0\n",
    "    max = k + m\n",
    "    if max > len(A)-1:\n",
    "        max = len(A)-1\n",
    "    result = A[min]\n",
    "    if result < A[max]:\n",
    "        result = A[max]\n",
    "    \n",
    "    for i in range(1, round(m/2)):\n",
    "        up = i\n",
    "        down = m - 2*i\n",
    "        if up + down > m:\n",
    "            continue\n",
    "        try:\n",
    "            if acc_ls[k+up] + acc_ls[k-down] > result:\n",
    "                result = acc_ls[k+up] + acc_ls[k-down]\n",
    "            if acc_ls[k-up] + acc_ls[k+down] > result:\n",
    "                result = acc_ls[k-up] + acc_ls[k+down]\n",
    "        except:\n",
    "            continue\n",
    "    \n",
    "    return result "
   ]
  },
  {
   "cell_type": "code",
   "execution_count": 88,
   "metadata": {},
   "outputs": [
    {
     "data": {
      "text/plain": [
       "25"
      ]
     },
     "execution_count": 88,
     "metadata": {},
     "output_type": "execute_result"
    }
   ],
   "source": [
    "solution(A, k, m)"
   ]
  },
  {
   "cell_type": "markdown",
   "metadata": {},
   "source": [
    "### 강사님 풀이"
   ]
  },
  {
   "cell_type": "code",
   "execution_count": 98,
   "metadata": {},
   "outputs": [],
   "source": [
    "from math import ceil\n",
    "\n",
    "def accumulate(A):\n",
    "    result = [0]\n",
    "    for a in A:\n",
    "        result.append(result[-1]+a)\n",
    "    return result\n",
    "\n",
    "def range_sum(A, x, y):\n",
    "    return A[y+1] - A[x]\n",
    "\n",
    "def solution(A, k, m):\n",
    "    acc_A = accumulate(A)\n",
    "    \n",
    "    result = A[k]\n",
    "    \n",
    "    # 왼쪽으로 출발 후에 오른쪽으로 방향 이동\n",
    "    for left in range(0, ceil(m/2)): # 왼쪽으로 0번 이동한 것 포함, 즉 오른쪽으로만 이동한 경우 포함\n",
    "        right = m - (left*2)\n",
    "        \n",
    "        left_idx = max(k-left, 0) # IndexError 방지\n",
    "        right_idx = min(len(A)-1, k+right) # IndexError 방지\n",
    "        \n",
    "        result = max(result, range_sum(acc_A, left_idx, right_idx))\n",
    "    \n",
    "    # 오른쪽으로 출발 후에 왼쪽으로 방향 이동\n",
    "    # 동일하게 작성\n",
    "    return result"
   ]
  },
  {
   "cell_type": "markdown",
   "metadata": {},
   "source": [
    "# 채점하기\n",
    "\n",
    "\n",
    "매주 금요일 알고리즘 테스트 결과를 채점하기 귀찮아졌습니다.\n",
    "\n",
    "그래서 직접하지 않고, 수강생분들에게 공부가 된다는 사탕발림으로 서로의 시험결과를 채점하게 하려고합니다.\n",
    "\n",
    "단, 양심적으로 진행하기 위해서 그 누구도 자신의 시험을 채점하지 않는다고 할때.\n",
    "\n",
    "채점할 수 있는 경우의 수를 구하는 함수를 구하세요.\n",
    "\n",
    "\n",
    "는 \n",
    "\n",
    "`n=1`일때 0개\n",
    "`n=2`일때 1개\n",
    "그리고 `n>=3`일때\n",
    "\n",
    "`(n-1) * ( (n-1)명이서 서로 채점하는 경우의 수 + (n-2)명이서 서로 채점하는 경우의 수))` 라는 특징을 따른다고 합니다.\n",
    "\n",
    "`def solution(n):`함수를 생성하세요.\n",
    "\n",
    "**조건**\n",
    "\n",
    "`1 <= n <= 1000`"
   ]
  },
  {
   "cell_type": "code",
   "execution_count": 105,
   "metadata": {},
   "outputs": [],
   "source": [
    "def solution(n):\n",
    "    if n <= 2:\n",
    "        return n-1\n",
    "    return (n-1) * (solution(n-1) + solution(n-2))"
   ]
  },
  {
   "cell_type": "code",
   "execution_count": 107,
   "metadata": {},
   "outputs": [
    {
     "name": "stdout",
     "output_type": "stream",
     "text": [
      "CPU times: user 489 ms, sys: 2.07 ms, total: 491 ms\n",
      "Wall time: 490 ms\n"
     ]
    },
    {
     "data": {
      "text/plain": [
       "3025013288941909109703700275299910"
      ]
     },
     "execution_count": 107,
     "metadata": {},
     "output_type": "execute_result"
    }
   ],
   "source": [
    "%%time\n",
    "solution(31)"
   ]
  },
  {
   "cell_type": "markdown",
   "metadata": {},
   "source": [
    "### memorization function 중요"
   ]
  },
  {
   "cell_type": "code",
   "execution_count": 113,
   "metadata": {},
   "outputs": [],
   "source": [
    "def deco(func):\n",
    "    m = {}\n",
    "    def inner(n):\n",
    "        if not m.get(n):\n",
    "            result = func(n)\n",
    "            m[n] = result\n",
    "        return m[n]\n",
    "    return inner"
   ]
  },
  {
   "cell_type": "code",
   "execution_count": 114,
   "metadata": {},
   "outputs": [],
   "source": [
    "@deco\n",
    "def solution(n):\n",
    "    if n <= 2:\n",
    "        return n-1\n",
    "    return (n-1) * (solution(n-1) + solution(n-2))"
   ]
  },
  {
   "cell_type": "code",
   "execution_count": 116,
   "metadata": {},
   "outputs": [
    {
     "name": "stdout",
     "output_type": "stream",
     "text": [
      "CPU times: user 6 µs, sys: 1 µs, total: 7 µs\n",
      "Wall time: 11 µs\n"
     ]
    }
   ],
   "source": [
    "%%time\n",
    "_ = solution(1000)"
   ]
  },
  {
   "cell_type": "code",
   "execution_count": 108,
   "metadata": {},
   "outputs": [],
   "source": [
    "def deco(func):\n",
    "    return print"
   ]
  },
  {
   "cell_type": "code",
   "execution_count": 110,
   "metadata": {},
   "outputs": [],
   "source": [
    "@deco\n",
    "def test(a, b, c):\n",
    "    return a + b + c"
   ]
  },
  {
   "cell_type": "code",
   "execution_count": 112,
   "metadata": {},
   "outputs": [
    {
     "name": "stdout",
     "output_type": "stream",
     "text": [
      "hello word!:\n"
     ]
    }
   ],
   "source": [
    "test(\"hello word!:\")"
   ]
  },
  {
   "cell_type": "markdown",
   "metadata": {},
   "source": [
    "### 코드 실행시간 정확히 측정하는법"
   ]
  },
  {
   "cell_type": "code",
   "execution_count": 121,
   "metadata": {},
   "outputs": [],
   "source": [
    "import time\n",
    "\n",
    "start = time.perf_counter()\n",
    "\n",
    "end = time.perf_counter()\n",
    "\n",
    "end - start"
   ]
  },
  {
   "cell_type": "markdown",
   "metadata": {},
   "source": [
    "### Type 확인"
   ]
  },
  {
   "cell_type": "code",
   "execution_count": 122,
   "metadata": {},
   "outputs": [
    {
     "data": {
      "text/plain": [
       "True"
      ]
     },
     "execution_count": 122,
     "metadata": {},
     "output_type": "execute_result"
    }
   ],
   "source": [
    "isinstance(1, int)"
   ]
  },
  {
   "cell_type": "code",
   "execution_count": null,
   "metadata": {},
   "outputs": [],
   "source": [
    "callable(func)"
   ]
  },
  {
   "cell_type": "markdown",
   "metadata": {},
   "source": [
    "async"
   ]
  },
  {
   "cell_type": "code",
   "execution_count": 125,
   "metadata": {},
   "outputs": [
    {
     "data": {
      "text/plain": [
       "99"
      ]
     },
     "execution_count": 125,
     "metadata": {},
     "output_type": "execute_result"
    }
   ],
   "source": [
    "a = 'c'\n",
    "ord(a)"
   ]
  },
  {
   "cell_type": "code",
   "execution_count": null,
   "metadata": {},
   "outputs": [],
   "source": []
  }
 ],
 "metadata": {
  "kernelspec": {
   "display_name": "Python 3",
   "language": "python",
   "name": "python3"
  },
  "language_info": {
   "codemirror_mode": {
    "name": "ipython",
    "version": 3
   },
   "file_extension": ".py",
   "mimetype": "text/x-python",
   "name": "python",
   "nbconvert_exporter": "python",
   "pygments_lexer": "ipython3",
   "version": "3.7.2"
  }
 },
 "nbformat": 4,
 "nbformat_minor": 2
}
