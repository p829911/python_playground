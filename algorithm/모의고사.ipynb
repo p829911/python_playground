{
 "cells": [
  {
   "cell_type": "markdown",
   "metadata": {},
   "source": [
    "# 모의고사"
   ]
  },
  {
   "cell_type": "markdown",
   "metadata": {},
   "source": [
    "### 문제 설명\n",
    "\n",
    "수포자는 수학을 포기한 사람의 준말입니다. 수포자 삼인방은 모의고사에 수학 문제를 전부 찍으려 합니다. 수포자는 1번 문제부터 마지막 문제까지 다음과 같이 찍습니다.\n",
    "\n",
    "1번 수포자가 찍는 방식: 1, 2, 3, 4, 5, 1, 2, 3, 4, 5, ...  \n",
    "2번 수포자가 찍는 방식: 2, 1, 2, 3, 2, 4, 2, 5, 2, 1, 2, 3, 2, 4, 2, 5, ...  \n",
    "3번 수포자가 찍는 방식: 3, 3, 1, 1, 2, 2, 4, 4, 5, 5, 3, 3, 1, 1, 2, 2, 4, 4, 5, 5, ...  \n",
    "\n",
    "1번 문제부터 마지막 문제까지의 정답이 순서대로 들은 배열 answers가 주어졌을 때, 가장 많은 문제를 맞힌 사람이 누구인지 배열에 담아 return 하도록 solution 함수를 작성해주세요.\n",
    "\n",
    "### 제한 조건\n",
    "- 시험은 최대 10,000 문제로 구성되어 있습니다.\n",
    "- 문제의 정답은 1, 2, 3, 4, 5 중 하나입니다.\n",
    "- 가장 높은 점수를 받은 사람이 여럿일 경우, return 하는 값을 오름차순 정렬해주세요\n",
    "\n",
    "### 입출력 예\n",
    "\n",
    "|answers|return|\n",
    "|--|--|\n",
    "|[1,2,3,4,5]|[1]|\n",
    "|[1,3,2,4,2]|[1,2,3]|\n",
    "\n",
    "### 입출력 예 설명\n",
    "입출력 예 # 1\n",
    "- 수포자 1은 모든 문제를 맞혔습니다.\n",
    "- 수포자 2는 모든 문제를 틀렸습니다.\n",
    "- 수포자 3은 모든 문제를 틀렸습니다.\n",
    "\n",
    "따라서 가장 문제를 많이 맞힌 사람은 수포자 1입니다.\n",
    "\n",
    "입출력 예 # 2\n",
    "- 수포자 1은 [1,4]번 문제를 맞혔습니다.\n",
    "- 수포자 2는 다섯 번째 문제를 맞혔습니다."
   ]
  },
  {
   "cell_type": "markdown",
   "metadata": {},
   "source": [
    "### 나의 풀이"
   ]
  },
  {
   "cell_type": "code",
   "execution_count": 3,
   "metadata": {},
   "outputs": [],
   "source": [
    "def solution(answer):\n",
    "    dic = {1: 0, 2: 0, 3: 0}\n",
    "    math1 = [1,2,3,4,5] * 8\n",
    "    math2 = [2,1,2,3,2,4,2,5] * 5\n",
    "    math3 = [3,3,1,1,2,2,4,4,5,5] * 4\n",
    "\n",
    "    mul = 2\n",
    "    while len(math1) < len(answer):\n",
    "        math1 = math1 * mul\n",
    "        math2 = math2 * mul\n",
    "        math3 = math3 * mul\n",
    "        mul += 1\n",
    "\n",
    "    for i in range(len(answer)):      \n",
    "        if math1[i] == answer[i]:\n",
    "            dic[1] += 1\n",
    "        if math2[i] == answer[i]:\n",
    "            dic[2] += 1\n",
    "        if math3[i] == answer[i]:\n",
    "            dic[3] += 1\n",
    "    \n",
    "    max_num = max(dic.values())\n",
    "    \n",
    "    ls = []\n",
    "    for i in range(1, 4):\n",
    "        if dic.get(i) > (max_num-1):\n",
    "            ls.append(i)\n",
    "            \n",
    "    \n",
    "    return sorted(ls)"
   ]
  },
  {
   "cell_type": "code",
   "execution_count": 4,
   "metadata": {},
   "outputs": [
    {
     "data": {
      "text/plain": [
       "[1]"
      ]
     },
     "execution_count": 4,
     "metadata": {},
     "output_type": "execute_result"
    }
   ],
   "source": [
    "solution([1,2,3,4,5])"
   ]
  },
  {
   "cell_type": "markdown",
   "metadata": {},
   "source": [
    "### 다른 사람의 풀이"
   ]
  },
  {
   "cell_type": "code",
   "execution_count": 5,
   "metadata": {},
   "outputs": [],
   "source": [
    "def solution(answers):\n",
    "    pattern1 = [1,2,3,4,5]\n",
    "    pattern2 = [2,1,2,3,2,4,2,5]\n",
    "    pattern3 = [3,3,1,1,2,2,4,4,5,5]\n",
    "    score = [0,0,0]\n",
    "    result = []\n",
    "    \n",
    "    for idx, answer in enumerate(answers):\n",
    "        if answer == pattern1[idx%len(pattern1)]:\n",
    "            score[0] += 1\n",
    "        if answer == pattern2[idx%len(pattern2)]:\n",
    "            score[1] += 1\n",
    "        if answer == pattern3[idx%len(pattern3)]:\n",
    "            score[2] += 1\n",
    "            \n",
    "    for idx, s in enumerate(score):\n",
    "        if s == max(score):\n",
    "            result.append(idx+1)\n",
    "            \n",
    "    return result"
   ]
  },
  {
   "cell_type": "code",
   "execution_count": 6,
   "metadata": {},
   "outputs": [
    {
     "data": {
      "text/plain": [
       "[1]"
      ]
     },
     "execution_count": 6,
     "metadata": {},
     "output_type": "execute_result"
    }
   ],
   "source": [
    "solution([1,2,3,4,5])"
   ]
  },
  {
   "cell_type": "markdown",
   "metadata": {},
   "source": [
    "### 한계점\n",
    "- %를 이용한 몫 계산을 생각하지 못했다.\n",
    "- 1 % 5 = 1, 5 % 5 = 0, 6 % 5 = 1\n",
    "- 마지막 결과가 ascending 이면 되기 때문에 range와 for을 이용해 앞 index 부터 접근하는 경우 sorted 함수를 안써도 됐다."
   ]
  },
  {
   "cell_type": "code",
   "execution_count": null,
   "metadata": {},
   "outputs": [],
   "source": []
  }
 ],
 "metadata": {
  "kernelspec": {
   "display_name": "Python 3",
   "language": "python",
   "name": "python3"
  },
  "language_info": {
   "codemirror_mode": {
    "name": "ipython",
    "version": 3
   },
   "file_extension": ".py",
   "mimetype": "text/x-python",
   "name": "python",
   "nbconvert_exporter": "python",
   "pygments_lexer": "ipython3",
   "version": "3.7.1"
  }
 },
 "nbformat": 4,
 "nbformat_minor": 2
}
