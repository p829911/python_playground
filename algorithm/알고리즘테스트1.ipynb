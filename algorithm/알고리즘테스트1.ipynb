{
 "cells": [
  {
   "cell_type": "markdown",
   "metadata": {},
   "source": [
    "# 1번"
   ]
  },
  {
   "cell_type": "code",
   "execution_count": null,
   "metadata": {},
   "outputs": [],
   "source": [
    "# N은 게임의 총 스테이지\n",
    "# stage = list 각 유저가 현재 머물고 있는 stage 정보\n",
    "5, [2, 1, 2, 6, 2, 4, 3, 3]\n",
    "def solution(N, stages):\n",
    "    pass"
   ]
  },
  {
   "cell_type": "code",
   "execution_count": 78,
   "metadata": {},
   "outputs": [],
   "source": [
    "def test(func):\n",
    "    cases = [\n",
    "        (5, [2, 1, 2, 6, 2, 4, 3, 3]),\n",
    "        (4, [4, 4, 4, 4, 4]),\n",
    "        (10, [3, 4, 5, 3, 4, 4]),\n",
    "        (10, [9])\n",
    "    ]\n",
    "    results = [\n",
    "        [3, 4, 2, 1, 5],\n",
    "        [4, 1, 2, 3],\n",
    "        [5, 4, 3, 1, 2, 6, 7, 8, 9, 10],\n",
    "        [9, 1, 2, 3, 4, 5, 6, 7, 8, 10]\n",
    "    ]\n",
    "    for i, case in enumerate(cases):\n",
    "        try:\n",
    "            assert func(*case) == results[i]\n",
    "        except AssertionError:\n",
    "            print(func(*case), case)\n",
    "            raise\n",
    "        print(\"success: \", i)\n",
    "    print(\"SUCCESS\")0"
   ]
  },
  {
   "cell_type": "code",
   "execution_count": 79,
   "metadata": {},
   "outputs": [],
   "source": [
    "def solution(N, stages):\n",
    "    result = { x: 0 for x in range(1, N+1) }\n",
    "    donominator = len(stages)\n",
    "    for stage in range(1, N+1): # N번 반복\n",
    "        #stage = [2, 1, 2, 6, 2, 4, 3, 3]\n",
    "        if not donominator:\n",
    "            break\n",
    "        count = stages.count(stage)\n",
    "        result[stage] = count / donominator # M번 반복 M * N\n",
    "        donominator -= count\n",
    "    return sorted(result, key=lambda x : (result[x], -x), reverse=True) # M번\n",
    "# M * N + M = (M+1) * N => M * N"
   ]
  },
  {
   "cell_type": "code",
   "execution_count": 80,
   "metadata": {},
   "outputs": [
    {
     "data": {
      "text/plain": [
       "[3, 4, 2, 1, 5]"
      ]
     },
     "execution_count": 80,
     "metadata": {},
     "output_type": "execute_result"
    }
   ],
   "source": [
    "solution(5, [2, 1, 2, 6, 2, 4, 3, 3])"
   ]
  },
  {
   "cell_type": "code",
   "execution_count": 81,
   "metadata": {},
   "outputs": [
    {
     "name": "stdout",
     "output_type": "stream",
     "text": [
      "success:  0\n",
      "success:  1\n",
      "success:  2\n",
      "success:  3\n",
      "SUCCESS\n"
     ]
    }
   ],
   "source": [
    "test(solution)"
   ]
  },
  {
   "cell_type": "code",
   "execution_count": 82,
   "metadata": {},
   "outputs": [],
   "source": [
    "dd = {'a': 3, 'b' : 2, 'c' : 1}"
   ]
  },
  {
   "cell_type": "code",
   "execution_count": 84,
   "metadata": {},
   "outputs": [
    {
     "data": {
      "text/plain": [
       "['c', 'b', 'a']"
      ]
     },
     "execution_count": 84,
     "metadata": {},
     "output_type": "execute_result"
    }
   ],
   "source": [
    "sorted(dd, key=lambda x : dd[x])"
   ]
  },
  {
   "cell_type": "markdown",
   "metadata": {},
   "source": [
    "# 2번"
   ]
  },
  {
   "cell_type": "code",
   "execution_count": 85,
   "metadata": {},
   "outputs": [],
   "source": [
    "def solution(A, B, K):\n",
    "    count = 0\n",
    "    for number in range(A, B+1):\n",
    "        if number % K == 0:\n",
    "            count += 1\n",
    "    return count"
   ]
  },
  {
   "cell_type": "code",
   "execution_count": 86,
   "metadata": {},
   "outputs": [],
   "source": [
    "from math import ceil\n",
    "\n",
    "def solution(A, B, K):\n",
    "    start_n = ceil(A/K) # A를 K로 나눈 숫자의 올림\n",
    "    end_n = B // K # B를 K로 나눈 숫자의 내림\n",
    "    return lend(range(start_n, end_n+1))"
   ]
  },
  {
   "cell_type": "markdown",
   "metadata": {},
   "source": [
    "# 추가 과제\n",
    "1. 딕셔너리를 csv파일로, csv파일을 딕셔너리로  변환하는 함수\n",
    "2. 내장함수 all, any를 구현\n",
    "3. 딕셔너리를 value 기준으로 정렬\n",
    "4. 숫자(10진법)를 받아서 2진법(8진법, 16진법으로 변환하는) 각각의 함수\n",
    "\n",
    "**csv 형태**\n",
    "₩₩₩\n",
    "name, age, nickname, email\n",
    "홍길동, 20, 홍홍홍, hong@gmail.com\n",
    "유관순, 30, 관순이누나, uuu@naver.com\n",
    "...\n",
    "₩₩₩\n",
    "\n",
    "[\n",
    "    {'nama' : '홍길동',\n",
    "    'age' : 20,\n",
    "    'email : 'hong@gmail.com'},\n",
    "    {'nama' : '유관순',\n",
    "    'age' : 30,\n",
    "    'email : 'uuu@naver.com'}\n",
    "]"
   ]
  },
  {
   "cell_type": "code",
   "execution_count": 88,
   "metadata": {},
   "outputs": [
    {
     "data": {
      "text/plain": [
       "True"
      ]
     },
     "execution_count": 88,
     "metadata": {},
     "output_type": "execute_result"
    }
   ],
   "source": [
    "any([False, False, False, True])"
   ]
  },
  {
   "cell_type": "code",
   "execution_count": 89,
   "metadata": {},
   "outputs": [
    {
     "data": {
      "text/plain": [
       "False"
      ]
     },
     "execution_count": 89,
     "metadata": {},
     "output_type": "execute_result"
    }
   ],
   "source": [
    "all([False, False, False, True])"
   ]
  },
  {
   "cell_type": "code",
   "execution_count": 90,
   "metadata": {},
   "outputs": [
    {
     "data": {
      "text/plain": [
       "['__add__',\n",
       " '__class__',\n",
       " '__contains__',\n",
       " '__delattr__',\n",
       " '__delitem__',\n",
       " '__dir__',\n",
       " '__doc__',\n",
       " '__eq__',\n",
       " '__format__',\n",
       " '__ge__',\n",
       " '__getattribute__',\n",
       " '__getitem__',\n",
       " '__gt__',\n",
       " '__hash__',\n",
       " '__iadd__',\n",
       " '__imul__',\n",
       " '__init__',\n",
       " '__init_subclass__',\n",
       " '__iter__',\n",
       " '__le__',\n",
       " '__len__',\n",
       " '__lt__',\n",
       " '__mul__',\n",
       " '__ne__',\n",
       " '__new__',\n",
       " '__reduce__',\n",
       " '__reduce_ex__',\n",
       " '__repr__',\n",
       " '__reversed__',\n",
       " '__rmul__',\n",
       " '__setattr__',\n",
       " '__setitem__',\n",
       " '__sizeof__',\n",
       " '__str__',\n",
       " '__subclasshook__',\n",
       " 'append',\n",
       " 'clear',\n",
       " 'copy',\n",
       " 'count',\n",
       " 'extend',\n",
       " 'index',\n",
       " 'insert',\n",
       " 'pop',\n",
       " 'remove',\n",
       " 'reverse',\n",
       " 'sort']"
      ]
     },
     "execution_count": 90,
     "metadata": {},
     "output_type": "execute_result"
    }
   ],
   "source": [
    "dir(list)"
   ]
  },
  {
   "cell_type": "code",
   "execution_count": 92,
   "metadata": {},
   "outputs": [
    {
     "name": "stdout",
     "output_type": "stream",
     "text": [
      "Help on method_descriptor:\n",
      "\n",
      "pop(self, index=-1, /)\n",
      "    Remove and return item at index (default last).\n",
      "    \n",
      "    Raises IndexError if list is empty or index is out of range.\n",
      "\n"
     ]
    }
   ],
   "source": [
    "help(list.pop)"
   ]
  },
  {
   "cell_type": "code",
   "execution_count": 97,
   "metadata": {},
   "outputs": [],
   "source": [
    "import functools, itertools, collections, os, sys"
   ]
  },
  {
   "cell_type": "code",
   "execution_count": null,
   "metadata": {},
   "outputs": [],
   "source": []
  }
 ],
 "metadata": {
  "kernelspec": {
   "display_name": "Python 3",
   "language": "python",
   "name": "python3"
  },
  "language_info": {
   "codemirror_mode": {
    "name": "ipython",
    "version": 3
   },
   "file_extension": ".py",
   "mimetype": "text/x-python",
   "name": "python",
   "nbconvert_exporter": "python",
   "pygments_lexer": "ipython3",
   "version": "3.7.0"
  }
 },
 "nbformat": 4,
 "nbformat_minor": 2
}
