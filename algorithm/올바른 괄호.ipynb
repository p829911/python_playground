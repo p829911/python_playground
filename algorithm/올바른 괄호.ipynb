{
 "cells": [
  {
   "cell_type": "markdown",
   "metadata": {},
   "source": [
    "### 문제 설명\n",
    "올바른 괄호란 두 개의 괄호 '(' 와 ')' 만으로 구성되어 있고, 괄호가 올바르게 짝지어진 문자열입니다. 괄호가 올바르게 짝지어졌다는 것은 '(' 문자로 열렸으면 반드시 짝지어서 ')' 문자로 닫혀야 합니다.\n",
    "예를들어\n",
    "\n",
    "- \"()()\" 또는 \"(())()\" 는 올바른 괄호입니다.\n",
    "- \")()(\" 또는 \"(()(\" 는 올바르지 않은 괄호입니다.\n",
    "\n",
    "'(' 또는 ')' 로만 이루어진 문자열 s가 주어졌을 때, 문자열 s가 올바른 괄호이면 true를 return 하고, 올바르지 않은 괄호이면 false를 return하는 solution 함수를 완성해 주세요.\n",
    "\n",
    "### 제한사항\n",
    "- 문자열 s의 길이 : 100,000 이하의 자연수\n",
    "- 문자열 s는 '(' 또는 ')' 로만 이루어져 있습니다.\n",
    "\n",
    "### 입출력 예\n",
    "|s|answer|\n",
    "|--|--|\n",
    "|\"()()\"|true|\n",
    "|\"(())()\"|true|\n",
    "|\")()(\"|false|\n",
    "|\"(()(\"|false|\n",
    "\n",
    "### 입출력 예 설명\n",
    "입출력 예 #1,2,3,4  \n",
    "문제의 예시와 같습니다."
   ]
  },
  {
   "cell_type": "code",
   "execution_count": 72,
   "metadata": {},
   "outputs": [],
   "source": [
    "s = \"(())()\""
   ]
  },
  {
   "cell_type": "code",
   "execution_count": 74,
   "metadata": {},
   "outputs": [],
   "source": [
    "s = \"()()\""
   ]
  },
  {
   "cell_type": "code",
   "execution_count": 76,
   "metadata": {},
   "outputs": [],
   "source": [
    "s = \")()(\""
   ]
  },
  {
   "cell_type": "code",
   "execution_count": 80,
   "metadata": {},
   "outputs": [],
   "source": [
    "s = \"(()(\""
   ]
  },
  {
   "cell_type": "markdown",
   "metadata": {},
   "source": [
    "### 나의 첫번째 풀이"
   ]
  },
  {
   "cell_type": "code",
   "execution_count": 27,
   "metadata": {},
   "outputs": [],
   "source": [
    "def solution(s):\n",
    "    for _ in range(50000):\n",
    "        s = s.replace(\"()\",\"\")\n",
    "        if not s:\n",
    "            return True\n",
    "    return False"
   ]
  },
  {
   "cell_type": "markdown",
   "metadata": {},
   "source": [
    "### 효율성 테스트 실패"
   ]
  },
  {
   "cell_type": "markdown",
   "metadata": {},
   "source": [
    "### 나의 두번째 풀이"
   ]
  },
  {
   "cell_type": "code",
   "execution_count": 50,
   "metadata": {},
   "outputs": [],
   "source": [
    "def solution(s):\n",
    "    if len(s) % 2:\n",
    "        return False\n",
    "    while True:\n",
    "        s_rep = s.replace(\"()\",\"\")\n",
    "        if s_rep == s:\n",
    "            return False\n",
    "        elif not s_rep:\n",
    "            return True\n",
    "        s = s_rep"
   ]
  },
  {
   "cell_type": "markdown",
   "metadata": {},
   "source": [
    "### 효율성 테스트 실패"
   ]
  },
  {
   "cell_type": "markdown",
   "metadata": {},
   "source": [
    "### 나의 세번째 풀이"
   ]
  },
  {
   "cell_type": "code",
   "execution_count": 83,
   "metadata": {},
   "outputs": [],
   "source": [
    "def solution(s):\n",
    "    num = 0\n",
    "    for char in s:\n",
    "        if num < 0:\n",
    "            return False\n",
    "        if char == \"(\":\n",
    "            num += 1\n",
    "        elif char == \")\":\n",
    "            num -= 1\n",
    "    if not num:\n",
    "        return True\n",
    "    else:\n",
    "        return False"
   ]
  },
  {
   "cell_type": "code",
   "execution_count": 84,
   "metadata": {},
   "outputs": [
    {
     "data": {
      "text/plain": [
       "False"
      ]
     },
     "execution_count": 84,
     "metadata": {},
     "output_type": "execute_result"
    }
   ],
   "source": [
    "solution(s)"
   ]
  },
  {
   "cell_type": "markdown",
   "metadata": {},
   "source": [
    "### 통과"
   ]
  }
 ],
 "metadata": {
  "kernelspec": {
   "display_name": "Python 3",
   "language": "python",
   "name": "python3"
  },
  "language_info": {
   "codemirror_mode": {
    "name": "ipython",
    "version": 3
   },
   "file_extension": ".py",
   "mimetype": "text/x-python",
   "name": "python",
   "nbconvert_exporter": "python",
   "pygments_lexer": "ipython3",
   "version": "3.7.2"
  }
 },
 "nbformat": 4,
 "nbformat_minor": 2
}
