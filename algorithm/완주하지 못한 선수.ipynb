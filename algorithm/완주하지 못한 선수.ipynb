{
 "cells": [
  {
   "cell_type": "markdown",
   "metadata": {},
   "source": [
    "## 완주하지 못한 선수"
   ]
  },
  {
   "cell_type": "markdown",
   "metadata": {},
   "source": [
    "### 문제 설명\n",
    "수많은 마라톤 선수들이 마라톤에 참여하였습니다. 단 한 명의 선수를 제외하고는 모든 선수가 마라톤을 완주하였습니다.\n",
    "\n",
    "마라톤에 참여한 선수들의 이름이 담긴 배열 participant와 완주한 선수들의 이름이 담긴 배열 completion이 주어질 때, 완주하지 못한 선수의 이름을 return 하도록 solution 함수를 작성해주세요.\n",
    "\n",
    "### 제한사항\n",
    "- 마라톤 경기에 참여한 선수의 수는 1명 이상 100,000명 이하입니다.\n",
    "- completion의 길이는 participant의 길이보다 1 작습니다.\n",
    "- 참가자의 이름은 1개 이상 20개 이하의 알파벳 소문자로 이루어져 있습니다.\n",
    "- 참가자 중에는 동명이인이 있을 수 있습니다.\n",
    "\n",
    "### 입출력 예\n",
    "|participant|completion|return|\n",
    "|--|--|--|\n",
    "|[\"leo\", \"kiki\", \"eden\"]|[\"eden\", \"kiki\"]|\"leo\"|\n",
    "|[\"marina\", \"josipa\", \"nikola\", \"vinko\", \"filipa\"]|[\"josipa\", \"filipa\", \"marina\", \"nikola\"]|\"vinko\"|\n",
    "|[\"mislav\", \"stanko\", \"mislav\", \"ana\"]|[\"stanko\", \"ana\", \"mislav\"]|\"mislav\"|\n",
    "\n",
    "### 입출력 예 설명\n",
    "예제 #1\n",
    "\n",
    "leo는 참여자 명단에는 있지만, 완주자 명단에는 없기 때문에 완주하지 못했습니다.\n",
    "\n",
    "예제 #2\n",
    "\n",
    "vinko는 참여자 명단에는 있지만, 완주자 명단에는 없기 때문에 완주하지 못했습니다.\n",
    "\n",
    "예제 #3\n",
    "\n",
    "mislav는 참여자 명단에는 두 명이 있지만, 완주자 명단에는 한 명밖에 없기 때문에 한명은 완주하지 못했습니다.\n",
    "\n",
    "[프로그래머스](https://programmers.co.kr/learn/courses/30/lessons/42576?language=python3)"
   ]
  },
  {
   "cell_type": "markdown",
   "metadata": {},
   "source": [
    "### **첫번째 시도**"
   ]
  },
  {
   "cell_type": "code",
   "execution_count": 1,
   "metadata": {},
   "outputs": [],
   "source": [
    "participant = [\n",
    "    [\"leo\", \"kiki\", \"eden\"],\n",
    "    [\"marina\", \"josipa\", \"nikola\", \"vinko\", \"filipa\"],\n",
    "    [\"mislav\", \"stanko\", \"mislav\", \"ana\"],\n",
    "]\n",
    "completion =[\n",
    "    [\"eden\", \"kiki\"],\n",
    "    [\"josipa\", \"filipa\", \"marina\", \"nikola\"],\n",
    "    [\"stanko\", \"ana\", \"mislav\"],\n",
    "]"
   ]
  },
  {
   "cell_type": "code",
   "execution_count": 2,
   "metadata": {},
   "outputs": [],
   "source": [
    "def solution(participant, completion):\n",
    "    for c in completion:\n",
    "        participant.remove(c)\n",
    "    return participant[0]"
   ]
  },
  {
   "cell_type": "code",
   "execution_count": 3,
   "metadata": {},
   "outputs": [
    {
     "name": "stdout",
     "output_type": "stream",
     "text": [
      "leo\n",
      "vinko\n",
      "mislav\n",
      "CPU times: user 164 µs, sys: 99 µs, total: 263 µs\n",
      "Wall time: 184 µs\n"
     ]
    }
   ],
   "source": [
    "%%time\n",
    "for p, c in zip(participant, completion):\n",
    "    print(solution(p, c))"
   ]
  },
  {
   "cell_type": "markdown",
   "metadata": {},
   "source": [
    "#### 정확성: 50 효율성: 0"
   ]
  },
  {
   "cell_type": "markdown",
   "metadata": {},
   "source": [
    "### **두번째 시도**"
   ]
  },
  {
   "cell_type": "code",
   "execution_count": 4,
   "metadata": {},
   "outputs": [],
   "source": [
    "participant = [\n",
    "    [\"leo\", \"kiki\", \"eden\"],\n",
    "    [\"marina\", \"josipa\", \"nikola\", \"vinko\", \"filipa\"],\n",
    "    [\"mislav\", \"stanko\", \"mislav\", \"ana\"],\n",
    "]\n",
    "completion =[\n",
    "    [\"eden\", \"kiki\"],\n",
    "    [\"josipa\", \"filipa\", \"marina\", \"nikola\"],\n",
    "    [\"stanko\", \"ana\", \"mislav\"],\n",
    "]"
   ]
  },
  {
   "cell_type": "code",
   "execution_count": 5,
   "metadata": {},
   "outputs": [],
   "source": [
    "def solution(participant, completion):\n",
    "    dic = {}\n",
    "    for p in participant:\n",
    "        try: dic[p] += 1\n",
    "        except: dic[p] = 1\n",
    "\n",
    "    for c in completion:\n",
    "        if c in dic:\n",
    "            dic[c] -= 1\n",
    "            if dic[c] == 0:\n",
    "                del dic[c]\n",
    "    return list(dic.keys())[0]"
   ]
  },
  {
   "cell_type": "code",
   "execution_count": 6,
   "metadata": {},
   "outputs": [
    {
     "name": "stdout",
     "output_type": "stream",
     "text": [
      "leo\n",
      "vinko\n",
      "mislav\n",
      "CPU times: user 276 µs, sys: 116 µs, total: 392 µs\n",
      "Wall time: 331 µs\n"
     ]
    }
   ],
   "source": [
    "%%time\n",
    "for p, c in zip(participant, completion):\n",
    "    print(solution(p, c))"
   ]
  },
  {
   "cell_type": "markdown",
   "metadata": {},
   "source": [
    "#### 통과"
   ]
  },
  {
   "cell_type": "code",
   "execution_count": 7,
   "metadata": {},
   "outputs": [],
   "source": [
    "## 내장 함수 보기\n",
    "## dir(__builtins__)"
   ]
  },
  {
   "cell_type": "markdown",
   "metadata": {},
   "source": [
    "### **다른 사람들의 풀이**"
   ]
  },
  {
   "cell_type": "markdown",
   "metadata": {},
   "source": [
    "### 1"
   ]
  },
  {
   "cell_type": "code",
   "execution_count": 8,
   "metadata": {},
   "outputs": [],
   "source": [
    "from collections import Counter"
   ]
  },
  {
   "cell_type": "code",
   "execution_count": 9,
   "metadata": {},
   "outputs": [],
   "source": [
    "def solution(participant , completion):\n",
    "    answer = Counter(participant) - Counter(completion)\n",
    "    return list(answer.keys())[0]"
   ]
  },
  {
   "cell_type": "code",
   "execution_count": 10,
   "metadata": {},
   "outputs": [],
   "source": [
    "participant = [\n",
    "    [\"leo\", \"kiki\", \"eden\"],\n",
    "    [\"marina\", \"josipa\", \"nikola\", \"vinko\", \"filipa\"],\n",
    "    [\"mislav\", \"stanko\", \"mislav\", \"ana\"],\n",
    "]\n",
    "completion =[\n",
    "    [\"eden\", \"kiki\"],\n",
    "    [\"josipa\", \"filipa\", \"marina\", \"nikola\"],\n",
    "    [\"stanko\", \"ana\", \"mislav\"],\n",
    "]"
   ]
  },
  {
   "cell_type": "code",
   "execution_count": 11,
   "metadata": {},
   "outputs": [
    {
     "name": "stdout",
     "output_type": "stream",
     "text": [
      "leo\n",
      "vinko\n",
      "mislav\n",
      "CPU times: user 316 µs, sys: 114 µs, total: 430 µs\n",
      "Wall time: 381 µs\n"
     ]
    }
   ],
   "source": [
    "%%time\n",
    "for p, c in zip(participant, completion):\n",
    "    print(solution(p, c))"
   ]
  },
  {
   "cell_type": "markdown",
   "metadata": {},
   "source": [
    "### 2"
   ]
  },
  {
   "cell_type": "code",
   "execution_count": 12,
   "metadata": {},
   "outputs": [],
   "source": [
    "def solution(participant, completion):\n",
    "    participant.sort()\n",
    "    completion.sort()\n",
    "    for p,c in zip(participant, completion):\n",
    "        if p != c:\n",
    "            return p\n",
    "    return participant[-1]"
   ]
  },
  {
   "cell_type": "code",
   "execution_count": 13,
   "metadata": {},
   "outputs": [],
   "source": [
    "participant = [\n",
    "    [\"leo\", \"kiki\", \"eden\"],\n",
    "    [\"marina\", \"josipa\", \"nikola\", \"vinko\", \"filipa\"],\n",
    "    [\"mislav\", \"stanko\", \"mislav\", \"ana\"],\n",
    "]\n",
    "completion =[\n",
    "    [\"eden\", \"kiki\"],\n",
    "    [\"josipa\", \"filipa\", \"marina\", \"nikola\"],\n",
    "    [\"stanko\", \"ana\", \"mislav\"],\n",
    "]"
   ]
  },
  {
   "cell_type": "code",
   "execution_count": 14,
   "metadata": {},
   "outputs": [
    {
     "name": "stdout",
     "output_type": "stream",
     "text": [
      "leo\n",
      "vinko\n",
      "mislav\n",
      "CPU times: user 208 µs, sys: 175 µs, total: 383 µs\n",
      "Wall time: 229 µs\n"
     ]
    }
   ],
   "source": [
    "%%time\n",
    "for p, c in zip(participant, completion):\n",
    "    print(solution(p, c))"
   ]
  },
  {
   "cell_type": "code",
   "execution_count": null,
   "metadata": {},
   "outputs": [],
   "source": []
  }
 ],
 "metadata": {
  "kernelspec": {
   "display_name": "Python 3",
   "language": "python",
   "name": "python3"
  },
  "language_info": {
   "codemirror_mode": {
    "name": "ipython",
    "version": 3
   },
   "file_extension": ".py",
   "mimetype": "text/x-python",
   "name": "python",
   "nbconvert_exporter": "python",
   "pygments_lexer": "ipython3",
   "version": "3.7.1"
  }
 },
 "nbformat": 4,
 "nbformat_minor": 2
}
