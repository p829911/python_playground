{
 "cells": [
  {
   "cell_type": "markdown",
   "metadata": {},
   "source": [
    "# http://www.op.gg/\n",
    "# 최근 5개월 간 LOL play 시간 알아보기"
   ]
  },
  {
   "cell_type": "markdown",
   "metadata": {},
   "source": [
    "<img src=\"op.png\">"
   ]
  },
  {
   "cell_type": "markdown",
   "metadata": {},
   "source": [
    "- 크롤링을 위한 selenium 패키지와\n",
    "- 로딩시간을 위해 코드 실행을 잠시 멈추는 time 패키지 import"
   ]
  },
  {
   "cell_type": "code",
   "execution_count": 1,
   "metadata": {},
   "outputs": [],
   "source": [
    "from selenium import webdriver\n",
    "import time"
   ]
  },
  {
   "cell_type": "code",
   "execution_count": 2,
   "metadata": {},
   "outputs": [],
   "source": [
    "# lol id를 인자로 받는 함수 생성\n",
    "def lol_total_game_time(id):\n",
    "    # op.gg 창 띄우기\n",
    "    url = \"http://www.op.gg/\"\n",
    "    driver = webdriver.Chrome()\n",
    "    driver.get(url)\n",
    "    \n",
    "    # op.gg 메인 홈페이지 아이디 입력 창에 아이디 써넣기\n",
    "    input_id = driver.find_element_by_css_selector(\"body > div.l-wrap.l-wrap--index > div.l-container > form > input\")\n",
    "    input_id.send_keys(id)\n",
    "    \n",
    "    # 아이디 제출 버튼 클릭하기\n",
    "    button = driver.find_element_by_css_selector(\"body > div.l-wrap.l-wrap--index > div.l-container > form > button.summoner-search-form__button > i\")\n",
    "    button.click()\n",
    "    \n",
    "    # 페이지 로딩 시간 계산\n",
    "    time.sleep(2)\n",
    "    \n",
    "    # 정보 업데이트를 위한 업데이트 버튼 클릭\n",
    "#     update_button = driver.find_element_by_css_selector(\"#SummonerRefreshButton\")\n",
    "#     update_button.click()\n",
    "#     time.sleep(3)\n",
    "\n",
    "    # detail한 정보 가져올 때 필요한 detail 정보 보기 버튼 클릭\n",
    "#     detail_button = driver.find_element_by_css_selector(\"#SummonerLayoutContent > div.tabItem.Content.SummonerLayoutContent.summonerLayout-summary > div.RealContent > div > div.Content > div.GameItemList > div:nth-child(1) > div > div.Content > div.StatsButton > div > div > a\")\n",
    "#     detail_button.click()\n",
    "    \n",
    "    \n",
    "    # 게임 플레이 시간과 게임 한 날짜 데이터 프레임으로 만들기\n",
    "    game_time = []\n",
    "    game_day = []\n",
    "    page_num = 3\n",
    "    \n",
    "    while page_num:\n",
    "        try:\n",
    "            for i in range(1,21):\n",
    "                game_time.append(driver.find_element_by_css_selector(\"#SummonerLayoutContent > div.tabItem.Content.SummonerLayoutContent.summonerLayout-summary > div.RealContent > div > div.Content > div:nth-child(\"+ str(page_num) +\") > div:nth-child(\" + str(i) +\") > div > div.Content > div.GameStats > div.GameLength\").text)\n",
    "                game_day.append(driver.find_element_by_css_selector(\"#SummonerLayoutContent > div.tabItem.Content.SummonerLayoutContent.summonerLayout-summary > div.RealContent > div > div.Content > div:nth-child(\"+ str(page_num) +\") > div:nth-child(\" + str(i) +\") > div > div.Content > div.GameStats > div.TimeStamp > span\").get_attribute(\"title\"))\n",
    "        except:\n",
    "            break\n",
    "\n",
    "        try: \n",
    "            driver.find_element_by_css_selector(\"#SummonerLayoutContent > div.tabItem.Content.SummonerLayoutContent.summonerLayout-summary > div.RealContent > div > div.Content > div.GameMoreButton.Box > a\").click()\n",
    "            page_num += 2\n",
    "            time.sleep(3)\n",
    "        except:    \n",
    "             break\n",
    "    \n",
    "    df = pd.DataFrame(columns=[\"time\", \"day\"])\n",
    "    df[\"time\"] = game_time\n",
    "    df[\"day\"] = game_day\n",
    "    \n",
    "    return df"
   ]
  },
  {
   "cell_type": "markdown",
   "metadata": {},
   "source": [
    "### 아이디 입력 받아 데이터 프레임 형태로 저장"
   ]
  },
  {
   "cell_type": "code",
   "execution_count": 3,
   "metadata": {},
   "outputs": [],
   "source": [
    "result = lol_total_game_time(\"갓분투\")"
   ]
  },
  {
   "cell_type": "code",
   "execution_count": 4,
   "metadata": {},
   "outputs": [
    {
     "data": {
      "text/plain": [
       "(654, 2)"
      ]
     },
     "execution_count": 4,
     "metadata": {},
     "output_type": "execute_result"
    }
   ],
   "source": [
    "result.shape"
   ]
  },
  {
   "cell_type": "code",
   "execution_count": 5,
   "metadata": {},
   "outputs": [],
   "source": [
    "for i in range(len(result)):\n",
    "    result[\"time\"][i] = result[\"time\"][i].replace(\"m\",\"\")\n",
    "    result[\"time\"][i] = result[\"time\"][i].replace(\"s\",\"\")"
   ]
  },
  {
   "cell_type": "code",
   "execution_count": 6,
   "metadata": {},
   "outputs": [],
   "source": [
    "ls = []\n",
    "for i in range(len(result)):\n",
    "    m, s = result.time[i].split()\n",
    "    ls.append(int(m) * 60 + int(s))\n",
    "result[\"second\"] = ls"
   ]
  },
  {
   "cell_type": "code",
   "execution_count": 7,
   "metadata": {},
   "outputs": [
    {
     "data": {
      "text/html": [
       "<div>\n",
       "<style scoped>\n",
       "    .dataframe tbody tr th:only-of-type {\n",
       "        vertical-align: middle;\n",
       "    }\n",
       "\n",
       "    .dataframe tbody tr th {\n",
       "        vertical-align: top;\n",
       "    }\n",
       "\n",
       "    .dataframe thead th {\n",
       "        text-align: right;\n",
       "    }\n",
       "</style>\n",
       "<table border=\"1\" class=\"dataframe\">\n",
       "  <thead>\n",
       "    <tr style=\"text-align: right;\">\n",
       "      <th></th>\n",
       "      <th>time</th>\n",
       "      <th>day</th>\n",
       "      <th>second</th>\n",
       "    </tr>\n",
       "  </thead>\n",
       "  <tbody>\n",
       "    <tr>\n",
       "      <th>649</th>\n",
       "      <td>27 51</td>\n",
       "      <td>May 30 2018 7:23 AM</td>\n",
       "      <td>1671</td>\n",
       "    </tr>\n",
       "    <tr>\n",
       "      <th>650</th>\n",
       "      <td>22 55</td>\n",
       "      <td>May 30 2018 2:50 AM</td>\n",
       "      <td>1375</td>\n",
       "    </tr>\n",
       "    <tr>\n",
       "      <th>651</th>\n",
       "      <td>22 30</td>\n",
       "      <td>May 30 2018 2:21 AM</td>\n",
       "      <td>1350</td>\n",
       "    </tr>\n",
       "    <tr>\n",
       "      <th>652</th>\n",
       "      <td>31 9</td>\n",
       "      <td>May 30 2018 1:53 AM</td>\n",
       "      <td>1869</td>\n",
       "    </tr>\n",
       "    <tr>\n",
       "      <th>653</th>\n",
       "      <td>26 0</td>\n",
       "      <td>May 30 2018 1:16 AM</td>\n",
       "      <td>1560</td>\n",
       "    </tr>\n",
       "  </tbody>\n",
       "</table>\n",
       "</div>"
      ],
      "text/plain": [
       "      time                  day  second\n",
       "649  27 51  May 30 2018 7:23 AM    1671\n",
       "650  22 55  May 30 2018 2:50 AM    1375\n",
       "651  22 30  May 30 2018 2:21 AM    1350\n",
       "652   31 9  May 30 2018 1:53 AM    1869\n",
       "653   26 0  May 30 2018 1:16 AM    1560"
      ]
     },
     "execution_count": 7,
     "metadata": {},
     "output_type": "execute_result"
    }
   ],
   "source": [
    "result.tail()"
   ]
  },
  {
   "cell_type": "code",
   "execution_count": 8,
   "metadata": {},
   "outputs": [
    {
     "data": {
      "text/plain": [
       "1087349"
      ]
     },
     "execution_count": 8,
     "metadata": {},
     "output_type": "execute_result"
    }
   ],
   "source": [
    "total_seconds = result.second.sum()\n",
    "total_seconds # 초"
   ]
  },
  {
   "cell_type": "code",
   "execution_count": 9,
   "metadata": {},
   "outputs": [
    {
     "data": {
      "text/plain": [
       "18122.483333333334"
      ]
     },
     "execution_count": 9,
     "metadata": {},
     "output_type": "execute_result"
    }
   ],
   "source": [
    "total_minutes = total_seconds / 60\n",
    "total_minutes # 분"
   ]
  },
  {
   "cell_type": "code",
   "execution_count": 10,
   "metadata": {},
   "outputs": [
    {
     "data": {
      "text/plain": [
       "302.0413888888889"
      ]
     },
     "execution_count": 10,
     "metadata": {},
     "output_type": "execute_result"
    }
   ],
   "source": [
    "total_hours = total_minutes / 60\n",
    "total_hours # 시간"
   ]
  },
  {
   "cell_type": "code",
   "execution_count": 11,
   "metadata": {},
   "outputs": [
    {
     "data": {
      "text/plain": [
       "12.58505787037037"
      ]
     },
     "execution_count": 11,
     "metadata": {},
     "output_type": "execute_result"
    }
   ],
   "source": [
    "total_days = total_hours / 24\n",
    "total_days # 일"
   ]
  },
  {
   "cell_type": "code",
   "execution_count": 12,
   "metadata": {},
   "outputs": [
    {
     "data": {
      "text/plain": [
       "16.080000000000002"
      ]
     },
     "execution_count": 12,
     "metadata": {},
     "output_type": "execute_result"
    }
   ],
   "source": [
    "0.67 * 24"
   ]
  },
  {
   "cell_type": "markdown",
   "metadata": {},
   "source": [
    "### 약 12일 16시간"
   ]
  }
 ],
 "metadata": {
  "kernelspec": {
   "display_name": "Python 3",
   "language": "python",
   "name": "python3"
  },
  "language_info": {
   "codemirror_mode": {
    "name": "ipython",
    "version": 3
   },
   "file_extension": ".py",
   "mimetype": "text/x-python",
   "name": "python",
   "nbconvert_exporter": "python",
   "pygments_lexer": "ipython3",
   "version": "3.6.6"
  }
 },
 "nbformat": 4,
 "nbformat_minor": 2
}
