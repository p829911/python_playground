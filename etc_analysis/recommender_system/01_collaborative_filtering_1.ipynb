{
 "cells": [
  {
   "cell_type": "markdown",
   "metadata": {},
   "source": [
    "### 협업 필터링 추천 알고리즘\n",
    "- 사용자 기반 협업 필터링\n",
    "    - 주로 사용자기반으로 추천 알고리즘을 구현\n",
    "- 아이템 기반 협업 필터링\n",
    "    - 사용자가 가지고 있는 아이템에 대한 정보가 많이 없을 때 아이템을 기준으로 추천 알고리즘을 구현\n",
    "    - 인터넷 쇼핑몰"
   ]
  },
  {
   "cell_type": "markdown",
   "metadata": {},
   "source": [
    "### 유사도\n",
    "- 유클리디안\n",
    "- 코사인\n",
    "- 맨하튼\n",
    "- 자카드\n",
    "    - 집합 데이터에 대한 유사도\n",
    "    - 0과 1사이의 값으로 두 집합이 동일하면 1"
   ]
  },
  {
   "cell_type": "code",
   "execution_count": 34,
   "metadata": {},
   "outputs": [],
   "source": [
    "import numpy as np\n",
    "import pandas as pd\n",
    "from scipy import spatial"
   ]
  },
  {
   "cell_type": "code",
   "execution_count": 35,
   "metadata": {},
   "outputs": [],
   "source": [
    "# 샘플데이터\n",
    "vector_1 = np.array([1,2,3,4,5])\n",
    "vector_2 = np.array([5,4,3,2,1])\n",
    "vector_3 = np.array([2,3,4,5,6])"
   ]
  },
  {
   "cell_type": "markdown",
   "metadata": {},
   "source": [
    "### 1. **유클리디안 유사도**\n",
    "    - 벡터 사이의 거리\n",
    "    - 거리가 작으면 가까운 위치에 있기 때문에 비슷한 특징을 가짐\n",
    "    - 거리값이 0에 가까울수록 가까운 User"
   ]
  },
  {
   "cell_type": "code",
   "execution_count": 36,
   "metadata": {},
   "outputs": [
    {
     "name": "stdout",
     "output_type": "stream",
     "text": [
      "[-4 -2  0  2  4]\n",
      "[16  4  0  4 16]\n",
      "40\n",
      "6.324555320336759\n"
     ]
    }
   ],
   "source": [
    "# 계산과정\n",
    "print(vector_1 - vector_2)\n",
    "print((vector_1 - vector_2) ** 2)\n",
    "print(sum((vector_1 - vector_2) ** 2))\n",
    "print(np.sqrt(sum((vector_1 - vector_2) ** 2)))"
   ]
  },
  {
   "cell_type": "code",
   "execution_count": 37,
   "metadata": {},
   "outputs": [
    {
     "data": {
      "text/plain": [
       "(6.324555320336759, 2.23606797749979, 6.708203932499369)"
      ]
     },
     "execution_count": 37,
     "metadata": {},
     "output_type": "execute_result"
    }
   ],
   "source": [
    "# numpy\n",
    "np.linalg.norm(vector_1 - vector_2), np.linalg.norm(vector_1 - vector_3), np.linalg.norm(vector_2 - vector_3)"
   ]
  },
  {
   "cell_type": "code",
   "execution_count": 38,
   "metadata": {},
   "outputs": [
    {
     "data": {
      "text/plain": [
       "6.324555320336759"
      ]
     },
     "execution_count": 38,
     "metadata": {},
     "output_type": "execute_result"
    }
   ],
   "source": [
    "def euclidean_similarity(vector_1, vector_2):\n",
    "    return np.linalg.norm(vector_1 - vector_2)\n",
    "\n",
    "euclidean_similarity(vector_1, vector_2)"
   ]
  },
  {
   "cell_type": "markdown",
   "metadata": {},
   "source": [
    "### 2. **코사인 유사도**\n",
    "- 벡터사이의 cosin 각으로 유사도를 구함\n",
    "- 각이 작으면 같은 방향성을 가지기 때문에 비슷한 특징을 갖는다\n",
    "- 벡터의 내적 / 벡터의 크기\n",
    "\n",
    "$$\n",
    "\\text{similarity} = \\text{cos}(\\theta) = \\dfrac{A \\cdot B}{\\|A\\| \\|B\\|} = \\dfrac{\\sum_{i=1}^n A_i \\times B_i}{\\sqrt{\\sum_{i=1}^n (A_i)^2} \\times \\sqrt{\\sum_{i=1}^n (B_i)^2}}\n",
    "$$\n",
    "\n",
    "- 내적이 값이 클수록, 벡터의 크기가 작을수록 유사도가 높다\n",
    "- 유사도 값이 클수록 유사도가 높다"
   ]
  },
  {
   "cell_type": "code",
   "execution_count": 39,
   "metadata": {},
   "outputs": [],
   "source": [
    "# 샘플데이터\n",
    "vector_1 = np.array([1,2,3,4,5])\n",
    "vector_2 = np.array([5,4,3,2,1])\n",
    "vector_3 = np.array([11,19,28,32,47])"
   ]
  },
  {
   "cell_type": "code",
   "execution_count": 40,
   "metadata": {},
   "outputs": [
    {
     "name": "stdout",
     "output_type": "stream",
     "text": [
      "35\n"
     ]
    }
   ],
   "source": [
    "# 벡터의 내적\n",
    "print(sum(vector_1 * vector_2))"
   ]
  },
  {
   "cell_type": "code",
   "execution_count": 41,
   "metadata": {},
   "outputs": [
    {
     "name": "stdout",
     "output_type": "stream",
     "text": [
      "35\n"
     ]
    }
   ],
   "source": [
    "# numpy 이용\n",
    "print(np.dot(vector_1, vector_2))"
   ]
  },
  {
   "cell_type": "code",
   "execution_count": 42,
   "metadata": {},
   "outputs": [
    {
     "name": "stdout",
     "output_type": "stream",
     "text": [
      "[ 1  4  9 16 25] [25 16  9  4  1]\n",
      "55 55\n",
      "7.416198487095663 7.416198487095663\n",
      "55.0\n"
     ]
    }
   ],
   "source": [
    "# 벡터의 크기 (분모)\n",
    "print(vector_1 ** 2, vector_2 ** 2)\n",
    "print(sum(vector_1 ** 2), sum(vector_2 ** 2))\n",
    "print(np.sqrt(sum(vector_1 ** 2)), np.sqrt(sum(vector_2 ** 2)))\n",
    "print(np.sqrt(sum(vector_1 ** 2)) * np.sqrt(sum(vector_2 ** 2)))"
   ]
  },
  {
   "cell_type": "code",
   "execution_count": 43,
   "metadata": {},
   "outputs": [
    {
     "name": "stdout",
     "output_type": "stream",
     "text": [
      "55.0\n"
     ]
    }
   ],
   "source": [
    "# numpy 이용\n",
    "print(np.sqrt(np.dot(vector_1, vector_1)) * np.sqrt(np.dot(vector_2, vector_2)))"
   ]
  },
  {
   "cell_type": "code",
   "execution_count": 44,
   "metadata": {},
   "outputs": [
    {
     "name": "stdout",
     "output_type": "stream",
     "text": [
      "0.6363636363636364\n"
     ]
    }
   ],
   "source": [
    "# 코사인 유사도\n",
    "\n",
    "# 벡터의 내적\n",
    "inner = np.dot(vector_1, vector_2)\n",
    "\n",
    "# 벡터의 크기\n",
    "size = np.sqrt(np.dot(vector_1, vector_1)) * np.sqrt(np.dot(vector_2, vector_2))\n",
    "\n",
    "print(inner / size)"
   ]
  },
  {
   "cell_type": "code",
   "execution_count": 45,
   "metadata": {},
   "outputs": [
    {
     "name": "stdout",
     "output_type": "stream",
     "text": [
      "0.6363636363636364\n"
     ]
    }
   ],
   "source": [
    "# scipy\n",
    "print(1 - spatial.distance.cosine(vector_1, vector_2))"
   ]
  },
  {
   "cell_type": "code",
   "execution_count": 46,
   "metadata": {},
   "outputs": [
    {
     "data": {
      "text/plain": [
       "0.6363636363636364"
      ]
     },
     "execution_count": 46,
     "metadata": {},
     "output_type": "execute_result"
    }
   ],
   "source": [
    "def cosine_similarity(vector_1, vector_2):\n",
    "    return 1 - spatial.distance.cosine(vector_1, vector_2)\n",
    "\n",
    "cosine_similarity(vector_1, vector_2)"
   ]
  },
  {
   "cell_type": "markdown",
   "metadata": {},
   "source": [
    "### 3. **유클리디안 유사도와 코사인 유사도의 차이**"
   ]
  },
  {
   "cell_type": "code",
   "execution_count": 47,
   "metadata": {},
   "outputs": [],
   "source": [
    "vector1 = np.array([1,2])\n",
    "vector2 = np.array([10,10])\n",
    "vector3 = np.array([2,1])"
   ]
  },
  {
   "cell_type": "code",
   "execution_count": 48,
   "metadata": {},
   "outputs": [
    {
     "data": {
      "text/plain": [
       "(12.041594578792296, 1.4142135623730951)"
      ]
     },
     "execution_count": 48,
     "metadata": {},
     "output_type": "execute_result"
    }
   ],
   "source": [
    "euclidean_similarity(vector1, vector2),\\\n",
    "euclidean_similarity(vector1, vector3)"
   ]
  },
  {
   "cell_type": "code",
   "execution_count": 49,
   "metadata": {},
   "outputs": [
    {
     "data": {
      "text/plain": [
       "(0.9486832980505138, 0.8)"
      ]
     },
     "execution_count": 49,
     "metadata": {},
     "output_type": "execute_result"
    }
   ],
   "source": [
    "cosine_similarity(vector1, vector2),\\\n",
    "cosine_similarity(vector1, vector3)"
   ]
  },
  {
   "cell_type": "markdown",
   "metadata": {},
   "source": [
    "어떤 유사도를 쓰느냐에 따라 값이 다르게 나온다."
   ]
  }
 ],
 "metadata": {
  "kernelspec": {
   "display_name": "Python 3",
   "language": "python",
   "name": "python3"
  },
  "language_info": {
   "codemirror_mode": {
    "name": "ipython",
    "version": 3
   },
   "file_extension": ".py",
   "mimetype": "text/x-python",
   "name": "python",
   "nbconvert_exporter": "python",
   "pygments_lexer": "ipython3",
   "version": "3.7.2"
  }
 },
 "nbformat": 4,
 "nbformat_minor": 2
}
