{
 "cells": [
  {
   "cell_type": "code",
   "execution_count": 1,
   "metadata": {},
   "outputs": [],
   "source": [
    "import numpy as np\n",
    "import torch\n",
    "import torch.nn as nn\n",
    "import torch.optim as optim\n",
    "import torch.nn.init as init\n",
    "import torchvision.datasets as dset\n",
    "import torchvision.transforms as transforms\n",
    "from torch.utils.data import DataLoader\n",
    "from torch.autograd import Variable\n",
    "import matplotlib.pyplot as plt"
   ]
  },
  {
   "cell_type": "code",
   "execution_count": 2,
   "metadata": {},
   "outputs": [],
   "source": [
    "batch_size = 128\n",
    "learning_rate = 0.005\n",
    "num_epoch = 10\n",
    "hidden_size = 50"
   ]
  },
  {
   "cell_type": "code",
   "execution_count": 3,
   "metadata": {},
   "outputs": [],
   "source": [
    "mnist_train = dset.MNIST('./', train=True, transform=transforms.ToTensor())\n",
    "mnist_test = dset.MNIST('./', train=False, transform=transforms.ToTensor())"
   ]
  },
  {
   "cell_type": "code",
   "execution_count": 4,
   "metadata": {},
   "outputs": [],
   "source": [
    "train_loader = DataLoader(mnist_train, batch_size=batch_size, \n",
    "                          shuffle=True, num_workers=2, drop_last=True)\n",
    "test_loader = DataLoader(mnist_test, batch_size=batch_size,\n",
    "                         shuffle=False, num_workers=2, drop_last=True)"
   ]
  },
  {
   "cell_type": "code",
   "execution_count": 28,
   "metadata": {},
   "outputs": [],
   "source": [
    "class Encoder(nn.Module):\n",
    "    def __init__(self):\n",
    "        super(Encoder, self).__init__()\n",
    "        self.fc1_1 = nn.Linear(784, hidden_size)\n",
    "        self.fc1_2 = nn.Linear(784, hidden_size)\n",
    "        self.relu = nn.ReLU()\n",
    "        \n",
    "    def encode(self, x):\n",
    "        x = x.view(batch_size, -1)\n",
    "        mu = self.relu(self.fc1_1(x))\n",
    "        log_var = self.relu(self.fc1_2(x))\n",
    "        \n",
    "        return mu, log_var\n",
    "    \n",
    "    def reparametrize(self, mu, logvar):\n",
    "        std = logvar.mul(0.5).exp_()\n",
    "        \n",
    "        eps = torch.FloatTensor(std.size()).normal_()\n",
    "        eps = Variable(eps)\n",
    "        \n",
    "        return eps.mul(std).add_(mu)\n",
    "    \n",
    "    def forward(self, x):\n",
    "        mu, logvar = self.encode(x)\n",
    "        reparam = self.reparametrize(mu, logvar)\n",
    "        \n",
    "        return mu, logvar, reparam\n",
    "\n",
    "encoder = Encoder()"
   ]
  },
  {
   "cell_type": "code",
   "execution_count": 32,
   "metadata": {},
   "outputs": [],
   "source": [
    "class Decoder(nn.Module):\n",
    "    def __init__(self):\n",
    "        super(Decoder, self).__init__()\n",
    "        self.fc1 = nn.Linear(hidden_size, 784)\n",
    "        self.sigmoid = nn.Sigmoid()\n",
    "        \n",
    "    def forward(self, x):\n",
    "        out = self.fc1(x)\n",
    "        out = self.sigmoid(out)\n",
    "        out = out.view(batch_size, 28, 28, 1)\n",
    "        \n",
    "        return out\n",
    "\n",
    "decoder = Decoder()"
   ]
  },
  {
   "cell_type": "code",
   "execution_count": 33,
   "metadata": {},
   "outputs": [],
   "source": [
    "reconstruction_function = nn.BCELoss(size_average=False)\n",
    "\n",
    "def loss_function(recon_x, x, mu, logvar):\n",
    "    BCE = reconstruction_function(recon_x, x)\n",
    "    \n",
    "    KLD_element = mu.pow(2).add_(logvar.exp()).mul_(-1).add_(1).add_(logvar)\n",
    "    KLD = torch.sum(KLD_element).mul_(-0.5)\n",
    "    \n",
    "    return BCE + KLD\n",
    "\n",
    "parameters = list(encoder.parameters()) + list(decoder.parameters())\n",
    "optimizer = torch.optim.Adam(parameters, lr=learning_rate)"
   ]
  },
  {
   "cell_type": "code",
   "execution_count": 34,
   "metadata": {
    "collapsed": true
   },
   "outputs": [
    {
     "name": "stdout",
     "output_type": "stream",
     "text": [
      "\n",
      "--------model not restored--------\n",
      "\n",
      "tensor(74455.7969, grad_fn=<AddBackward0>)\n"
     ]
    },
    {
     "name": "stderr",
     "output_type": "stream",
     "text": [
      "/home/p829911/anaconda3/lib/python3.7/site-packages/torch/nn/modules/loss.py:498: UserWarning: Using a target size (torch.Size([128, 1, 28, 28])) that is different to the input size (torch.Size([128, 28, 28, 1])) is deprecated. Please ensure they have the same size.\n",
      "  return F.binary_cross_entropy(input, target, weight=self.weight, reduction=self.reduction)\n",
      "/home/p829911/anaconda3/lib/python3.7/site-packages/torch/serialization.py:292: UserWarning: Couldn't retrieve source code for container of type Encoder. It won't be checked for correctness upon loading.\n",
      "  \"type \" + obj.__name__ + \". It won't be checked \"\n",
      "/home/p829911/anaconda3/lib/python3.7/site-packages/torch/serialization.py:292: UserWarning: Couldn't retrieve source code for container of type Linear. It won't be checked for correctness upon loading.\n",
      "  \"type \" + obj.__name__ + \". It won't be checked \"\n",
      "/home/p829911/anaconda3/lib/python3.7/site-packages/torch/serialization.py:292: UserWarning: Couldn't retrieve source code for container of type ReLU. It won't be checked for correctness upon loading.\n",
      "  \"type \" + obj.__name__ + \". It won't be checked \"\n",
      "/home/p829911/anaconda3/lib/python3.7/site-packages/torch/serialization.py:292: UserWarning: Couldn't retrieve source code for container of type Decoder. It won't be checked for correctness upon loading.\n",
      "  \"type \" + obj.__name__ + \". It won't be checked \"\n",
      "/home/p829911/anaconda3/lib/python3.7/site-packages/torch/serialization.py:292: UserWarning: Couldn't retrieve source code for container of type Sigmoid. It won't be checked for correctness upon loading.\n",
      "  \"type \" + obj.__name__ + \". It won't be checked \"\n"
     ]
    },
    {
     "name": "stdout",
     "output_type": "stream",
     "text": [
      "tensor(25962.0430, grad_fn=<AddBackward0>)\n",
      "tensor(22757.0723, grad_fn=<AddBackward0>)\n",
      "tensor(22920.8125, grad_fn=<AddBackward0>)\n",
      "tensor(22534.5977, grad_fn=<AddBackward0>)\n",
      "tensor(22011.5918, grad_fn=<AddBackward0>)\n",
      "tensor(22335.6738, grad_fn=<AddBackward0>)\n",
      "tensor(21652.3184, grad_fn=<AddBackward0>)\n",
      "tensor(22096.7969, grad_fn=<AddBackward0>)\n",
      "tensor(21336.7129, grad_fn=<AddBackward0>)\n",
      "tensor(22225.2910, grad_fn=<AddBackward0>)\n",
      "tensor(22037.6445, grad_fn=<AddBackward0>)\n",
      "tensor(21757.8477, grad_fn=<AddBackward0>)\n",
      "tensor(21357., grad_fn=<AddBackward0>)\n",
      "tensor(21637.6328, grad_fn=<AddBackward0>)\n",
      "tensor(21982.0977, grad_fn=<AddBackward0>)\n",
      "tensor(21572.5469, grad_fn=<AddBackward0>)\n",
      "tensor(22032.5625, grad_fn=<AddBackward0>)\n",
      "tensor(21876.5020, grad_fn=<AddBackward0>)\n",
      "tensor(21645.1172, grad_fn=<AddBackward0>)\n",
      "tensor(21317.7754, grad_fn=<AddBackward0>)\n",
      "tensor(21640.8340, grad_fn=<AddBackward0>)\n",
      "tensor(21616.9160, grad_fn=<AddBackward0>)\n",
      "tensor(21531.6738, grad_fn=<AddBackward0>)\n",
      "tensor(21274.0391, grad_fn=<AddBackward0>)\n",
      "tensor(20874.9590, grad_fn=<AddBackward0>)\n",
      "tensor(20712.7188, grad_fn=<AddBackward0>)\n",
      "tensor(21606.0605, grad_fn=<AddBackward0>)\n",
      "tensor(21821.5332, grad_fn=<AddBackward0>)\n",
      "tensor(21199.4688, grad_fn=<AddBackward0>)\n",
      "tensor(20986.6680, grad_fn=<AddBackward0>)\n",
      "tensor(21135.7754, grad_fn=<AddBackward0>)\n",
      "tensor(20966.3359, grad_fn=<AddBackward0>)\n",
      "tensor(21220.2090, grad_fn=<AddBackward0>)\n",
      "tensor(21801.7539, grad_fn=<AddBackward0>)\n",
      "tensor(20840.7051, grad_fn=<AddBackward0>)\n",
      "tensor(21415.3730, grad_fn=<AddBackward0>)\n",
      "tensor(21891.3750, grad_fn=<AddBackward0>)\n",
      "tensor(21338.8027, grad_fn=<AddBackward0>)\n",
      "tensor(20897.7051, grad_fn=<AddBackward0>)\n",
      "tensor(21471.1484, grad_fn=<AddBackward0>)\n",
      "tensor(20308.8711, grad_fn=<AddBackward0>)\n",
      "tensor(21041.7148, grad_fn=<AddBackward0>)\n",
      "tensor(21589.7207, grad_fn=<AddBackward0>)\n",
      "tensor(20768.9590, grad_fn=<AddBackward0>)\n",
      "tensor(20456.2637, grad_fn=<AddBackward0>)\n",
      "tensor(20951.0547, grad_fn=<AddBackward0>)\n",
      "tensor(21149.5723, grad_fn=<AddBackward0>)\n",
      "tensor(20782.3477, grad_fn=<AddBackward0>)\n",
      "tensor(21308.0508, grad_fn=<AddBackward0>)\n"
     ]
    }
   ],
   "source": [
    "try:\n",
    "    encoder, decoder = torch.load('variational_autoencoder.pkl')\n",
    "    print('\\n--------model restored--------\\n')\n",
    "except:\n",
    "    print('\\n--------model not restored--------\\n')\n",
    "    pass\n",
    "\n",
    "for i in range(num_epoch):\n",
    "    for j, [image, label] in enumerate(train_loader):\n",
    "        optimizer.zero_grad()\n",
    "        \n",
    "        image = Variable(image)\n",
    "        mu, log_var, reparam = encoder(image)\n",
    "        output = decoder(reparam)\n",
    "        \n",
    "        loss = loss_function(output, image, mu, log_var)\n",
    "        \n",
    "        loss.backward()\n",
    "        optimizer.step()\n",
    "        \n",
    "        if j % 100 == 0:\n",
    "            torch.save([encoder, decoder], 'variational_autoencoder.pkl')\n",
    "            print(loss)"
   ]
  },
  {
   "cell_type": "code",
   "execution_count": 40,
   "metadata": {
    "scrolled": true
   },
   "outputs": [
    {
     "name": "stdout",
     "output_type": "stream",
     "text": [
      "torch.Size([128, 28, 28])\n"
     ]
    },
    {
     "data": {
      "image/png": "[encoded data removed]",
      "text/plain": [
       "<Figure size 432x288 with 1 Axes>"
      ]
     },
     "metadata": {
      "needs_background": "light"
     },
     "output_type": "display_data"
    },
    {
     "data": {
      "image/png": "[encoded data removed]",
      "text/plain": [
       "<Figure size 432x288 with 1 Axes>"
      ]
     },
     "metadata": {
      "needs_background": "light"
     },
     "output_type": "display_data"
    },
    {
     "data": {
      "image/png": "[encoded data removed]",
      "text/plain": [
       "<Figure size 432x288 with 1 Axes>"
      ]
     },
     "metadata": {
      "needs_background": "light"
     },
     "output_type": "display_data"
    },
    {
     "data": {
      "image/png": "[encoded data removed]",
      "text/plain": [
       "<Figure size 432x288 with 1 Axes>"
      ]
     },
     "metadata": {
      "needs_background": "light"
     },
     "output_type": "display_data"
    },
    {
     "data": {
      "image/png": "[encoded data removed]",
      "text/plain": [
       "<Figure size 432x288 with 1 Axes>"
      ]
     },
     "metadata": {
      "needs_background": "light"
     },
     "output_type": "display_data"
    },
    {
     "data": {
      "image/png": "[encoded data removed]",
      "text/plain": [
       "<Figure size 432x288 with 1 Axes>"
      ]
     },
     "metadata": {
      "needs_background": "light"
     },
     "output_type": "display_data"
    },
    {
     "data": {
      "image/png": "[encoded data removed]",
      "text/plain": [
       "<Figure size 432x288 with 1 Axes>"
      ]
     },
     "metadata": {
      "needs_background": "light"
     },
     "output_type": "display_data"
    },
    {
     "data": {
      "image/png": "[encoded data removed]",
      "text/plain": [
       "<Figure size 432x288 with 1 Axes>"
      ]
     },
     "metadata": {
      "needs_background": "light"
     },
     "output_type": "display_data"
    },
    {
     "data": {
      "image/png": "[encoded data removed]",
      "text/plain": [
       "<Figure size 432x288 with 1 Axes>"
      ]
     },
     "metadata": {
      "needs_background": "light"
     },
     "output_type": "display_data"
    },
    {
     "data": {
      "image/png": "[encoded data removed]",
      "text/plain": [
       "<Figure size 432x288 with 1 Axes>"
      ]
     },
     "metadata": {
      "needs_background": "light"
     },
     "output_type": "display_data"
    }
   ],
   "source": [
    "out_img = torch.squeeze(output.data)\n",
    "print(out_img.size())\n",
    "for i in range(5):\n",
    "    plt.imshow(torch.squeeze(image[i]).numpy(), cmap='gray')\n",
    "    plt.show()\n",
    "    plt.imshow(out_img[i].numpy(), cmap='gray')\n",
    "    plt.show()"
   ]
  },
  {
   "cell_type": "code",
   "execution_count": 42,
   "metadata": {},
   "outputs": [
    {
     "name": "stderr",
     "output_type": "stream",
     "text": [
      "/home/p829911/anaconda3/lib/python3.7/site-packages/ipykernel_launcher.py:4: UserWarning: volatile was removed and now has no effect. Use `with torch.no_grad():` instead.\n",
      "  after removing the cwd from sys.path.\n"
     ]
    },
    {
     "name": "stdout",
     "output_type": "stream",
     "text": [
      "tensor(20683.1348, grad_fn=<AddBackward0>)\n",
      "tensor(20677.5488, grad_fn=<AddBackward0>)\n",
      "tensor(20770.7246, grad_fn=<AddBackward0>)\n",
      "tensor(21553.0605, grad_fn=<AddBackward0>)\n",
      "tensor(21026.4609, grad_fn=<AddBackward0>)\n",
      "tensor(20992.1465, grad_fn=<AddBackward0>)\n",
      "tensor(21733.7070, grad_fn=<AddBackward0>)\n",
      "tensor(23035.5664, grad_fn=<AddBackward0>)\n"
     ]
    }
   ],
   "source": [
    "for i in range(1):\n",
    "    for j, [image, label] in enumerate(test_loader):\n",
    "        \n",
    "        image = Variable(image, volatile=True)\n",
    "        mean, var, output = encoder(image)\n",
    "        output = decoder(output)\n",
    "        loss = loss_function(output, image, mean, var)\n",
    "        \n",
    "        if j % 10 == 0:\n",
    "            print(loss)"
   ]
  },
  {
   "cell_type": "code",
   "execution_count": 47,
   "metadata": {},
   "outputs": [
    {
     "name": "stdout",
     "output_type": "stream",
     "text": [
      "torch.Size([128, 28, 28])\n"
     ]
    },
    {
     "data": {
      "image/png": "[encoded data removed]",
      "text/plain": [
       "<Figure size 432x288 with 1 Axes>"
      ]
     },
     "metadata": {
      "needs_background": "light"
     },
     "output_type": "display_data"
    },
    {
     "data": {
      "image/png": "[encoded data removed]",
      "text/plain": [
       "<Figure size 432x288 with 1 Axes>"
      ]
     },
     "metadata": {
      "needs_background": "light"
     },
     "output_type": "display_data"
    },
    {
     "data": {
      "image/png": "[encoded data removed]",
      "text/plain": [
       "<Figure size 432x288 with 1 Axes>"
      ]
     },
     "metadata": {
      "needs_background": "light"
     },
     "output_type": "display_data"
    },
    {
     "data": {
      "image/png": "[encoded data removed]",
      "text/plain": [
       "<Figure size 432x288 with 1 Axes>"
      ]
     },
     "metadata": {
      "needs_background": "light"
     },
     "output_type": "display_data"
    },
    {
     "data": {
      "image/png": "[encoded data removed]",
      "text/plain": [
       "<Figure size 432x288 with 1 Axes>"
      ]
     },
     "metadata": {
      "needs_background": "light"
     },
     "output_type": "display_data"
    },
    {
     "data": {
      "image/png": "[encoded data removed]",
      "text/plain": [
       "<Figure size 432x288 with 1 Axes>"
      ]
     },
     "metadata": {
      "needs_background": "light"
     },
     "output_type": "display_data"
    },
    {
     "data": {
      "image/png": "[encoded data removed]",
      "text/plain": [
       "<Figure size 432x288 with 1 Axes>"
      ]
     },
     "metadata": {
      "needs_background": "light"
     },
     "output_type": "display_data"
    },
    {
     "data": {
      "image/png": "[encoded data removed]",
      "text/plain": [
       "<Figure size 432x288 with 1 Axes>"
      ]
     },
     "metadata": {
      "needs_background": "light"
     },
     "output_type": "display_data"
    },
    {
     "data": {
      "image/png": "[encoded data removed]",
      "text/plain": [
       "<Figure size 432x288 with 1 Axes>"
      ]
     },
     "metadata": {
      "needs_background": "light"
     },
     "output_type": "display_data"
    },
    {
     "data": {
      "image/png": "[encoded data removed]",
      "text/plain": [
       "<Figure size 432x288 with 1 Axes>"
      ]
     },
     "metadata": {
      "needs_background": "light"
     },
     "output_type": "display_data"
    }
   ],
   "source": [
    "out_img = torch.squeeze(output.cpu().data)\n",
    "print(out_img.size())\n",
    "\n",
    "for i in range(5):\n",
    "    plt.imshow(torch.squeeze(image[i].cpu()).data.numpy(),cmap='gray')\n",
    "    plt.show()\n",
    "    plt.imshow(out_img[i].numpy(),cmap='gray')\n",
    "    plt.show()"
   ]
  },
  {
   "cell_type": "code",
   "execution_count": null,
   "metadata": {},
   "outputs": [],
   "source": []
  }
 ],
 "metadata": {
  "hide_input": false,
  "kernelspec": {
   "display_name": "Python [conda env:root] *",
   "language": "python",
   "name": "conda-root-py"
  },
  "language_info": {
   "codemirror_mode": {
    "name": "ipython",
    "version": 3
   },
   "file_extension": ".py",
   "mimetype": "text/x-python",
   "name": "python",
   "nbconvert_exporter": "python",
   "pygments_lexer": "ipython3",
   "version": "3.7.4"
  },
  "varInspector": {
   "cols": {
    "lenName": 16,
    "lenType": 16,
    "lenVar": 40
   },
   "kernels_config": {
    "python": {
     "delete_cmd_postfix": "",
     "delete_cmd_prefix": "del ",
     "library": "var_list.py",
     "varRefreshCmd": "print(var_dic_list())"
    },
    "r": {
     "delete_cmd_postfix": ") ",
     "delete_cmd_prefix": "rm(",
     "library": "var_list.r",
     "varRefreshCmd": "cat(var_dic_list()) "
    }
   },
   "types_to_exclude": [
    "module",
    "function",
    "builtin_function_or_method",
    "instance",
    "_Feature"
   ],
   "window_display": false
  }
 },
 "nbformat": 4,
 "nbformat_minor": 4
}
