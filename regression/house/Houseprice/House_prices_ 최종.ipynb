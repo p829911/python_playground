{
 "cells": [
  {
   "cell_type": "markdown",
   "metadata": {
    "slideshow": {
     "slide_type": "slide"
    }
   },
   "source": [
    "# <center> 4인조 회귀분석 발표 </center>\n",
    "## <center> 권효준, 이수정, 임정주, 현승우 </center>"
   ]
  },
  {
   "cell_type": "markdown",
   "metadata": {
    "slideshow": {
     "slide_type": "slide"
    }
   },
   "source": [
    "# <center> House Prices: Advanced Regression Techniques </center>"
   ]
  },
  {
   "cell_type": "markdown",
   "metadata": {
    "slideshow": {
     "slide_type": "slide"
    }
   },
   "source": [
    "# 프로젝트 주제 요약\n",
    "\n",
    "## - 주제: House Prices (Kaggle competition)\n",
    "## - 목표: SalePrice 변수 값 예측하기\n",
    "## - 데이터 구성: \n",
    "\n",
    "    - 81개의 변수 (35 + 44 + 1 + 1)\n",
    "        - 35개의 연속형 데이터\n",
    "        - 44개의 범주형 데이터\n",
    "        - ID(식별자)\n",
    "        - 최종적으로 예측할 SalePrice(미국 IOWA주 집 거래 가격을 USD 단위로 나타낸 변수)\n",
    "    - train data : 1460개의 샘플\n",
    "    - test data : 1459개의 샘플"
   ]
  },
  {
   "cell_type": "markdown",
   "metadata": {
    "slideshow": {
     "slide_type": "slide"
    }
   },
   "source": [
    "# 프로젝트 목표\n",
    "\n",
    "## - Kaggle submission score를 올리는 것(RMSE를 최소화)"
   ]
  },
  {
   "cell_type": "markdown",
   "metadata": {
    "slideshow": {
     "slide_type": "slide"
    }
   },
   "source": [
    "# 프로젝트 결과물"
   ]
  },
  {
   "cell_type": "markdown",
   "metadata": {
    "slideshow": {
     "slide_type": "subslide"
    }
   },
   "source": [
    "# Normalization과 LASSO regularization을 통한 결과값은 다음과 같다."
   ]
  },
  {
   "cell_type": "markdown",
   "metadata": {
    "slideshow": {
     "slide_type": "subslide"
    }
   },
   "source": [
    "## kaggle competition\n",
    "$$score = \\frac{1}{n}\\sqrt{\\sum (\\log(y) - \\log(\\hat{y}))^2}$$"
   ]
  },
  {
   "cell_type": "markdown",
   "metadata": {
    "slideshow": {
     "slide_type": "subslide"
    }
   },
   "source": [
    "![scoreimg](score.png)"
   ]
  },
  {
   "cell_type": "markdown",
   "metadata": {
    "slideshow": {
     "slide_type": "subslide"
    }
   },
   "source": [
    "## KFold를 사용해 실제 집값과 예측한 집값은 다음과 같이 나타낼 수 있다.\n",
    "\n",
    "## root of MeanSquaredLoss(using KFold) = 31546"
   ]
  },
  {
   "cell_type": "markdown",
   "metadata": {
    "slideshow": {
     "slide_type": "subslide"
    }
   },
   "source": [
    "![scatterplotimg](download-1.png)"
   ]
  },
  {
   "cell_type": "markdown",
   "metadata": {
    "slideshow": {
     "slide_type": "subslide"
    }
   },
   "source": [
    "# 프로세스\n",
    "\n",
    "## 0. 프로젝트에 필요한 패키지 설치 및 설정\n",
    "## 1. 변수소개\n",
    "## 2. 전처리\n",
    "## 3. OLS\n",
    "## 4. Scaling : Normalization\n",
    "## 5. LASSO Regulization\n",
    "## 6. Final OLS\n",
    "## 7. 결과"
   ]
  },
  {
   "cell_type": "markdown",
   "metadata": {
    "slideshow": {
     "slide_type": "slide"
    }
   },
   "source": [
    "## 0. 프로젝트에 필요한 패키지 설치 및 설정"
   ]
  },
  {
   "cell_type": "code",
   "execution_count": 49,
   "metadata": {
    "slideshow": {
     "slide_type": "subslide"
    }
   },
   "outputs": [],
   "source": [
    "try:\n",
    "    import pandas as pd\n",
    "except:\n",
    "    ! pip3 install pandas\n",
    "    import pandas as pd"
   ]
  },
  {
   "cell_type": "code",
   "execution_count": 50,
   "metadata": {
    "slideshow": {
     "slide_type": "subslide"
    }
   },
   "outputs": [],
   "source": [
    "%matplotlib inline\n",
    "%config InlineBackend.figure_formats = {'png', 'retina'}\n",
    "try:\n",
    "    import seaborn as sns\n",
    "except:\n",
    "    ! pip3 install seaborn\n",
    "    import seaborn as sns\n",
    "try:\n",
    "    import matplotlib as plt\n",
    "    import matplotlib.pylab as plt\n",
    "except:\n",
    "    ! pip3 install matplotlib\n",
    "    import matplotlib as plt\n",
    "    import matplotlib.pylab as plt"
   ]
  },
  {
   "cell_type": "code",
   "execution_count": 51,
   "metadata": {
    "slideshow": {
     "slide_type": "subslide"
    }
   },
   "outputs": [],
   "source": [
    "try:\n",
    "    import numpy as np\n",
    "except:\n",
    "    ! pip3 install numpy\n",
    "    import numpy as np\n",
    "\n",
    "try:\n",
    "    import sklearn\n",
    "    from sklearn.model_selection import train_test_split\n",
    "    from sklearn.preprocessing import PolynomialFeatures\n",
    "    from sklearn.pipeline import make_pipeline\n",
    "    from sklearn.linear_model import LinearRegression, Ridge, Lasso, ElasticNet\n",
    "    from sklearn.model_selection import KFold\n",
    "    from sklearn.metrics import mean_squared_error\n",
    "except:\n",
    "    ! pip3 install scikit-learn\n",
    "    import sklearn\n",
    "    from sklearn.model_selection import train_test_split\n",
    "    from sklearn.preprocessing import PolynomialFeatures\n",
    "    from sklearn.pipeline import make_pipeline\n",
    "    from sklearn.linear_model import LinearRegression, Ridge, Lasso, ElasticNet\n",
    "\n",
    "try:\n",
    "    import statsmodels\n",
    "    from statsmodels.formula.api import ols\n",
    "    from statsmodels.stats.outliers_influence import variance_inflation_factor\n",
    "except:\n",
    "    ! pip3 install statsmodels\n",
    "    import statsmodels\n",
    "    from statsmodels.formula.api import ols\n",
    "    from statsmodels.stats.outliers_influence import variance_inflation_factor"
   ]
  },
  {
   "cell_type": "markdown",
   "metadata": {
    "slideshow": {
     "slide_type": "subslide"
    }
   },
   "source": [
    "# 1. 변수 소개\n",
    "\n",
    "- 데이터 구성: \n",
    "    - 81개의 변수 (35 + 44 + 1 + 1)\n",
    "        - 35개의 연속형 데이터\n",
    "        - 44개의 범주형 데이터\n",
    "        - ID(식별자)\n",
    "        - 최종적으로 예측할 SalePrice(미국 IOWA주 집 거래 가격을 USD 단위로 나타낸 변수)\n",
    "    - train data : 1460개의 샘플\n",
    "    - test data : 1459개의 샘플"
   ]
  },
  {
   "cell_type": "markdown",
   "metadata": {
    "slideshow": {
     "slide_type": "subslide"
    }
   },
   "source": [
    "\n",
    "### 최종적으로 SalePrice에 영향을 미쳤던 상위 10개의 변수는 다음과 같다.\n",
    "\n",
    "\n",
    "### 마이너스 영향을 미쳤던 변수들 :\n",
    "- Condition2_PosN \n",
    "- KitchenQual_Gd\n",
    "- PoolQC_Gd \n",
    "\n",
    "\n",
    "### 플러스 영향을 미쳤던 변수들 :  \n",
    "- KitchenQual_Gd \n",
    "- Condition2_Norm  \n",
    "- Street_Pave\n",
    "- RoofMatl_WdShngl\n",
    "- Neighborhood_StoneBr\n",
    "- Neighborhood_NoRidge\n",
    "- Neighborhood_NridgHt"
   ]
  },
  {
   "cell_type": "markdown",
   "metadata": {
    "slideshow": {
     "slide_type": "slide"
    }
   },
   "source": [
    "# 2. 전처리"
   ]
  },
  {
   "cell_type": "markdown",
   "metadata": {
    "slideshow": {
     "slide_type": "subslide"
    }
   },
   "source": [
    "### 데이터 불러오기"
   ]
  },
  {
   "cell_type": "code",
   "execution_count": 52,
   "metadata": {
    "slideshow": {
     "slide_type": "subslide"
    }
   },
   "outputs": [],
   "source": [
    "df = pd.read_csv(\"train.csv\")\n",
    "df_test = pd.read_csv('test.csv')"
   ]
  },
  {
   "cell_type": "code",
   "execution_count": 53,
   "metadata": {
    "slideshow": {
     "slide_type": "subslide"
    }
   },
   "outputs": [
    {
     "data": {
      "text/html": [
       "<div>\n",
       "<style scoped>\n",
       "    .dataframe tbody tr th:only-of-type {\n",
       "        vertical-align: middle;\n",
       "    }\n",
       "\n",
       "    .dataframe tbody tr th {\n",
       "        vertical-align: top;\n",
       "    }\n",
       "\n",
       "    .dataframe thead th {\n",
       "        text-align: right;\n",
       "    }\n",
       "</style>\n",
       "<table border=\"1\" class=\"dataframe\">\n",
       "  <thead>\n",
       "    <tr style=\"text-align: right;\">\n",
       "      <th></th>\n",
       "      <th>Id</th>\n",
       "      <th>MSSubClass</th>\n",
       "      <th>MSZoning</th>\n",
       "      <th>LotFrontage</th>\n",
       "      <th>LotArea</th>\n",
       "      <th>Street</th>\n",
       "      <th>Alley</th>\n",
       "      <th>LotShape</th>\n",
       "      <th>LandContour</th>\n",
       "      <th>Utilities</th>\n",
       "      <th>...</th>\n",
       "      <th>PoolArea</th>\n",
       "      <th>PoolQC</th>\n",
       "      <th>Fence</th>\n",
       "      <th>MiscFeature</th>\n",
       "      <th>MiscVal</th>\n",
       "      <th>MoSold</th>\n",
       "      <th>YrSold</th>\n",
       "      <th>SaleType</th>\n",
       "      <th>SaleCondition</th>\n",
       "      <th>SalePrice</th>\n",
       "    </tr>\n",
       "  </thead>\n",
       "  <tbody>\n",
       "    <tr>\n",
       "      <th>0</th>\n",
       "      <td>1</td>\n",
       "      <td>60</td>\n",
       "      <td>RL</td>\n",
       "      <td>65.0</td>\n",
       "      <td>8450</td>\n",
       "      <td>Pave</td>\n",
       "      <td>NaN</td>\n",
       "      <td>Reg</td>\n",
       "      <td>Lvl</td>\n",
       "      <td>AllPub</td>\n",
       "      <td>...</td>\n",
       "      <td>0</td>\n",
       "      <td>NaN</td>\n",
       "      <td>NaN</td>\n",
       "      <td>NaN</td>\n",
       "      <td>0</td>\n",
       "      <td>2</td>\n",
       "      <td>2008</td>\n",
       "      <td>WD</td>\n",
       "      <td>Normal</td>\n",
       "      <td>208500</td>\n",
       "    </tr>\n",
       "    <tr>\n",
       "      <th>1</th>\n",
       "      <td>2</td>\n",
       "      <td>20</td>\n",
       "      <td>RL</td>\n",
       "      <td>80.0</td>\n",
       "      <td>9600</td>\n",
       "      <td>Pave</td>\n",
       "      <td>NaN</td>\n",
       "      <td>Reg</td>\n",
       "      <td>Lvl</td>\n",
       "      <td>AllPub</td>\n",
       "      <td>...</td>\n",
       "      <td>0</td>\n",
       "      <td>NaN</td>\n",
       "      <td>NaN</td>\n",
       "      <td>NaN</td>\n",
       "      <td>0</td>\n",
       "      <td>5</td>\n",
       "      <td>2007</td>\n",
       "      <td>WD</td>\n",
       "      <td>Normal</td>\n",
       "      <td>181500</td>\n",
       "    </tr>\n",
       "    <tr>\n",
       "      <th>2</th>\n",
       "      <td>3</td>\n",
       "      <td>60</td>\n",
       "      <td>RL</td>\n",
       "      <td>68.0</td>\n",
       "      <td>11250</td>\n",
       "      <td>Pave</td>\n",
       "      <td>NaN</td>\n",
       "      <td>IR1</td>\n",
       "      <td>Lvl</td>\n",
       "      <td>AllPub</td>\n",
       "      <td>...</td>\n",
       "      <td>0</td>\n",
       "      <td>NaN</td>\n",
       "      <td>NaN</td>\n",
       "      <td>NaN</td>\n",
       "      <td>0</td>\n",
       "      <td>9</td>\n",
       "      <td>2008</td>\n",
       "      <td>WD</td>\n",
       "      <td>Normal</td>\n",
       "      <td>223500</td>\n",
       "    </tr>\n",
       "    <tr>\n",
       "      <th>3</th>\n",
       "      <td>4</td>\n",
       "      <td>70</td>\n",
       "      <td>RL</td>\n",
       "      <td>60.0</td>\n",
       "      <td>9550</td>\n",
       "      <td>Pave</td>\n",
       "      <td>NaN</td>\n",
       "      <td>IR1</td>\n",
       "      <td>Lvl</td>\n",
       "      <td>AllPub</td>\n",
       "      <td>...</td>\n",
       "      <td>0</td>\n",
       "      <td>NaN</td>\n",
       "      <td>NaN</td>\n",
       "      <td>NaN</td>\n",
       "      <td>0</td>\n",
       "      <td>2</td>\n",
       "      <td>2006</td>\n",
       "      <td>WD</td>\n",
       "      <td>Abnorml</td>\n",
       "      <td>140000</td>\n",
       "    </tr>\n",
       "    <tr>\n",
       "      <th>4</th>\n",
       "      <td>5</td>\n",
       "      <td>60</td>\n",
       "      <td>RL</td>\n",
       "      <td>84.0</td>\n",
       "      <td>14260</td>\n",
       "      <td>Pave</td>\n",
       "      <td>NaN</td>\n",
       "      <td>IR1</td>\n",
       "      <td>Lvl</td>\n",
       "      <td>AllPub</td>\n",
       "      <td>...</td>\n",
       "      <td>0</td>\n",
       "      <td>NaN</td>\n",
       "      <td>NaN</td>\n",
       "      <td>NaN</td>\n",
       "      <td>0</td>\n",
       "      <td>12</td>\n",
       "      <td>2008</td>\n",
       "      <td>WD</td>\n",
       "      <td>Normal</td>\n",
       "      <td>250000</td>\n",
       "    </tr>\n",
       "  </tbody>\n",
       "</table>\n",
       "<p>5 rows × 81 columns</p>\n",
       "</div>"
      ],
      "text/plain": [
       "   Id  MSSubClass MSZoning  LotFrontage  LotArea Street Alley LotShape  \\\n",
       "0   1          60       RL         65.0     8450   Pave   NaN      Reg   \n",
       "1   2          20       RL         80.0     9600   Pave   NaN      Reg   \n",
       "2   3          60       RL         68.0    11250   Pave   NaN      IR1   \n",
       "3   4          70       RL         60.0     9550   Pave   NaN      IR1   \n",
       "4   5          60       RL         84.0    14260   Pave   NaN      IR1   \n",
       "\n",
       "  LandContour Utilities    ...     PoolArea PoolQC Fence MiscFeature MiscVal  \\\n",
       "0         Lvl    AllPub    ...            0    NaN   NaN         NaN       0   \n",
       "1         Lvl    AllPub    ...            0    NaN   NaN         NaN       0   \n",
       "2         Lvl    AllPub    ...            0    NaN   NaN         NaN       0   \n",
       "3         Lvl    AllPub    ...            0    NaN   NaN         NaN       0   \n",
       "4         Lvl    AllPub    ...            0    NaN   NaN         NaN       0   \n",
       "\n",
       "  MoSold YrSold  SaleType  SaleCondition  SalePrice  \n",
       "0      2   2008        WD         Normal     208500  \n",
       "1      5   2007        WD         Normal     181500  \n",
       "2      9   2008        WD         Normal     223500  \n",
       "3      2   2006        WD        Abnorml     140000  \n",
       "4     12   2008        WD         Normal     250000  \n",
       "\n",
       "[5 rows x 81 columns]"
      ]
     },
     "execution_count": 53,
     "metadata": {},
     "output_type": "execute_result"
    }
   ],
   "source": [
    "df.head()"
   ]
  },
  {
   "cell_type": "markdown",
   "metadata": {
    "slideshow": {
     "slide_type": "subslide"
    }
   },
   "source": [
    "### 분석을 위해서 Id(식별자)는 drop 한다."
   ]
  },
  {
   "cell_type": "code",
   "execution_count": 54,
   "metadata": {
    "slideshow": {
     "slide_type": "subslide"
    }
   },
   "outputs": [],
   "source": [
    "df = df.drop([\"Id\"], axis=1)\n",
    "df_test = df_test.drop([\"Id\"], axis=1)"
   ]
  },
  {
   "cell_type": "markdown",
   "metadata": {
    "slideshow": {
     "slide_type": "subslide"
    }
   },
   "source": [
    "### 변수명 맨 앞에 숫자가 들어가면 오류가 나므로, 변수명을 바꿔준다"
   ]
  },
  {
   "cell_type": "code",
   "execution_count": 55,
   "metadata": {
    "slideshow": {
     "slide_type": "subslide"
    }
   },
   "outputs": [],
   "source": [
    "df = df.rename({\"1stFlrSF\": \"FstFlrSF\",\n",
    "                \"2ndFlrSF\": \"SndFlrSF\",\n",
    "                \"3SsnPorch\": \"TSsnPorch\"}, axis=\"columns\")\n",
    "df_test = df_test.rename({\"1stFlrSF\": \"FstFlrSF\",\n",
    "                          \"2ndFlrSF\": \"SndFlrSF\",\n",
    "                          \"3SsnPorch\": \"TSsnPorch\"}, axis=\"columns\")"
   ]
  },
  {
   "cell_type": "markdown",
   "metadata": {
    "slideshow": {
     "slide_type": "subslide"
    }
   },
   "source": [
    "#### 연속형 데이터와 범주형 데이터를 df.types로 구분한다. 이때, 최종적으로 예측할 SalePrice는 제거해준다."
   ]
  },
  {
   "cell_type": "code",
   "execution_count": 56,
   "metadata": {
    "slideshow": {
     "slide_type": "subslide"
    }
   },
   "outputs": [],
   "source": [
    "quantitative = [f for f in df.columns if df.dtypes[f] != 'object']\n",
    "quantitative.remove('SalePrice')\n",
    "qualitative = [f for f in df.columns if df.dtypes[f] == 'object']"
   ]
  },
  {
   "cell_type": "markdown",
   "metadata": {
    "slideshow": {
     "slide_type": "subslide"
    }
   },
   "source": [
    "### 연속형 데이터"
   ]
  },
  {
   "cell_type": "code",
   "execution_count": 57,
   "metadata": {
    "scrolled": true,
    "slideshow": {
     "slide_type": "subslide"
    }
   },
   "outputs": [
    {
     "name": "stdout",
     "output_type": "stream",
     "text": [
      "['MSSubClass', 'LotFrontage', 'LotArea', 'OverallQual', 'OverallCond', 'YearBuilt', 'YearRemodAdd', 'MasVnrArea', 'BsmtFinSF1', 'BsmtFinSF2', 'BsmtUnfSF', 'TotalBsmtSF', 'FstFlrSF', 'SndFlrSF', 'LowQualFinSF', 'GrLivArea', 'BsmtFullBath', 'BsmtHalfBath', 'FullBath', 'HalfBath', 'BedroomAbvGr', 'KitchenAbvGr', 'TotRmsAbvGrd', 'Fireplaces', 'GarageYrBlt', 'GarageCars', 'GarageArea', 'WoodDeckSF', 'OpenPorchSF', 'EnclosedPorch', 'TSsnPorch', 'ScreenPorch', 'PoolArea', 'MiscVal', 'MoSold', 'YrSold']\n"
     ]
    },
    {
     "data": {
      "text/plain": [
       "36"
      ]
     },
     "execution_count": 57,
     "metadata": {},
     "output_type": "execute_result"
    }
   ],
   "source": [
    "print(quantitative)\n",
    "\n",
    "len(quantitative)"
   ]
  },
  {
   "cell_type": "markdown",
   "metadata": {
    "slideshow": {
     "slide_type": "subslide"
    }
   },
   "source": [
    "### 이 중, \"MSSubClass\" 라는 변수는 실수로 나누어져 있지만 범주형으로 구분해야 한다는 것을 변수탐색 과정을 통해 알 수 있었다.\n",
    "\n",
    "MSSubClass: Identifies the type of dwelling involved in the sale.\t\n",
    "\n",
    "        20\t1-STORY 1946 & NEWER ALL STYLES\n",
    "        30\t1-STORY 1945 & OLDER\n",
    "        40\t1-STORY W/FINISHED ATTIC ALL AGES\n",
    "        45\t1-1/2 STORY - UNFINISHED ALL AGES\n",
    "        50\t1-1/2 STORY FINISHED ALL AGES\n",
    "        60\t2-STORY 1946 & NEWER\n",
    "        70\t2-STORY 1945 & OLDER\n",
    "        75\t2-1/2 STORY ALL AGES\n",
    "        80\tSPLIT OR MULTI-LEVEL\n",
    "        85\tSPLIT FOYER\n",
    "        90\tDUPLEX - ALL STYLES AND AGES\n",
    "       120\t1-STORY PUD (Planned Unit Development) - 1946 & NEWER\n",
    "       150\t1-1/2 STORY PUD - ALL AGES\n",
    "       160\t2-STORY PUD - 1946 & NEWER\n",
    "       180\tPUD - MULTILEVEL - INCL SPLIT LEV/FOYER\n",
    "       190\t2 FAMILY CONVERSION - ALL STYLES AND AGES\n",
    "       참고 ) kaggle data desription\n",
    "\n",
    "### 그렇기 때문에 연속형 변수에서 삭제하고, 범주형 데이터로 넣어준다. "
   ]
  },
  {
   "cell_type": "code",
   "execution_count": 58,
   "metadata": {
    "slideshow": {
     "slide_type": "subslide"
    }
   },
   "outputs": [],
   "source": [
    "quantitative.remove('MSSubClass')"
   ]
  },
  {
   "cell_type": "code",
   "execution_count": 59,
   "metadata": {
    "slideshow": {
     "slide_type": "subslide"
    }
   },
   "outputs": [
    {
     "name": "stdout",
     "output_type": "stream",
     "text": [
      "['LotFrontage', 'LotArea', 'OverallQual', 'OverallCond', 'YearBuilt', 'YearRemodAdd', 'MasVnrArea', 'BsmtFinSF1', 'BsmtFinSF2', 'BsmtUnfSF', 'TotalBsmtSF', 'FstFlrSF', 'SndFlrSF', 'LowQualFinSF', 'GrLivArea', 'BsmtFullBath', 'BsmtHalfBath', 'FullBath', 'HalfBath', 'BedroomAbvGr', 'KitchenAbvGr', 'TotRmsAbvGrd', 'Fireplaces', 'GarageYrBlt', 'GarageCars', 'GarageArea', 'WoodDeckSF', 'OpenPorchSF', 'EnclosedPorch', 'TSsnPorch', 'ScreenPorch', 'PoolArea', 'MiscVal', 'MoSold', 'YrSold']\n"
     ]
    }
   ],
   "source": [
    "print(quantitative)"
   ]
  },
  {
   "cell_type": "markdown",
   "metadata": {
    "slideshow": {
     "slide_type": "subslide"
    }
   },
   "source": [
    "### 범주형 데이터"
   ]
  },
  {
   "cell_type": "code",
   "execution_count": 60,
   "metadata": {
    "slideshow": {
     "slide_type": "subslide"
    }
   },
   "outputs": [
    {
     "name": "stdout",
     "output_type": "stream",
     "text": [
      "['MSZoning', 'Street', 'Alley', 'LotShape', 'LandContour', 'Utilities', 'LotConfig', 'LandSlope', 'Neighborhood', 'Condition1', 'Condition2', 'BldgType', 'HouseStyle', 'RoofStyle', 'RoofMatl', 'Exterior1st', 'Exterior2nd', 'MasVnrType', 'ExterQual', 'ExterCond', 'Foundation', 'BsmtQual', 'BsmtCond', 'BsmtExposure', 'BsmtFinType1', 'BsmtFinType2', 'Heating', 'HeatingQC', 'CentralAir', 'Electrical', 'KitchenQual', 'Functional', 'FireplaceQu', 'GarageType', 'GarageFinish', 'GarageQual', 'GarageCond', 'PavedDrive', 'PoolQC', 'Fence', 'MiscFeature', 'SaleType', 'SaleCondition', 'MSSubClass']\n"
     ]
    }
   ],
   "source": [
    "qualitative = qualitative + [\"MSSubClass\"]\n",
    "print(qualitative)"
   ]
  },
  {
   "cell_type": "markdown",
   "metadata": {
    "slideshow": {
     "slide_type": "slide"
    }
   },
   "source": [
    "## NaN값 알아보기"
   ]
  },
  {
   "cell_type": "code",
   "execution_count": 61,
   "metadata": {
    "scrolled": false,
    "slideshow": {
     "slide_type": "subslide"
    }
   },
   "outputs": [
    {
     "data": {
      "text/plain": [
       "<matplotlib.axes._subplots.AxesSubplot at 0x1c10e32b70>"
      ]
     },
     "execution_count": 61,
     "metadata": {},
     "output_type": "execute_result"
    },
    {
     "data": {
      "image/png": "[encoded data removed]",
      "text/plain": [
       "<Figure size 432x288 with 1 Axes>"
      ]
     },
     "metadata": {
      "image/png": {
       "height": 315,
       "width": 386
      }
     },
     "output_type": "display_data"
    }
   ],
   "source": [
    "missing = df.isnull().sum()\n",
    "missing = missing[missing > 0]\n",
    "missing.sort_values(inplace=True)\n",
    "missing.plot.bar()"
   ]
  },
  {
   "cell_type": "markdown",
   "metadata": {
    "slideshow": {
     "slide_type": "subslide"
    }
   },
   "source": [
    "### 데이터 탐색결과 NA 의 값이 missingvalue인것도 있었고, 속성값의 이름이 NA 인 것도 있었다. 예를들면 다음과 같다.\n",
    "\n",
    "### NA값이 가장 많은 PoolQC의 변수명을 살펴보면, \n",
    "\n",
    "- PoolQC: Pool quality\n",
    "\t\t\n",
    "       Ex\tExcellent\n",
    "       Gd\tGood\n",
    "       TA\tAverage/Typical\n",
    "       Fa\tFair\n",
    "       NA\tNo Pool\n",
    "       \n",
    "### NA는 missingvalue가 아니라 Pool이 없다는 것을 의미한다. "
   ]
  },
  {
   "cell_type": "markdown",
   "metadata": {
    "slideshow": {
     "slide_type": "subslide"
    }
   },
   "source": [
    "### 현재 missingvalue를 확인한다"
   ]
  },
  {
   "cell_type": "code",
   "execution_count": 62,
   "metadata": {
    "scrolled": true,
    "slideshow": {
     "slide_type": "subslide"
    }
   },
   "outputs": [
    {
     "data": {
      "text/plain": [
       "PoolQC          1453\n",
       "MiscFeature     1406\n",
       "Alley           1369\n",
       "Fence           1179\n",
       "FireplaceQu      690\n",
       "LotFrontage      259\n",
       "GarageType        81\n",
       "GarageCond        81\n",
       "GarageFinish      81\n",
       "GarageQual        81\n",
       "GarageYrBlt       81\n",
       "BsmtFinType2      38\n",
       "BsmtExposure      38\n",
       "BsmtQual          37\n",
       "BsmtCond          37\n",
       "BsmtFinType1      37\n",
       "MasVnrArea         8\n",
       "MasVnrType         8\n",
       "Electrical         1\n",
       "dtype: int64"
      ]
     },
     "execution_count": 62,
     "metadata": {},
     "output_type": "execute_result"
    }
   ],
   "source": [
    "missing = df.isnull().sum().sort_values(ascending=False)\n",
    "missing[missing > 0]"
   ]
  },
  {
   "cell_type": "markdown",
   "metadata": {
    "slideshow": {
     "slide_type": "subslide"
    }
   },
   "source": [
    "### 데이터 탐색을 통해 missingvalue가 아니라 na의 변수명이 있었던 것들은 'noexist'로 바꿔준다.\n",
    "\n",
    "### 또한 연속형 변수에서도 missingvalue가 아니라 해당되는 변수의 값이 없었다는 의미를 0으로 바꿔주었다."
   ]
  },
  {
   "cell_type": "code",
   "execution_count": 63,
   "metadata": {
    "slideshow": {
     "slide_type": "subslide"
    }
   },
   "outputs": [],
   "source": [
    "df[['Alley', 'FireplaceQu', 'GarageType', 'GarageFinish', 'GarageQual', 'GarageCond', 'PoolQC', 'Fence', 'MiscFeature', 'BsmtExposure', 'BsmtFinType1', 'BsmtFinType2', 'BsmtQual', 'BsmtCond']] = df[[\n",
    "    'Alley', 'FireplaceQu', 'GarageType', 'GarageFinish', 'GarageQual', 'GarageCond', 'PoolQC', 'Fence', 'MiscFeature', 'BsmtExposure', 'BsmtFinType1', 'BsmtFinType2', 'BsmtQual', 'BsmtCond']].fillna('noexist')\n",
    "df['GarageYrBlt'] = df['GarageYrBlt'].fillna(0)  # 창고를 지은 년도를 설명하는 변수\n",
    "df['LotFrontage'] = df['LotFrontage'].fillna(0)  # 도로와 직선으로 맞닿아 있는것을 설명하는 변수.\n",
    "\n",
    "df_test[['Alley', 'FireplaceQu', 'GarageType', 'GarageFinish', 'GarageQual', 'GarageCond', 'PoolQC', 'Fence', 'MiscFeature', 'BsmtExposure', 'BsmtFinType1', 'BsmtFinType2', 'BsmtQual', 'BsmtCond']] = df[[\n",
    "    'Alley', 'FireplaceQu', 'GarageType', 'GarageFinish', 'GarageQual', 'GarageCond', 'PoolQC', 'Fence', 'MiscFeature', 'BsmtExposure', 'BsmtFinType1', 'BsmtFinType2', 'BsmtQual', 'BsmtCond']].fillna('noexist')\n",
    "df_test['GarageYrBlt'] = df_test['GarageYrBlt'].fillna(0)  # 창고를 지은 년도를 설명하는 변수\n",
    "# 도로와 직선으로 맞닿아 있는것을 설명하는 변수.\n",
    "df_test['LotFrontage'] = df_test['LotFrontage'].fillna(0)"
   ]
  },
  {
   "cell_type": "markdown",
   "metadata": {
    "slideshow": {
     "slide_type": "subslide"
    }
   },
   "source": [
    "### missing이라고 생각되는 값은 통계적 추론으로 대체한다."
   ]
  },
  {
   "cell_type": "code",
   "execution_count": 64,
   "metadata": {
    "slideshow": {
     "slide_type": "subslide"
    }
   },
   "outputs": [],
   "source": [
    "df['BsmtExposure'][948] = \"No\"  # No라는 변수가 존재한다. 이를 사람이 실수하여 잘못 넣었다고 추정했다.\n",
    "df['MasVnrType'] = df['MasVnrType'].fillna(\n",
    "    df['MasVnrType'].mode().values[0])  # 최빈값\n",
    "df['MasVnrArea'] = df['MasVnrArea'].fillna(np.mean(df[\"MasVnrArea\"]))  # 평균값\n",
    "df['Electrical'] = df['Electrical'].fillna(\n",
    "    df['Electrical'].mode().values[0])  # 최빈값\n",
    "\n",
    "df_test['MasVnrType'] = df_test['MasVnrType'].fillna(\n",
    "    df['MasVnrType'].mode().values[0])  # 최빈값\n",
    "df_test['MasVnrArea'] = df_test['MasVnrArea'].fillna(\n",
    "    np.mean(df[\"MasVnrArea\"]))  # 평균값\n",
    "df_test['Electrical'] = df_test['Electrical'].fillna(\n",
    "    df['Electrical'].mode().values[0])  # 최빈값"
   ]
  },
  {
   "cell_type": "markdown",
   "metadata": {
    "slideshow": {
     "slide_type": "subslide"
    }
   },
   "source": [
    "### 다시 missingvalue를 확인한다. na값이 없음을 확인할 수 있다."
   ]
  },
  {
   "cell_type": "code",
   "execution_count": 65,
   "metadata": {
    "slideshow": {
     "slide_type": "subslide"
    }
   },
   "outputs": [
    {
     "data": {
      "text/plain": [
       "Series([], dtype: int64)"
      ]
     },
     "execution_count": 65,
     "metadata": {},
     "output_type": "execute_result"
    }
   ],
   "source": [
    "missing = df.isnull().sum().sort_values(ascending=False)\n",
    "missing[missing > 0]"
   ]
  },
  {
   "cell_type": "markdown",
   "metadata": {
    "slideshow": {
     "slide_type": "slide"
    }
   },
   "source": [
    "# 3. OLS"
   ]
  },
  {
   "cell_type": "code",
   "execution_count": 66,
   "metadata": {
    "slideshow": {
     "slide_type": "subslide"
    }
   },
   "outputs": [],
   "source": [
    "df_all = df.copy()\n",
    "df_all_temp = pd.concat([df_all, df_test])\n",
    "df_all_temp['MSSubClass'] = df_all_temp['MSSubClass'].astype('category')\n",
    "df_temp = pd.get_dummies(df_all_temp)['MSSubClass_20']\n",
    "df_all_temp = pd.get_dummies(df_all_temp, drop_first=True)\n",
    "df_all_temp.insert(loc=36, column='MSSubClass_20', value=df_temp)\n",
    "y_all = df_all_temp['SalePrice']\n",
    "df_all_temp = df_all_temp.drop('SalePrice', axis=1)\n",
    "\n",
    "df_all = df_all_temp.iloc[:1460, :]\n",
    "y_all = y_all.iloc[:1460]\n",
    "df_test_kaggle = df_all_temp.iloc[1460:, :]"
   ]
  },
  {
   "cell_type": "code",
   "execution_count": 67,
   "metadata": {
    "scrolled": true,
    "slideshow": {
     "slide_type": "subslide"
    }
   },
   "outputs": [
    {
     "name": "stdout",
     "output_type": "stream",
     "text": [
      "                            OLS Regression Results                            \n",
      "==============================================================================\n",
      "Dep. Variable:              SalePrice   R-squared:                       0.934\n",
      "Model:                            OLS   Adj. R-squared:                  0.919\n",
      "Method:                 Least Squares   F-statistic:                     64.18\n",
      "Date:                Fri, 16 Nov 2018   Prob (F-statistic):               0.00\n",
      "Time:                        19:32:56   Log-Likelihood:                -16565.\n",
      "No. Observations:                1460   AIC:                         3.366e+04\n",
      "Df Residuals:                    1197   BIC:                         3.505e+04\n",
      "Df Model:                         262                                         \n",
      "Covariance Type:            nonrobust                                         \n",
      "=========================================================================================\n",
      "                            coef    std err          t      P>|t|      [0.025      0.975]\n",
      "-----------------------------------------------------------------------------------------\n",
      "BedroomAbvGr          -3270.6959   1408.034     -2.323      0.020   -6033.186    -508.206\n",
      "BsmtFinSF1               15.7688      2.909      5.421      0.000      10.062      21.476\n",
      "BsmtFinSF2                9.4907      6.001      1.581      0.114      -2.284      21.265\n",
      "BsmtFullBath           1555.2057   1996.272      0.779      0.436   -2361.375    5471.787\n",
      "BsmtHalfBath           -418.0438   3039.866     -0.138      0.891   -6382.103    5546.015\n",
      "BsmtUnfSF                -1.9853      2.782     -0.714      0.476      -7.444       3.473\n",
      "EnclosedPorch             4.4858     12.602      0.356      0.722     -20.239      29.211\n",
      "Fireplaces             6155.6809   2573.189      2.392      0.017    1107.218    1.12e+04\n",
      "FstFlrSF                 18.7302      6.496      2.883      0.004       5.985      31.476\n",
      "FullBath               3885.0383   2229.168      1.743      0.082    -488.474    8258.550\n",
      "GarageArea               18.7249      7.917      2.365      0.018       3.192      34.258\n",
      "GarageCars             4078.7245   2288.163      1.783      0.075    -410.532    8567.981\n",
      "GarageYrBlt             -28.7794     61.103     -0.471      0.638    -148.661      91.102\n",
      "GrLivArea                25.5035      5.778      4.414      0.000      14.167      36.840\n",
      "HalfBath               1713.9410   2110.391      0.812      0.417   -2426.537    5854.419\n",
      "KitchenAbvGr           -1.14e+04   6196.479     -1.840      0.066   -2.36e+04     753.592\n",
      "LotArea                   0.7089      0.110      6.472      0.000       0.494       0.924\n",
      "LotFrontage               8.2899     23.141      0.358      0.720     -37.111      53.691\n",
      "LowQualFinSF            -29.1423     14.077     -2.070      0.039     -56.761      -1.524\n",
      "MasVnrArea               21.4378      5.821      3.683      0.000      10.016      32.859\n",
      "MiscVal                   0.1876      6.368      0.029      0.977     -12.306      12.681\n",
      "MoSold                 -486.1605    246.211     -1.975      0.049    -969.214      -3.107\n",
      "OpenPorchSF               1.0492     11.717      0.090      0.929     -21.938      24.037\n",
      "OverallCond            5838.5290    881.998      6.620      0.000    4108.095    7568.963\n",
      "OverallQual            6535.1196   1031.965      6.333      0.000    4510.459    8559.780\n",
      "PoolArea                659.0273    229.593      2.870      0.004     208.577    1109.477\n",
      "ScreenPorch              36.0085     12.549      2.869      0.004      11.388      60.629\n",
      "SndFlrSF                 35.9156      5.505      6.524      0.000      25.114      46.717\n",
      "TSsnPorch                35.1836     22.376      1.572      0.116      -8.717      79.084\n",
      "TotRmsAbvGrd           1836.2140    965.655      1.902      0.057     -58.351    3730.779\n",
      "TotalBsmtSF              23.2742      4.104      5.671      0.000      15.222      31.326\n",
      "WoodDeckSF               15.2119      5.890      2.583      0.010       3.655      26.768\n",
      "YearBuilt               333.6152     83.790      3.982      0.000     169.224     498.006\n",
      "YearRemodAdd            101.9523     56.072      1.818      0.069      -8.058     211.963\n",
      "YrSold                 -491.0559    516.663     -0.950      0.342   -1504.721     522.609\n",
      "MSSubClass_20         -7.063e+05   1.06e+06     -0.664      0.507   -2.79e+06    1.38e+06\n",
      "Alley_Pave             -612.5937   6226.541     -0.098      0.922   -1.28e+04    1.16e+04\n",
      "Alley_noexist         -1575.0137   4248.791     -0.371      0.711   -9910.920    6760.892\n",
      "BldgType_2fmCon       -1.446e+04   2.74e+04     -0.528      0.598   -6.82e+04    3.93e+04\n",
      "BldgType_Duplex         -3.6e+05   5.32e+05     -0.677      0.499    -1.4e+06    6.83e+05\n",
      "BldgType_Twnhs        -1.494e+04   1.56e+04     -0.957      0.339   -4.56e+04    1.57e+04\n",
      "BldgType_TwnhsE       -1.043e+04   1.49e+04     -0.702      0.483   -3.96e+04    1.87e+04\n",
      "BsmtCond_Gd             980.6764   5319.063      0.184      0.854   -9455.047    1.14e+04\n",
      "BsmtCond_Po            6.721e+04   3.03e+04      2.221      0.027    7826.205    1.27e+05\n",
      "BsmtCond_TA            3675.5383   4289.642      0.857      0.392   -4740.515    1.21e+04\n",
      "BsmtCond_noexist       7492.5021   7180.753      1.043      0.297   -6595.760    2.16e+04\n",
      "BsmtExposure_Gd        1.404e+04   3036.164      4.623      0.000    8079.493       2e+04\n",
      "BsmtExposure_Mn       -3576.0742   3032.872     -1.179      0.239   -9526.412    2374.263\n",
      "BsmtExposure_No       -5330.6591   2185.561     -2.439      0.015   -9618.615   -1042.703\n",
      "BsmtExposure_noexist   7492.5021   7180.753      1.043      0.297   -6595.760    2.16e+04\n",
      "BsmtFinType1_BLQ       2990.0347   2807.823      1.065      0.287   -2518.768    8498.837\n",
      "BsmtFinType1_GLQ       5665.1739   2537.697      2.232      0.026     686.345    1.06e+04\n",
      "BsmtFinType1_LwQ      -3272.4394   3771.512     -0.868      0.386   -1.07e+04    4127.071\n",
      "BsmtFinType1_Rec        155.2569   3013.224      0.052      0.959   -5756.532    6067.045\n",
      "BsmtFinType1_Unf       3048.3413   2935.607      1.038      0.299   -2711.166    8807.848\n",
      "BsmtFinType1_noexist   7492.5021   7180.753      1.043      0.297   -6595.760    2.16e+04\n",
      "BsmtFinType2_BLQ      -1.298e+04   7599.706     -1.708      0.088   -2.79e+04    1928.455\n",
      "BsmtFinType2_GLQ      -2923.8057   9439.783     -0.310      0.757   -2.14e+04    1.56e+04\n",
      "BsmtFinType2_LwQ      -1.374e+04   7428.626     -1.850      0.065   -2.83e+04     834.452\n",
      "BsmtFinType2_Rec      -9844.5606   7136.243     -1.380      0.168   -2.38e+04    4156.376\n",
      "BsmtFinType2_Unf      -7725.9070   7606.553     -1.016      0.310   -2.26e+04    7197.753\n",
      "BsmtFinType2_noexist  -2.928e+04    2.5e+04     -1.170      0.242   -7.84e+04    1.98e+04\n",
      "BsmtQual_Fa           -1.053e+04   6464.818     -1.629      0.104   -2.32e+04    2151.633\n",
      "BsmtQual_Gd           -1.762e+04   3341.900     -5.271      0.000   -2.42e+04   -1.11e+04\n",
      "BsmtQual_TA           -1.373e+04   4171.636     -3.292      0.001   -2.19e+04   -5547.362\n",
      "BsmtQual_noexist       7492.5021   7180.753      1.043      0.297   -6595.760    2.16e+04\n",
      "CentralAir_Y           -925.5331   3915.219     -0.236      0.813   -8606.988    6755.922\n",
      "Condition1_Feedr       7037.5141   5049.889      1.394      0.164   -2870.104    1.69e+04\n",
      "Condition1_Norm        1.667e+04   4223.751      3.946      0.000    8378.442     2.5e+04\n",
      "Condition1_PosA        1.094e+04   9978.592      1.096      0.273   -8642.400    3.05e+04\n",
      "Condition1_PosN         1.52e+04   7527.741      2.019      0.044     429.492       3e+04\n",
      "Condition1_RRAe       -1.536e+04   9127.824     -1.683      0.093   -3.33e+04    2545.779\n",
      "Condition1_RRAn        1.342e+04   6981.329      1.923      0.055    -275.054    2.71e+04\n",
      "Condition1_RRNe       -3830.9652   1.75e+04     -0.219      0.827   -3.82e+04    3.05e+04\n",
      "Condition1_RRNn        1.257e+04   1.29e+04      0.973      0.331   -1.28e+04    3.79e+04\n",
      "Condition2_Feedr      -5395.8489   2.66e+04     -0.203      0.839   -5.76e+04    4.68e+04\n",
      "Condition2_Norm       -1.126e+04    2.4e+04     -0.469      0.639   -5.84e+04    3.59e+04\n",
      "Condition2_PosA         4.79e+04   3.92e+04      1.223      0.222    -2.9e+04    1.25e+05\n",
      "Condition2_PosN       -2.386e+05   3.04e+04     -7.851      0.000   -2.98e+05   -1.79e+05\n",
      "Condition2_RRAe       -1.372e+05   7.29e+04     -1.883      0.060    -2.8e+05    5751.959\n",
      "Condition2_RRAn       -2.329e+04   3.42e+04     -0.681      0.496   -9.04e+04    4.38e+04\n",
      "Condition2_RRNn       -4089.4095   3.02e+04     -0.135      0.892   -6.33e+04    5.52e+04\n",
      "Electrical_FuseF       -619.8595   5845.679     -0.106      0.916   -1.21e+04    1.08e+04\n",
      "Electrical_FuseP      -8935.5037   1.88e+04     -0.476      0.634   -4.58e+04    2.79e+04\n",
      "Electrical_Mix        -4.644e+04   4.49e+04     -1.035      0.301   -1.34e+05    4.16e+04\n",
      "Electrical_SBrkr      -2148.2531   3026.679     -0.710      0.478   -8086.440    3789.934\n",
      "ExterCond_Fa          -2392.3492   1.81e+04     -0.132      0.895    -3.8e+04    3.32e+04\n",
      "ExterCond_Gd          -7419.0135   1.73e+04     -0.429      0.668   -4.14e+04    2.65e+04\n",
      "ExterCond_Po           5833.8503   3.18e+04      0.183      0.855   -5.66e+04    6.83e+04\n",
      "ExterCond_TA          -4309.0811   1.73e+04     -0.250      0.803   -3.82e+04    2.95e+04\n",
      "ExterQual_Fa          -9299.8433   1.22e+04     -0.760      0.448   -3.33e+04    1.47e+04\n",
      "ExterQual_Gd           -2.11e+04   4800.609     -4.396      0.000   -3.05e+04   -1.17e+04\n",
      "ExterQual_TA          -2.051e+04   5336.129     -3.844      0.000    -3.1e+04      -1e+04\n",
      "Exterior1st_AsphShn   -2.303e+04   3.31e+04     -0.696      0.487    -8.8e+04    4.19e+04\n",
      "Exterior1st_BrkComm      52.5352   2.84e+04      0.002      0.999   -5.58e+04    5.59e+04\n",
      "Exterior1st_BrkFace    9293.1685   1.29e+04      0.720      0.472    -1.6e+04    3.46e+04\n",
      "Exterior1st_CBlock    -5849.6439   1.38e+04     -0.422      0.673    -3.3e+04    2.13e+04\n",
      "Exterior1st_CemntBd   -1.166e+04   1.92e+04     -0.609      0.543   -4.92e+04    2.59e+04\n",
      "Exterior1st_HdBoard   -1.182e+04   1.31e+04     -0.902      0.367   -3.75e+04    1.39e+04\n",
      "Exterior1st_ImStucc   -1.841e+04   2.84e+04     -0.650      0.516    -7.4e+04    3.72e+04\n",
      "Exterior1st_MetalSd   -3723.3124   1.49e+04     -0.250      0.802   -3.29e+04    2.55e+04\n",
      "Exterior1st_Plywood   -1.261e+04   1.29e+04     -0.975      0.330    -3.8e+04    1.28e+04\n",
      "Exterior1st_Stone      1904.4782   2.45e+04      0.078      0.938   -4.61e+04    4.99e+04\n",
      "Exterior1st_Stucco    -6549.4063   1.42e+04     -0.461      0.645   -3.44e+04    2.13e+04\n",
      "Exterior1st_VinylSd   -1.209e+04   1.35e+04     -0.894      0.371   -3.86e+04    1.44e+04\n",
      "Exterior1st_Wd Sdng   -1.257e+04   1.26e+04     -1.001      0.317   -3.72e+04    1.21e+04\n",
      "Exterior1st_WdShing   -8636.9419   1.35e+04     -0.638      0.524   -3.52e+04    1.79e+04\n",
      "Exterior2nd_AsphShn    9774.0388   2.24e+04      0.436      0.663   -3.42e+04    5.37e+04\n",
      "Exterior2nd_Brk Cmn    3782.1999   2.08e+04      0.182      0.856    -3.7e+04    4.45e+04\n",
      "Exterior2nd_BrkFace    2369.2754   1.34e+04      0.177      0.859   -2.39e+04    2.86e+04\n",
      "Exterior2nd_CBlock    -5849.6439   1.38e+04     -0.422      0.673    -3.3e+04    2.13e+04\n",
      "Exterior2nd_CmentBd    1.217e+04   1.88e+04      0.646      0.518   -2.48e+04    4.91e+04\n",
      "Exterior2nd_HdBoard    6916.1607   1.26e+04      0.548      0.584   -1.78e+04    3.17e+04\n",
      "Exterior2nd_ImStucc    1.394e+04   1.46e+04      0.957      0.339   -1.46e+04    4.25e+04\n",
      "Exterior2nd_MetalSd    3604.7974   1.45e+04      0.249      0.803   -2.48e+04     3.2e+04\n",
      "Exterior2nd_Other     -2.027e+04   2.72e+04     -0.746      0.456   -7.36e+04    3.31e+04\n",
      "Exterior2nd_Plywood    5304.5031   1.22e+04      0.433      0.665   -1.87e+04    2.93e+04\n",
      "Exterior2nd_Stone     -1.249e+04   1.74e+04     -0.719      0.472   -4.66e+04    2.16e+04\n",
      "Exterior2nd_Stucco     4110.7207   1.37e+04      0.300      0.764   -2.28e+04     3.1e+04\n",
      "Exterior2nd_VinylSd     1.09e+04    1.3e+04      0.839      0.402   -1.46e+04    3.64e+04\n",
      "Exterior2nd_Wd Sdng    1.052e+04   1.21e+04      0.869      0.385   -1.32e+04    3.43e+04\n",
      "Exterior2nd_Wd Shng    4085.9447   1.26e+04      0.323      0.746   -2.07e+04    2.89e+04\n",
      "Fence_GdWo             8198.6649   4950.811      1.656      0.098   -1514.567    1.79e+04\n",
      "Fence_MnPrv            9687.4017   4027.511      2.405      0.016    1785.635    1.76e+04\n",
      "Fence_MnWw             3872.5208   8236.776      0.470      0.638   -1.23e+04       2e+04\n",
      "Fence_noexist          8931.2866   3695.959      2.417      0.016    1680.007    1.62e+04\n",
      "FireplaceQu_Fa        -2217.1723   6916.726     -0.321      0.749   -1.58e+04    1.14e+04\n",
      "FireplaceQu_Gd         1618.1743   5361.293      0.302      0.763   -8900.404    1.21e+04\n",
      "FireplaceQu_Po          1.14e+04   7956.033      1.433      0.152   -4208.519     2.7e+04\n",
      "FireplaceQu_TA         2731.8692   5565.089      0.491      0.624   -8186.545    1.37e+04\n",
      "FireplaceQu_noexist    7600.1626   6256.134      1.215      0.225   -4674.045    1.99e+04\n",
      "Foundation_CBlock      3932.1097   3248.192      1.211      0.226   -2440.674    1.03e+04\n",
      "Foundation_PConc       4937.6992   3480.387      1.419      0.156   -1890.639    1.18e+04\n",
      "Foundation_Slab       -6001.0049   1.01e+04     -0.594      0.553   -2.58e+04    1.38e+04\n",
      "Foundation_Stone       8615.9174   1.15e+04      0.748      0.455    -1.4e+04    3.12e+04\n",
      "Foundation_Wood       -2.582e+04   1.48e+04     -1.742      0.082   -5.49e+04    3261.415\n",
      "Functional_Maj2       -2248.0494   1.45e+04     -0.155      0.877   -3.07e+04    2.62e+04\n",
      "Functional_Min1        6040.0863   8727.753      0.692      0.489   -1.11e+04    2.32e+04\n",
      "Functional_Min2        9082.7490   8843.446      1.027      0.305   -8267.631    2.64e+04\n",
      "Functional_Mod        -6213.0331   1.07e+04     -0.581      0.561   -2.72e+04    1.48e+04\n",
      "Functional_Sev        -4.169e+04   2.99e+04     -1.396      0.163      -1e+05    1.69e+04\n",
      "Functional_Typ         1.805e+04   7648.806      2.360      0.018    3044.606    3.31e+04\n",
      "GarageCond_Fa          1.189e+05   3.51e+04      3.388      0.001       5e+04    1.88e+05\n",
      "GarageCond_Gd          1.211e+05   3.66e+04      3.310      0.001    4.93e+04    1.93e+05\n",
      "GarageCond_Po          1.233e+05   3.82e+04      3.224      0.001    4.83e+04    1.98e+05\n",
      "GarageCond_TA          1.217e+05   3.48e+04      3.497      0.000    5.34e+04     1.9e+05\n",
      "GarageCond_noexist    -8264.5806   3.04e+04     -0.272      0.786    -6.8e+04    5.15e+04\n",
      "GarageFinish_RFn      -2252.3963   1969.225     -1.144      0.253   -6115.914    1611.121\n",
      "GarageFinish_Unf       -344.7671   2445.858     -0.141      0.888   -5143.413    4453.879\n",
      "GarageFinish_noexist  -8264.5806   3.04e+04     -0.272      0.786    -6.8e+04    5.15e+04\n",
      "GarageQual_Fa         -1.332e+05   3.05e+04     -4.372      0.000   -1.93e+05   -7.34e+04\n",
      "GarageQual_Gd         -1.294e+05   3.13e+04     -4.130      0.000   -1.91e+05   -6.79e+04\n",
      "GarageQual_Po         -1.446e+05   3.99e+04     -3.623      0.000   -2.23e+05   -6.63e+04\n",
      "GarageQual_TA         -1.269e+05   3.02e+04     -4.206      0.000   -1.86e+05   -6.77e+04\n",
      "GarageQual_noexist    -8264.5806   3.04e+04     -0.272      0.786    -6.8e+04    5.15e+04\n",
      "GarageType_Attchd      1.974e+04   1.11e+04      1.784      0.075   -1971.333    4.14e+04\n",
      "GarageType_Basment     2.376e+04   1.29e+04      1.843      0.066   -1539.711    4.91e+04\n",
      "GarageType_BuiltIn      1.98e+04   1.15e+04      1.714      0.087   -2858.875    4.25e+04\n",
      "GarageType_CarPort     2.546e+04   1.49e+04      1.710      0.088   -3749.473    5.47e+04\n",
      "GarageType_Detchd      2.289e+04   1.11e+04      2.069      0.039    1187.277    4.46e+04\n",
      "GarageType_noexist    -8264.5806   3.04e+04     -0.272      0.786    -6.8e+04    5.15e+04\n",
      "Heating_GasA           7194.8304   2.57e+04      0.280      0.779   -4.32e+04    5.76e+04\n",
      "Heating_GasW           3871.5988   2.64e+04      0.146      0.884    -4.8e+04    5.58e+04\n",
      "Heating_Grav           -938.1311   2.83e+04     -0.033      0.974   -5.65e+04    5.46e+04\n",
      "Heating_OthW          -9497.0564   3.17e+04     -0.300      0.764   -7.16e+04    5.26e+04\n",
      "Heating_Wall           1.979e+04   2.98e+04      0.663      0.507   -3.87e+04    7.83e+04\n",
      "HeatingQC_Fa            -86.6626   4748.001     -0.018      0.985   -9401.992    9228.667\n",
      "HeatingQC_Gd          -3624.7658   2076.374     -1.746      0.081   -7698.503     448.971\n",
      "HeatingQC_Po           1912.0523   2.67e+04      0.072      0.943   -5.05e+04    5.44e+04\n",
      "HeatingQC_TA          -3077.5479   2079.424     -1.480      0.139   -7157.269    1002.173\n",
      "HouseStyle_1.5Unf      1.411e+04   2.48e+04      0.568      0.570   -3.46e+04    6.28e+04\n",
      "HouseStyle_1Story      3469.7999   8936.042      0.388      0.698   -1.41e+04     2.1e+04\n",
      "HouseStyle_2.5Fin     -8318.3509    1.8e+04     -0.463      0.643   -4.35e+04    2.69e+04\n",
      "HouseStyle_2.5Unf      1368.3941   1.68e+04      0.081      0.935   -3.16e+04    3.43e+04\n",
      "HouseStyle_2Story     -1.339e+04   8192.153     -1.635      0.102   -2.95e+04    2681.433\n",
      "HouseStyle_SFoyer      6317.7292   1.19e+04      0.531      0.595    -1.7e+04    2.96e+04\n",
      "HouseStyle_SLvl        8906.4494   1.39e+04      0.641      0.522   -1.84e+04    3.62e+04\n",
      "KitchenQual_Fa        -2.007e+04   6267.345     -3.202      0.001   -3.24e+04   -7768.936\n",
      "KitchenQual_Gd        -2.355e+04   3490.133     -6.748      0.000   -3.04e+04   -1.67e+04\n",
      "KitchenQual_TA        -2.288e+04   3937.904     -5.810      0.000   -3.06e+04   -1.52e+04\n",
      "LandContour_HLS        8329.9648   5209.463      1.599      0.110   -1890.729    1.86e+04\n",
      "LandContour_Low       -1.022e+04   6533.423     -1.564      0.118    -2.3e+04    2597.943\n",
      "LandContour_Lvl        5544.5709   3752.467      1.478      0.140   -1817.574    1.29e+04\n",
      "LandSlope_Mod          7784.9660   4031.302      1.931      0.054    -124.237    1.57e+04\n",
      "LandSlope_Sev         -4.262e+04   1.14e+04     -3.724      0.000   -6.51e+04   -2.02e+04\n",
      "LotConfig_CulDSac      8070.9820   3258.535      2.477      0.013    1677.907    1.45e+04\n",
      "LotConfig_FR2         -7539.1288   4013.607     -1.878      0.061   -1.54e+04     335.358\n",
      "LotConfig_FR3         -1.732e+04   1.26e+04     -1.372      0.170   -4.21e+04    7442.857\n",
      "LotConfig_Inside      -1753.9350   1766.416     -0.993      0.321   -5219.551    1711.681\n",
      "LotShape_IR2           4876.4405   4226.962      1.154      0.249   -3416.638    1.32e+04\n",
      "LotShape_IR3           5967.7581   8830.073      0.676      0.499   -1.14e+04    2.33e+04\n",
      "LotShape_Reg           1800.8468   1644.507      1.095      0.274   -1425.590    5027.283\n",
      "MSSubClass_30         -7.033e+05   1.06e+06     -0.661      0.509   -2.79e+06    1.38e+06\n",
      "MSSubClass_40         -7.109e+05   1.06e+06     -0.669      0.504    -2.8e+06    1.37e+06\n",
      "MSSubClass_45         -7.107e+05   1.06e+06     -0.668      0.504    -2.8e+06    1.38e+06\n",
      "MSSubClass_50         -7.082e+05   1.06e+06     -0.666      0.505   -2.79e+06    1.38e+06\n",
      "MSSubClass_60         -7.017e+05   1.06e+06     -0.660      0.509   -2.79e+06    1.38e+06\n",
      "MSSubClass_70         -6.995e+05   1.06e+06     -0.658      0.511   -2.79e+06    1.39e+06\n",
      "MSSubClass_75         -7.232e+05   1.06e+06     -0.680      0.496   -2.81e+06    1.36e+06\n",
      "MSSubClass_80         -7.167e+05   1.06e+06     -0.674      0.501    -2.8e+06    1.37e+06\n",
      "MSSubClass_85         -7.203e+05   1.06e+06     -0.677      0.499   -2.81e+06    1.37e+06\n",
      "MSSubClass_90           -3.6e+05   5.32e+05     -0.677      0.499    -1.4e+06    6.83e+05\n",
      "MSSubClass_120         -7.16e+05   1.06e+06     -0.673      0.501    -2.8e+06    1.37e+06\n",
      "MSSubClass_150         1.687e-07   2.51e-07      0.672      0.502   -3.24e-07    6.61e-07\n",
      "MSSubClass_160         -7.13e+05   1.06e+06     -0.671      0.503    -2.8e+06    1.37e+06\n",
      "MSSubClass_180        -7.197e+05   1.06e+06     -0.677      0.499   -2.81e+06    1.37e+06\n",
      "MSSubClass_190        -7.042e+05   1.06e+06     -0.662      0.508   -2.79e+06    1.38e+06\n",
      "MSZoning_FV            3.391e+04   1.22e+04      2.773      0.006    9921.982    5.79e+04\n",
      "MSZoning_RH            2.351e+04   1.21e+04      1.945      0.052    -208.719    4.72e+04\n",
      "MSZoning_RL            2.669e+04   1.04e+04      2.556      0.011    6204.819    4.72e+04\n",
      "MSZoning_RM            2.342e+04   9812.379      2.387      0.017    4170.020    4.27e+04\n",
      "MasVnrType_BrkFace     4267.3384   6860.967      0.622      0.534   -9193.520    1.77e+04\n",
      "MasVnrType_None        7409.6266   6924.832      1.070      0.285   -6176.532     2.1e+04\n",
      "MasVnrType_Stone       9382.9765   7272.774      1.290      0.197   -4885.827    2.37e+04\n",
      "MiscFeature_Othr       2.068e+04   9.24e+04      0.224      0.823   -1.61e+05    2.02e+05\n",
      "MiscFeature_Shed       4496.5295   9.66e+04      0.047      0.963   -1.85e+05    1.94e+05\n",
      "MiscFeature_TenC       2.744e+04   9.97e+04      0.275      0.783   -1.68e+05    2.23e+05\n",
      "MiscFeature_noexist    2178.5364   1.01e+05      0.022      0.983   -1.96e+05       2e+05\n",
      "Neighborhood_Blueste   8212.9511      2e+04      0.410      0.682   -3.11e+04    4.75e+04\n",
      "Neighborhood_BrDale   -2062.4841   1.18e+04     -0.175      0.861   -2.52e+04    2.11e+04\n",
      "Neighborhood_BrkSide  -7345.4407   9648.903     -0.761      0.447   -2.63e+04    1.16e+04\n",
      "Neighborhood_ClearCr  -1.525e+04   9351.661     -1.631      0.103   -3.36e+04    3092.603\n",
      "Neighborhood_CollgCr  -1.062e+04   7327.802     -1.449      0.148    -2.5e+04    3757.206\n",
      "Neighborhood_Crawfor   1.025e+04   8688.588      1.179      0.239   -6801.103    2.73e+04\n",
      "Neighborhood_Edwards  -2.226e+04   8115.458     -2.743      0.006   -3.82e+04   -6339.389\n",
      "Neighborhood_Gilbert  -1.183e+04   7729.096     -1.530      0.126    -2.7e+04    3334.843\n",
      "Neighborhood_IDOTRR   -1.355e+04   1.09e+04     -1.238      0.216    -3.5e+04    7929.625\n",
      "Neighborhood_MeadowV  -9810.7842   1.24e+04     -0.793      0.428   -3.41e+04    1.44e+04\n",
      "Neighborhood_Mitchel   -2.14e+04   8241.537     -2.596      0.010   -3.76e+04   -5229.458\n",
      "Neighborhood_NAmes    -1.763e+04   7923.522     -2.225      0.026   -3.32e+04   -2081.004\n",
      "Neighborhood_NPkVill   1.326e+04   1.41e+04      0.943      0.346   -1.43e+04    4.09e+04\n",
      "Neighborhood_NWAmes   -1.804e+04   8087.341     -2.231      0.026   -3.39e+04   -2171.990\n",
      "Neighborhood_NoRidge   2.455e+04   8510.085      2.885      0.004    7858.460    4.13e+04\n",
      "Neighborhood_NridgHt   1.777e+04   7558.953      2.351      0.019    2938.898    3.26e+04\n",
      "Neighborhood_OldTown  -1.566e+04   9788.681     -1.600      0.110   -3.49e+04    3542.920\n",
      "Neighborhood_SWISU    -9534.5749   9794.056     -0.974      0.330   -2.88e+04    9680.852\n",
      "Neighborhood_Sawyer   -1.144e+04   8195.618     -1.396      0.163   -2.75e+04    4641.685\n",
      "Neighborhood_SawyerW  -3357.4778   7868.304     -0.427      0.670   -1.88e+04    1.21e+04\n",
      "Neighborhood_Somerst  -2656.0196   9097.523     -0.292      0.770   -2.05e+04    1.52e+04\n",
      "Neighborhood_StoneBr   3.903e+04   8373.606      4.661      0.000    2.26e+04    5.55e+04\n",
      "Neighborhood_Timber   -1.001e+04   8166.682     -1.226      0.221    -2.6e+04    6013.199\n",
      "Neighborhood_Veenker   -260.5723   1.05e+04     -0.025      0.980   -2.09e+04    2.04e+04\n",
      "PavedDrive_P          -3757.2301   5621.205     -0.668      0.504   -1.48e+04    7271.281\n",
      "PavedDrive_Y           -525.5577   3492.927     -0.150      0.880   -7378.499    6327.384\n",
      "PoolQC_Fa             -1.655e+05   4.11e+04     -4.024      0.000   -2.46e+05   -8.48e+04\n",
      "PoolQC_Gd             -1.367e+05   3.72e+04     -3.678      0.000    -2.1e+05   -6.38e+04\n",
      "PoolQC_noexist         2.287e+05   1.25e+05      1.825      0.068   -1.71e+04    4.74e+05\n",
      "RoofMatl_CompShg       5.736e+05   5.28e+04     10.868      0.000     4.7e+05    6.77e+05\n",
      "RoofMatl_Membran       6.709e+05   6.27e+04     10.706      0.000    5.48e+05    7.94e+05\n",
      "RoofMatl_Metal          6.39e+05   6.24e+04     10.242      0.000    5.17e+05    7.61e+05\n",
      "RoofMatl_Roll          5.685e+05   5.87e+04      9.680      0.000    4.53e+05    6.84e+05\n",
      "RoofMatl_Tar&Grv       5.754e+05   5.67e+04     10.154      0.000    4.64e+05    6.87e+05\n",
      "RoofMatl_WdShake       5.642e+05   5.51e+04     10.237      0.000    4.56e+05    6.72e+05\n",
      "RoofMatl_WdShngl       6.283e+05   5.36e+04     11.711      0.000    5.23e+05    7.34e+05\n",
      "RoofStyle_Gable        9460.9315   1.85e+04      0.510      0.610   -2.69e+04    4.58e+04\n",
      "RoofStyle_Gambrel       1.18e+04   2.03e+04      0.580      0.562   -2.81e+04    5.17e+04\n",
      "RoofStyle_Hip          9082.6317   1.86e+04      0.488      0.626   -2.74e+04    4.56e+04\n",
      "RoofStyle_Mansard      2.124e+04   2.16e+04      0.984      0.325   -2.11e+04    6.36e+04\n",
      "RoofStyle_Shed          1.07e+05   3.85e+04      2.776      0.006    3.14e+04    1.83e+05\n",
      "SaleCondition_AdjLand  9636.7203   1.46e+04      0.658      0.511   -1.91e+04    3.84e+04\n",
      "SaleCondition_Alloca   -422.1138   9096.736     -0.046      0.963   -1.83e+04    1.74e+04\n",
      "SaleCondition_Family   1122.7655   6114.841      0.184      0.854   -1.09e+04    1.31e+04\n",
      "SaleCondition_Normal   6804.7470   2918.113      2.332      0.020    1079.561    1.25e+04\n",
      "SaleCondition_Partial   558.5402   1.49e+04      0.037      0.970   -2.87e+04    2.98e+04\n",
      "SaleType_CWD           1.549e+04   1.29e+04      1.199      0.231   -9845.358    4.08e+04\n",
      "SaleType_Con           2.524e+04   1.76e+04      1.434      0.152   -9303.965    5.98e+04\n",
      "SaleType_ConLD         1.604e+04   9932.832      1.615      0.107   -3449.524    3.55e+04\n",
      "SaleType_ConLI         3512.9863   1.16e+04      0.303      0.762   -1.92e+04    2.63e+04\n",
      "SaleType_ConLw         1759.3267   1.22e+04      0.144      0.886   -2.23e+04    2.58e+04\n",
      "SaleType_New           2.031e+04   1.55e+04      1.310      0.191   -1.01e+04    5.07e+04\n",
      "SaleType_Oth           7012.5295   1.45e+04      0.482      0.630   -2.15e+04    3.55e+04\n",
      "SaleType_WD            -493.9503   4204.527     -0.117      0.906   -8743.013    7755.112\n",
      "Street_Pave            3.267e+04   1.26e+04      2.596      0.010    7978.855    5.74e+04\n",
      "Utilities_NoSeWa      -4.442e+04   2.86e+04     -1.553      0.121   -1.01e+05    1.17e+04\n",
      "==============================================================================\n",
      "Omnibus:                      403.021   Durbin-Watson:                   1.920\n",
      "Prob(Omnibus):                  0.000   Jarque-Bera (JB):            14560.488\n",
      "Skew:                           0.575   Prob(JB):                         0.00\n",
      "Kurtosis:                      18.428   Cond. No.                     1.32e+16\n",
      "==============================================================================\n",
      "\n",
      "Warnings:\n",
      "[1] Standard Errors assume that the covariance matrix of the errors is correctly specified.\n",
      "[2] The smallest eigenvalue is 1.88e-21. This might indicate that there are\n",
      "strong multicollinearity problems or that the design matrix is singular.\n"
     ]
    }
   ],
   "source": [
    "result_all = sm.OLS(y_all, df_all).fit()\n",
    "print(result_all.summary())"
   ]
  },
  {
   "cell_type": "markdown",
   "metadata": {
    "slideshow": {
     "slide_type": "slide"
    }
   },
   "source": [
    "# 4. Scaling : Nomalization\n",
    "## - loss가 89092에서 77219로 떨어졌음을 볼 수 있다"
   ]
  },
  {
   "cell_type": "code",
   "execution_count": 68,
   "metadata": {
    "slideshow": {
     "slide_type": "subslide"
    }
   },
   "outputs": [
    {
     "name": "stdout",
     "output_type": "stream",
     "text": [
      "89092.2414908864\n"
     ]
    }
   ],
   "source": [
    "score = 0\n",
    "cv = KFold(5, shuffle=True, random_state=0)\n",
    "for i, (idx_train, idx_test) in enumerate(cv.split(df_all)):\n",
    "    df_train, df_train_y = df_all.iloc[idx_train], y_all.iloc[idx_train]\n",
    "    df_test, df_test_y = df_all.iloc[idx_test], y_all.iloc[idx_test]\n",
    "    result_temp = sm.OLS(df_train_y, df_train).fit()\n",
    "    yhat = result_temp.predict(df_test)\n",
    "    temp_score = np.sqrt(mean_squared_error(df_test_y, yhat))\n",
    "    score += temp_score\n",
    "print(score/5)"
   ]
  },
  {
   "cell_type": "code",
   "execution_count": 69,
   "metadata": {
    "slideshow": {
     "slide_type": "subslide"
    }
   },
   "outputs": [
    {
     "name": "stdout",
     "output_type": "stream",
     "text": [
      "77219.45775890884\n"
     ]
    }
   ],
   "source": [
    "df_norm = df_all.copy()\n",
    "df_norm[quantitative] = (df_norm[quantitative] -\n",
    "                         df_norm[quantitative].mean()) / df_norm[quantitative].std()\n",
    "df_test_kaggle[quantitative] = (df_test_kaggle[quantitative] -\n",
    "                                df_test_kaggle[quantitative].mean()) / df_test_kaggle[quantitative].std()\n",
    "y_norm = y_all.copy()\n",
    "score = 0\n",
    "for i, (idx_train, idx_test) in enumerate(cv.split(df_norm)):\n",
    "    df_train, df_train_y = df_norm.iloc[idx_train], y_norm.iloc[idx_train]\n",
    "    df_test, df_test_y = df_norm.iloc[idx_test], y_norm.iloc[idx_test]\n",
    "    result_norm = sm.OLS(df_train_y, df_train).fit()\n",
    "    yhat = result_norm.predict(df_test)\n",
    "    temp_score = np.sqrt(mean_squared_error(df_test_y, yhat))\n",
    "    score += temp_score\n",
    "print(score/5)"
   ]
  },
  {
   "cell_type": "markdown",
   "metadata": {
    "slideshow": {
     "slide_type": "slide"
    }
   },
   "source": [
    "# 5. LASSO Reguralization\n",
    "\n",
    "## - Train data와 kfold를 돌렸을 때의 loss값 차이가 많이 났음을 알 수 있다. 여기서 우리는 이 데이터가 과적합 되었을 가능성이 높다고 판단했다.\n",
    "## - loss가 77219에서 31546까지 떨어졌음을 볼 수 있다.\n",
    "## - Lasso와 Ridge중 Lasso가 결과값이 좋았으며 regularization term이 0.1일때 RMSE가 최저가 되는 것을 확인할 수 있다."
   ]
  },
  {
   "cell_type": "code",
   "execution_count": 70,
   "metadata": {
    "slideshow": {
     "slide_type": "subslide"
    }
   },
   "outputs": [
    {
     "name": "stdout",
     "output_type": "stream",
     "text": [
      "20472.383788551513\n"
     ]
    }
   ],
   "source": [
    "score = 0\n",
    "df_norm_all = df_norm.copy()\n",
    "y_norm_all = y_norm.copy()\n",
    "result_norm = sm.OLS(y_norm_all, df_norm_all).fit()\n",
    "yhat = result_norm.predict(df_norm_all)\n",
    "score = np.sqrt(mean_squared_error(y_norm_all, yhat))\n",
    "print(score)"
   ]
  },
  {
   "cell_type": "code",
   "execution_count": 71,
   "metadata": {
    "slideshow": {
     "slide_type": "subslide"
    }
   },
   "outputs": [
    {
     "name": "stdout",
     "output_type": "stream",
     "text": [
      "0.0001 0 39596.41047796486\n",
      "0.0003 0 36291.1659528416\n",
      "0.001 0 33601.18999844759\n",
      "0.003 0 32207.688324636896\n",
      "0.01 0 31545.697883839777\n",
      "0.03 0 31658.316529282216\n",
      "0.1 0 32615.39220633355\n",
      "\n",
      "0.0001 1 47963.70426462027\n",
      "0.0003 1 47963.91359956021\n",
      "0.001 1 47963.27276160296\n",
      "0.003 1 47961.72847542296\n",
      "0.01 1 47977.588062433366\n",
      "0.03 1 47942.663123223334\n",
      "0.1 1 47937.02805070308\n",
      "\n"
     ]
    }
   ],
   "source": [
    "regularization = [0, 1]\n",
    "alpha = [0.0001, 0.0003, 0.001, 0.003, 0.01, 0.03, 0.1]\n",
    "for r in regularization:\n",
    "    for a in alpha:\n",
    "        score = 0\n",
    "        for i, (idx_train, idx_test) in enumerate(cv.split(df_norm)):\n",
    "            df_train, df_train_y = df_norm.iloc[idx_train], y_norm.iloc[idx_train]\n",
    "            df_test, df_test_y = df_norm.iloc[idx_test], y_norm.iloc[idx_test]\n",
    "            result_reg = sm.OLS(df_train_y, df_train).fit_regularized(\n",
    "                alpha=a, L1_wt=r)\n",
    "            yhat = result_reg.predict(df_test)\n",
    "            temp_score = np.sqrt(mean_squared_error(df_test_y, yhat))\n",
    "            score += temp_score\n",
    "        score /= 5\n",
    "        print(a, r, score)\n",
    "    print()"
   ]
  },
  {
   "cell_type": "markdown",
   "metadata": {
    "slideshow": {
     "slide_type": "slide"
    }
   },
   "source": [
    "# 6. Final OLS"
   ]
  },
  {
   "cell_type": "markdown",
   "metadata": {
    "slideshow": {
     "slide_type": "subslide"
    }
   },
   "source": [
    "### 라쏘 모형의 alpha 값을 0.01로 설정해 준다."
   ]
  },
  {
   "cell_type": "code",
   "execution_count": 72,
   "metadata": {
    "slideshow": {
     "slide_type": "subslide"
    }
   },
   "outputs": [
    {
     "data": {
      "image/png": "[encoded data removed]",
      "text/plain": [
       "<Figure size 432x288 with 1 Axes>"
      ]
     },
     "metadata": {
      "image/png": {
       "height": 269,
       "width": 413
      }
     },
     "output_type": "display_data"
    }
   ],
   "source": [
    "import matplotlib.pylab as plt\n",
    "result_reg = sm.OLS(y_norm, df_norm).fit_regularized(alpha=0.01, L1_wt=0)\n",
    "yhat = result_reg.predict(df_norm)\n",
    "result_from = {'predicted': yhat, 'SalePrice': y_norm}\n",
    "ax = sns.scatterplot(x=\"predicted\", y=\"SalePrice\", data=result_from)\n",
    "plt.xlabel(\"predict\")\n",
    "plt.show()"
   ]
  },
  {
   "cell_type": "markdown",
   "metadata": {
    "slideshow": {
     "slide_type": "slide"
    }
   },
   "source": [
    "# 7. 수치해석"
   ]
  },
  {
   "cell_type": "code",
   "execution_count": 73,
   "metadata": {
    "scrolled": false,
    "slideshow": {
     "slide_type": "subslide"
    }
   },
   "outputs": [],
   "source": [
    "most_relevant = np.argsort(np.absolute(result_reg.params))[-10:]"
   ]
  },
  {
   "cell_type": "code",
   "execution_count": 74,
   "metadata": {
    "slideshow": {
     "slide_type": "subslide"
    }
   },
   "outputs": [
    {
     "name": "stdout",
     "output_type": "stream",
     "text": [
      "Condition2_PosN -16958.75667647271\n",
      "KitchenQual_Gd -17179.320489595357\n",
      "PoolQC_Gd -17631.813535171226\n",
      "Condition2_Norm 19346.23270058354\n",
      "Street_Pave 20966.40680803261\n",
      "PoolQC_noexist 22379.695009701827\n",
      "Neighborhood_NridgHt 23528.936509755487\n",
      "RoofMatl_WdShngl 24395.021988327317\n",
      "Neighborhood_StoneBr 24797.924388486445\n",
      "Neighborhood_NoRidge 26670.645354514152\n"
     ]
    }
   ],
   "source": [
    "k = 0\n",
    "for i in df_norm.columns[most_relevant]:\n",
    "    print(i, result_reg.params[most_relevant][k])\n",
    "    k += 1"
   ]
  },
  {
   "cell_type": "markdown",
   "metadata": {
    "slideshow": {
     "slide_type": "slide"
    }
   },
   "source": [
    "## Kaggle에 제출"
   ]
  },
  {
   "cell_type": "code",
   "execution_count": 75,
   "metadata": {
    "slideshow": {
     "slide_type": "subslide"
    }
   },
   "outputs": [],
   "source": [
    "nan_list = df_test_kaggle.columns[df_test_kaggle.isna().any()].tolist()\n",
    "for i in nan_list:\n",
    "    df_test_kaggle[nan_list] = df_test_kaggle[nan_list].fillna(\n",
    "        np.mean(df[nan_list]))"
   ]
  },
  {
   "cell_type": "code",
   "execution_count": 76,
   "metadata": {
    "slideshow": {
     "slide_type": "subslide"
    }
   },
   "outputs": [],
   "source": [
    "kaggle = result_reg.predict(df_test_kaggle)"
   ]
  },
  {
   "cell_type": "code",
   "execution_count": 77,
   "metadata": {
    "slideshow": {
     "slide_type": "subslide"
    }
   },
   "outputs": [],
   "source": [
    "kaggle_csv = pd.read_csv('sample_submission.csv')\n",
    "kaggle_csv['SalePrice'] = kaggle"
   ]
  },
  {
   "cell_type": "code",
   "execution_count": 78,
   "metadata": {
    "slideshow": {
     "slide_type": "subslide"
    }
   },
   "outputs": [],
   "source": [
    "kaggle_csv.to_csv('submission.csv', index=False)"
   ]
  }
 ],
 "metadata": {
  "celltoolbar": "Slideshow",
  "kernelspec": {
   "display_name": "Python 3",
   "language": "python",
   "name": "python3"
  },
  "language_info": {
   "codemirror_mode": {
    "name": "ipython",
    "version": 3
   },
   "file_extension": ".py",
   "mimetype": "text/x-python",
   "name": "python",
   "nbconvert_exporter": "python",
   "pygments_lexer": "ipython3",
   "version": "3.7.2"
  }
 },
 "nbformat": 4,
 "nbformat_minor": 2
}
