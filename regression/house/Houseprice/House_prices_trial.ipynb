{
 "cells": [
  {
   "cell_type": "code",
   "execution_count": 113,
   "metadata": {},
   "outputs": [],
   "source": [
    "try:\n",
    "    import pandas as pd\n",
    "except:\n",
    "    ! pip3 install pandas\n",
    "    import pandas as pd"
   ]
  },
  {
   "cell_type": "code",
   "execution_count": 114,
   "metadata": {},
   "outputs": [],
   "source": [
    "%matplotlib inline\n",
    "%config InlineBackend.figure_formats = {'png', 'retina'}\n",
    "try:\n",
    "    import seaborn as sns\n",
    "except:\n",
    "    ! pip3 install seaborn\n",
    "    import seaborn as sns \n",
    "try:\n",
    "    import matplotlib as plt\n",
    "    import matplotlib.pylab as plt\n",
    "except:\n",
    "    ! pip3 install matplotlib\n",
    "    import matplotlib as plt\n",
    "    import matplotlib.pylab as plt"
   ]
  },
  {
   "cell_type": "code",
   "execution_count": 115,
   "metadata": {},
   "outputs": [],
   "source": [
    "try:\n",
    "    import numpy as np\n",
    "except:\n",
    "    ! pip3 install numpy\n",
    "    import numpy as np\n",
    "\n",
    "try:\n",
    "    import sklearn\n",
    "    from sklearn.model_selection import train_test_split\n",
    "    from sklearn.preprocessing import PolynomialFeatures\n",
    "    from sklearn.pipeline import make_pipeline\n",
    "    from sklearn.linear_model import LinearRegression, Ridge, Lasso, ElasticNet\n",
    "    from sklearn.model_selection import KFold\n",
    "    from sklearn.metrics import mean_squared_error\n",
    "except:\n",
    "    ! pip3 install scikit-learn\n",
    "    import sklearn\n",
    "    from sklearn.model_selection import train_test_split\n",
    "    from sklearn.preprocessing import PolynomialFeatures\n",
    "    from sklearn.pipeline import make_pipeline\n",
    "    from sklearn.linear_model import LinearRegression, Ridge, Lasso, ElasticNet\n",
    "\n",
    "try:\n",
    "    import statsmodels\n",
    "    from statsmodels.formula.api import ols\n",
    "    from statsmodels.stats.outliers_influence import variance_inflation_factor\n",
    "except:\n",
    "    ! pip3 install statsmodels\n",
    "    import statsmodels\n",
    "    from statsmodels.formula.api import ols\n",
    "    from statsmodels.stats.outliers_influence import variance_inflation_factor"
   ]
  },
  {
   "cell_type": "code",
   "execution_count": 116,
   "metadata": {},
   "outputs": [],
   "source": [
    "df = pd.read_csv(\"train.csv\")\n",
    "df_test = pd.read_csv('test.csv')"
   ]
  },
  {
   "cell_type": "code",
   "execution_count": 117,
   "metadata": {},
   "outputs": [],
   "source": [
    "df = df.drop([\"Id\"], axis=1)\n",
    "df_test = df_test.drop([\"Id\"], axis=1)"
   ]
  },
  {
   "cell_type": "code",
   "execution_count": 118,
   "metadata": {},
   "outputs": [],
   "source": [
    "df = df.rename({\"1stFlrSF\": \"FstFlrSF\",\n",
    "           \"2ndFlrSF\": \"SndFlrSF\", \n",
    "           \"3SsnPorch\": \"TSsnPorch\"}, axis = \"columns\")\n",
    "df_test = df_test.rename({\"1stFlrSF\": \"FstFlrSF\",\n",
    "           \"2ndFlrSF\": \"SndFlrSF\", \n",
    "           \"3SsnPorch\": \"TSsnPorch\"}, axis = \"columns\")"
   ]
  },
  {
   "cell_type": "code",
   "execution_count": 119,
   "metadata": {},
   "outputs": [],
   "source": [
    "quantitative = [f for f in df.columns if df.dtypes[f] != 'object']\n",
    "quantitative.remove('SalePrice')\n",
    "qualitative = [f for f in df.columns if df.dtypes[f] == 'object']"
   ]
  },
  {
   "cell_type": "code",
   "execution_count": 120,
   "metadata": {},
   "outputs": [],
   "source": [
    "quantitative.remove('MSSubClass')"
   ]
  },
  {
   "cell_type": "code",
   "execution_count": 121,
   "metadata": {},
   "outputs": [],
   "source": [
    "qualitative = qualitative + [\"MSSubClass\"]"
   ]
  },
  {
   "cell_type": "code",
   "execution_count": 122,
   "metadata": {},
   "outputs": [],
   "source": [
    "df[['Alley','FireplaceQu','GarageType','GarageFinish','GarageQual','GarageCond','PoolQC','Fence','MiscFeature','BsmtExposure','BsmtFinType1','BsmtFinType2','BsmtQual','BsmtCond']] = df[['Alley','FireplaceQu','GarageType','GarageFinish','GarageQual','GarageCond','PoolQC','Fence','MiscFeature','BsmtExposure','BsmtFinType1','BsmtFinType2','BsmtQual','BsmtCond']].fillna('noexist')\n",
    "df['GarageYrBlt'] = df['GarageYrBlt'].fillna(0) # 창고를 지은 년도를 설명하는 변수 \n",
    "df['LotFrontage'] = df['LotFrontage'].fillna(0) # 도로와 직선으로 맞닿아 있는것을 설명하는 변수. \n",
    "\n",
    "df_test[['Alley','FireplaceQu','GarageType','GarageFinish','GarageQual','GarageCond','PoolQC','Fence','MiscFeature','BsmtExposure','BsmtFinType1','BsmtFinType2','BsmtQual','BsmtCond']] = df[['Alley','FireplaceQu','GarageType','GarageFinish','GarageQual','GarageCond','PoolQC','Fence','MiscFeature','BsmtExposure','BsmtFinType1','BsmtFinType2','BsmtQual','BsmtCond']].fillna('noexist')\n",
    "df_test['GarageYrBlt'] = df_test['GarageYrBlt'].fillna(0) # 창고를 지은 년도를 설명하는 변수 \n",
    "df_test['LotFrontage'] = df_test['LotFrontage'].fillna(0) # 도로와 직선으로 맞닿아 있는것을 설명하는 변수. "
   ]
  },
  {
   "cell_type": "code",
   "execution_count": 123,
   "metadata": {},
   "outputs": [],
   "source": [
    "df['BsmtExposure'][948] = \"No\" # No라는 변수가 존재한다. 이를 사람이 실수하여 잘못 넣었다고 추정했다.\n",
    "df['MasVnrType'] = df['MasVnrType'].fillna(df['MasVnrType'].mode().values[0]) # 최빈값\n",
    "df['MasVnrArea'] = df['MasVnrArea'].fillna(np.mean(df[\"MasVnrArea\"])) # 평균값\n",
    "df['Electrical'] = df['Electrical'].fillna(df['Electrical'].mode().values[0]) # 최빈값\n",
    "\n",
    "\n",
    "df_test['BsmtExposure'][948] = \"No\" # No라는 변수가 존재한다. 이를 사람이 실수하여 잘못 넣었다고 추정했다.\n",
    "df_test['MasVnrType'] = df_test['MasVnrType'].fillna(df['MasVnrType'].mode().values[0]) # 최빈값\n",
    "df_test['MasVnrArea'] = df_test['MasVnrArea'].fillna(np.mean(df[\"MasVnrArea\"])) # 평균값\n",
    "df_test['Electrical'] = df_test['Electrical'].fillna(df['Electrical'].mode().values[0]) # 최빈값"
   ]
  },
  {
   "cell_type": "markdown",
   "metadata": {},
   "source": [
    "### 더미 변수 만들어 주기"
   ]
  },
  {
   "cell_type": "code",
   "execution_count": 124,
   "metadata": {},
   "outputs": [],
   "source": [
    "df_all = df.copy()\n",
    "df_all_temp = pd.concat([df_all,df_test])\n",
    "df_all_temp['MSSubClass'] = df_all_temp['MSSubClass'].astype('category')\n",
    "df_temp = pd.get_dummies(df_all_temp)[\"GarageQual_Ex\"]"
   ]
  },
  {
   "cell_type": "code",
   "execution_count": 125,
   "metadata": {},
   "outputs": [],
   "source": [
    "df_all_temp = pd.get_dummies(df_all_temp, drop_first=True)"
   ]
  },
  {
   "cell_type": "code",
   "execution_count": 126,
   "metadata": {},
   "outputs": [],
   "source": [
    "df_all_temp.insert(loc=151, column='GarageQual_Ex', value=df_temp)"
   ]
  },
  {
   "cell_type": "code",
   "execution_count": 127,
   "metadata": {},
   "outputs": [],
   "source": [
    "y_all = df_all_temp['SalePrice']\n",
    "df_all_temp = df_all_temp.drop('SalePrice', axis=1)\n",
    "\n",
    "df_all = df_all_temp.iloc[:1460,:]\n",
    "y_all = y_all.iloc[:1460]\n",
    "df_test_kaggle = df_all_temp.iloc[1460:,:]"
   ]
  },
  {
   "cell_type": "markdown",
   "metadata": {},
   "source": [
    "### 다중공선성 분석"
   ]
  },
  {
   "cell_type": "code",
   "execution_count": 128,
   "metadata": {},
   "outputs": [],
   "source": [
    "vif = pd.DataFrame()\n",
    "vif[\"VIF Factor\"] = [variance_inflation_factor(\n",
    "    df_all.values, i) for i in range(df_all.shape[1])]\n",
    "vif[\"features\"] = df_all.columns\n",
    "vif = vif.sort_values(\"VIF Factor\").reset_index(drop=True)"
   ]
  },
  {
   "cell_type": "markdown",
   "metadata": {},
   "source": [
    "### 다중공선성이 10 이하인 변수만 추출"
   ]
  },
  {
   "cell_type": "code",
   "execution_count": 129,
   "metadata": {},
   "outputs": [],
   "source": [
    "low_vif = list(vif[vif[\"VIF Factor\"] <= 10].features)"
   ]
  },
  {
   "cell_type": "markdown",
   "metadata": {},
   "source": [
    "### 조건 수 1.10e+06"
   ]
  },
  {
   "cell_type": "code",
   "execution_count": 130,
   "metadata": {
    "scrolled": true
   },
   "outputs": [
    {
     "name": "stdout",
     "output_type": "stream",
     "text": [
      "                            OLS Regression Results                            \n",
      "==============================================================================\n",
      "Dep. Variable:              SalePrice   R-squared:                       0.978\n",
      "Model:                            OLS   Adj. R-squared:                  0.976\n",
      "Method:                 Least Squares   F-statistic:                     353.2\n",
      "Date:                Fri, 16 Nov 2018   Prob (F-statistic):               0.00\n",
      "Time:                        20:09:05   Log-Likelihood:                -17075.\n",
      "No. Observations:                1460   AIC:                         3.448e+04\n",
      "Df Residuals:                    1294   BIC:                         3.536e+04\n",
      "Df Model:                         166                                         \n",
      "Covariance Type:            nonrobust                                         \n",
      "=========================================================================================\n",
      "                            coef    std err          t      P>|t|      [0.025      0.975]\n",
      "-----------------------------------------------------------------------------------------\n",
      "Condition1_RRNe       -8258.6913   2.35e+04     -0.352      0.725   -5.43e+04    3.78e+04\n",
      "SaleType_Con           -631.5240   2.32e+04     -0.027      0.978   -4.61e+04    4.48e+04\n",
      "TSsnPorch                39.7452     29.604      1.343      0.180     -18.332      97.822\n",
      "SaleType_Oth           6002.9603   1.86e+04      0.323      0.747   -3.05e+04    4.25e+04\n",
      "LotConfig_FR3          -2.97e+04   1.66e+04     -1.786      0.074   -6.23e+04    2925.066\n",
      "MoSold                 -331.5627    317.261     -1.045      0.296    -953.966     290.840\n",
      "Foundation_Wood          61.7453   1.94e+04      0.003      0.997   -3.81e+04    3.82e+04\n",
      "SaleType_CWD            858.3251   1.65e+04      0.052      0.959   -3.16e+04    3.33e+04\n",
      "SaleType_ConLI        -1127.8493   1.48e+04     -0.076      0.939   -3.01e+04    2.79e+04\n",
      "YrSold                 -299.8199     65.702     -4.563      0.000    -428.714    -170.925\n",
      "LotShape_IR2           7234.5102   5522.368      1.310      0.190   -3599.265    1.81e+04\n",
      "HeatingQC_Po          -8828.1956   3.46e+04     -0.255      0.799   -7.67e+04     5.9e+04\n",
      "ScreenPorch              51.6254     15.996      3.227      0.001      20.245      83.006\n",
      "LotConfig_FR2         -1.168e+04   5260.596     -2.220      0.027    -2.2e+04   -1356.372\n",
      "SaleCondition_Family  -8606.3515   7992.850     -1.077      0.282   -2.43e+04    7074.014\n",
      "Exterior2nd_Other      -3.67e+04   3.19e+04     -1.149      0.251   -9.93e+04    2.59e+04\n",
      "Fence_MnWw            -8679.5357   1.07e+04     -0.808      0.419   -2.98e+04    1.24e+04\n",
      "SaleType_ConLw         -2.34e+04   1.53e+04     -1.528      0.127   -5.35e+04    6647.768\n",
      "BsmtHalfBath           2580.2098   3859.376      0.669      0.504   -4991.110    1.02e+04\n",
      "LotShape_IR3          -1.802e+04   1.13e+04     -1.598      0.110   -4.02e+04    4108.896\n",
      "Condition1_PosA        9700.9197   1.27e+04      0.766      0.444   -1.51e+04    3.45e+04\n",
      "Foundation_Stone       1.217e+04   1.43e+04      0.852      0.394   -1.58e+04    4.02e+04\n",
      "WoodDeckSF               30.7032      7.644      4.017      0.000      15.708      45.698\n",
      "Neighborhood_Blueste  -2.531e+04   2.34e+04     -1.082      0.279   -7.12e+04    2.06e+04\n",
      "Exterior1st_ImStucc   -4.246e+04   3.42e+04     -1.241      0.215    -1.1e+05    2.47e+04\n",
      "Utilities_NoSeWa      -6.559e+04   3.41e+04     -1.925      0.054   -1.32e+05    1240.976\n",
      "Condition1_RRNn        1.883e+04   1.64e+04      1.149      0.251   -1.33e+04     5.1e+04\n",
      "SaleCondition_AdjLand -2.071e+04   1.81e+04     -1.146      0.252   -5.62e+04    1.48e+04\n",
      "EnclosedPorch             0.6206     15.969      0.039      0.969     -30.708      31.950\n",
      "HeatingQC_Gd          -6733.3077   2667.895     -2.524      0.012    -1.2e+04   -1499.434\n",
      "OpenPorchSF              34.3364     14.768      2.325      0.020       5.365      63.307\n",
      "SaleType_ConLD        -1.274e+04   1.16e+04     -1.100      0.271   -3.55e+04    9977.419\n",
      "Functional_Sev        -6.189e+04   3.52e+04     -1.759      0.079   -1.31e+05    7119.979\n",
      "Electrical_FuseF        628.3955   7577.575      0.083      0.934   -1.42e+04    1.55e+04\n",
      "Condition1_RRAe       -1.132e+04   1.19e+04     -0.953      0.341   -3.46e+04     1.2e+04\n",
      "LotShape_Reg           -650.1815   2118.242     -0.307      0.759   -4805.746    3505.383\n",
      "LotConfig_Inside      -1680.2400   2313.776     -0.726      0.468   -6219.404    2858.924\n",
      "PavedDrive_P            916.0267   7144.638      0.128      0.898   -1.31e+04    1.49e+04\n",
      "LotConfig_CulDSac      1.136e+04   4265.668      2.664      0.008    2996.110    1.97e+04\n",
      "LotFrontage              39.5240     28.577      1.383      0.167     -16.539      95.586\n",
      "Street_Pave            6.022e+04   1.53e+04      3.939      0.000    3.02e+04    9.02e+04\n",
      "BsmtExposure_Mn       -5234.6112   3836.824     -1.364      0.173   -1.28e+04    2292.465\n",
      "SaleCondition_Alloca   1.704e+04   1.13e+04      1.508      0.132   -5125.853    3.92e+04\n",
      "BsmtFinType1_LwQ       -165.6067   4650.198     -0.036      0.972   -9288.359    8957.146\n",
      "LandSlope_Mod          1.024e+04   5162.024      1.983      0.048     110.003    2.04e+04\n",
      "ExterCond_Po           2.021e+04   3.41e+04      0.593      0.554   -4.67e+04    8.71e+04\n",
      "Functional_Maj2       -1.178e+04   1.63e+04     -0.723      0.470   -4.37e+04    2.02e+04\n",
      "Electrical_SBrkr      -8388.5776   3848.440     -2.180      0.029   -1.59e+04    -838.712\n",
      "BsmtFinType1_BLQ        820.1591   3577.888      0.229      0.819   -6198.937    7839.255\n",
      "Electrical_FuseP       1787.5892   2.18e+04      0.082      0.935   -4.09e+04    4.45e+04\n",
      "Condition1_PosN        2.031e+04   9574.884      2.122      0.034    1529.537    3.91e+04\n",
      "HeatingQC_Fa          -4225.9967   5806.808     -0.728      0.467   -1.56e+04    7165.792\n",
      "Exterior1st_AsphShn   -4026.9769   4.01e+04     -0.100      0.920   -8.28e+04    7.47e+04\n",
      "BsmtFinType1_Rec       -509.7271   3801.431     -0.134      0.893   -7967.371    6947.917\n",
      "BsmtExposure_Gd        1.687e+04   3804.927      4.433      0.000    9402.439    2.43e+04\n",
      "GarageFinish_RFn      -9232.6397   2397.993     -3.850      0.000   -1.39e+04   -4528.259\n",
      "Condition2_RRAn        2.331e+04   3.23e+04      0.722      0.471   -4.01e+04    8.67e+04\n",
      "Exterior1st_Stone      2.053e+04   2.47e+04      0.832      0.406   -2.79e+04     6.9e+04\n",
      "Neighborhood_Veenker   1.849e+04   1.04e+04      1.783      0.075   -1851.745    3.88e+04\n",
      "BsmtFinType2_GLQ        967.6628   1.01e+04      0.096      0.923   -1.88e+04    2.07e+04\n",
      "MSSubClass_40          1.824e+04   1.78e+04      1.024      0.306   -1.67e+04    5.32e+04\n",
      "Condition1_RRAn        9213.5241   8659.396      1.064      0.288   -7774.469    2.62e+04\n",
      "FireplaceQu_Po         3187.3730   7653.948      0.416      0.677   -1.18e+04    1.82e+04\n",
      "Fence_GdWo             2514.4478   6334.595      0.397      0.691   -9912.755    1.49e+04\n",
      "HeatingQC_TA          -5572.8309   2636.078     -2.114      0.035   -1.07e+04    -401.376\n",
      "LandContour_HLS        8848.0529   6666.476      1.327      0.185   -4230.233    2.19e+04\n",
      "PavedDrive_Y           3780.5592   4322.245      0.875      0.382   -4698.817    1.23e+04\n",
      "CentralAir_Y          -2487.8931   4724.634     -0.527      0.599   -1.18e+04    6780.890\n",
      "OverallCond            4523.6005   1012.601      4.467      0.000    2537.081    6510.120\n",
      "BsmtQual_Fa           -7046.9477   6205.294     -1.136      0.256   -1.92e+04    5126.591\n",
      "MSSubClass_30           166.5335   4843.625      0.034      0.973   -9335.685    9668.752\n",
      "KitchenQual_Fa         7549.1520   6245.408      1.209      0.227   -4703.084    1.98e+04\n",
      "LandContour_Low         670.3568   8140.655      0.082      0.934   -1.53e+04    1.66e+04\n",
      "Exterior2nd_Stone     -1.585e+04   1.64e+04     -0.967      0.334    -4.8e+04    1.63e+04\n",
      "Exterior2nd_AsphShn   -4749.5578   2.42e+04     -0.196      0.845   -5.23e+04    4.28e+04\n",
      "Condition2_PosA        3.048e+04   3.46e+04      0.881      0.379   -3.74e+04    9.84e+04\n",
      "Alley_noexist          6669.2741   5177.175      1.288      0.198   -3487.302    1.68e+04\n",
      "FireplaceQu_Fa        -8062.3919   5938.304     -1.358      0.175   -1.97e+04    3587.367\n",
      "Alley_Pave             9021.3014   7267.295      1.241      0.215   -5235.670    2.33e+04\n",
      "BsmtFullBath           7478.0458   2247.094      3.328      0.001    3069.698    1.19e+04\n",
      "BsmtExposure_No       -8352.9575   2649.679     -3.152      0.002   -1.36e+04   -3154.821\n",
      "MasVnrArea               21.0175      5.927      3.546      0.000       9.391      32.644\n",
      "Exterior1st_BrkComm   -3715.5380   3.16e+04     -0.117      0.907   -6.58e+04    5.84e+04\n",
      "HalfBath               7098.0707   2123.947      3.342      0.001    2931.314    1.13e+04\n",
      "LandSlope_Sev         -4.312e+04    1.4e+04     -3.087      0.002   -7.05e+04   -1.57e+04\n",
      "Functional_Mod        -6438.3508   9462.534     -0.680      0.496    -2.5e+04    1.21e+04\n",
      "Neighborhood_StoneBr   5.254e+04   7064.543      7.436      0.000    3.87e+04    6.64e+04\n",
      "LotArea                   0.9252      0.132      7.021      0.000       0.667       1.184\n",
      "BsmtCond_Gd            -500.1979   6427.722     -0.078      0.938   -1.31e+04    1.21e+04\n",
      "Neighborhood_NPkVill  -5325.0114   1.63e+04     -0.326      0.744   -3.73e+04    2.67e+04\n",
      "Condition2_RRNn        -297.0557   2.33e+04     -0.013      0.990    -4.6e+04    4.54e+04\n",
      "BsmtCond_Po             6.49e+04   3.75e+04      1.730      0.084   -8687.376    1.38e+05\n",
      "SaleCondition_Normal  -1259.3122   3532.378     -0.357      0.722   -8189.128    5670.503\n",
      "Condition2_PosN       -1.545e+05   2.42e+04     -6.386      0.000   -2.02e+05   -1.07e+05\n",
      "BsmtFinType2_BLQ      -6862.1920   5817.530     -1.180      0.238   -1.83e+04    4550.631\n",
      "LandContour_Lvl        1.069e+04   4766.909      2.242      0.025    1336.838       2e+04\n",
      "BsmtFinType1_GLQ       6345.2038   3270.024      1.940      0.053     -69.927    1.28e+04\n",
      "BedroomAbvGr          -2360.6021   1679.239     -1.406      0.160   -5654.931     933.726\n",
      "Condition1_Feedr       2857.5941   6264.136      0.456      0.648   -9431.381    1.51e+04\n",
      "YearRemodAdd            249.5684     67.076      3.721      0.000     117.978     381.159\n",
      "GarageType_CarPort     1729.1962   1.22e+04      0.141      0.888   -2.23e+04    2.57e+04\n",
      "Heating_OthW          -2.377e+04   2.41e+04     -0.987      0.324    -7.1e+04    2.35e+04\n",
      "Electrical_Mix        -4.962e+04   5.17e+04     -0.960      0.337   -1.51e+05    5.18e+04\n",
      "ExterQual_Fa           2.675e+04   1.13e+04      2.374      0.018    4641.185    4.89e+04\n",
      "Exterior2nd_ImStucc    3.786e+04   1.11e+04      3.421      0.001    1.61e+04    5.96e+04\n",
      "GarageFinish_Unf      -6066.9383   2644.042     -2.295      0.022   -1.13e+04    -879.860\n",
      "Neighborhood_BrDale   -3.226e+04   8707.731     -3.704      0.000   -4.93e+04   -1.52e+04\n",
      "FullBath               1.839e+04   2598.187      7.078      0.000    1.33e+04    2.35e+04\n",
      "MSSubClass_85         -6845.1292   1.24e+04     -0.552      0.581   -3.12e+04    1.75e+04\n",
      "Fence_MnPrv            6803.7725   5115.961      1.330      0.184   -3232.714    1.68e+04\n",
      "Functional_Min1       -7778.1849   6125.953     -1.270      0.204   -1.98e+04    4239.702\n",
      "MSZoning_RH           -6980.9680   8728.201     -0.800      0.424   -2.41e+04    1.01e+04\n",
      "Neighborhood_SWISU     1222.8972   7534.884      0.162      0.871   -1.36e+04     1.6e+04\n",
      "Neighborhood_ClearCr  -1630.7332   7278.137     -0.224      0.823   -1.59e+04    1.26e+04\n",
      "Foundation_Slab       -6131.2416   9676.756     -0.634      0.526   -2.51e+04    1.29e+04\n",
      "BsmtFinType2_LwQ       -807.1417   5087.705     -0.159      0.874   -1.08e+04    9173.913\n",
      "BsmtCond_TA            6593.6071   4917.358      1.341      0.180   -3053.260    1.62e+04\n",
      "Neighborhood_Timber    1320.6271   5943.699      0.222      0.824   -1.03e+04     1.3e+04\n",
      "HouseStyle_2.5Fin     -2.524e+04   1.83e+04     -1.382      0.167   -6.11e+04    1.06e+04\n",
      "Neighborhood_MeadowV  -7082.3723   9519.465     -0.744      0.457   -2.58e+04    1.16e+04\n",
      "Functional_Min2       -6813.0393   5852.269     -1.164      0.245   -1.83e+04    4667.936\n",
      "BsmtFinType1_Unf      -7590.4118   3301.967     -2.299      0.022   -1.41e+04   -1112.616\n",
      "BsmtFinType2_Rec      -5871.3501   4825.288     -1.217      0.224   -1.53e+04    3594.896\n",
      "KitchenAbvGr          -2.813e+04   5066.293     -5.553      0.000   -3.81e+04   -1.82e+04\n",
      "Neighborhood_NoRidge   5.689e+04   5928.456      9.596      0.000    4.53e+04    6.85e+04\n",
      "SaleType_WD           -1.637e+04   4086.117     -4.007      0.000   -2.44e+04   -8354.892\n",
      "RoofStyle_Shed         5.173e+04   2.53e+04      2.046      0.041    2118.719    1.01e+05\n",
      "OverallQual            1.587e+04   1181.953     13.427      0.000    1.36e+04    1.82e+04\n",
      "Exterior2nd_Brk Cmn   -9538.9735   2.13e+04     -0.447      0.655   -5.14e+04    3.23e+04\n",
      "Condition1_Norm        1.377e+04   5094.821      2.703      0.007    3774.222    2.38e+04\n",
      "HouseStyle_2.5Unf      -3.72e+04   1.78e+04     -2.094      0.036   -7.21e+04   -2343.089\n",
      "Fence_noexist          3714.4940   4605.978      0.806      0.420   -5321.508    1.28e+04\n",
      "GarageType_Basment    -1.579e+04   8338.026     -1.894      0.058   -3.21e+04     565.081\n",
      "Neighborhood_Mitchel  -1.249e+04   5056.533     -2.470      0.014   -2.24e+04   -2569.446\n",
      "RoofStyle_Mansard      1.597e+04   1.33e+04      1.198      0.231   -1.02e+04    4.21e+04\n",
      "PoolQC_Fa              7737.3361   2.37e+04      0.326      0.744   -3.88e+04    5.42e+04\n",
      "RoofMatl_Roll         -1.311e+04    3.2e+04     -0.410      0.682   -7.58e+04    4.96e+04\n",
      "Neighborhood_SawyerW   8159.2252   4815.604      1.694      0.090   -1288.022    1.76e+04\n",
      "Heating_Wall           5612.0167   1.88e+04      0.299      0.765   -3.12e+04    4.25e+04\n",
      "TotRmsAbvGrd           8565.3915   1030.027      8.316      0.000    6544.686    1.06e+04\n",
      "Neighborhood_Crawfor    2.78e+04   5529.648      5.027      0.000    1.69e+04    3.86e+04\n",
      "Foundation_CBlock      4122.7183   3773.823      1.092      0.275   -3280.763    1.15e+04\n",
      "RoofMatl_Metal         2.079e+04   3.47e+04      0.599      0.549   -4.73e+04    8.89e+04\n",
      "MSSubClass_180         3079.4792   1.41e+04      0.218      0.828   -2.47e+04    3.08e+04\n",
      "RoofMatl_Membran        5.21e+04   3.67e+04      1.419      0.156   -1.99e+04    1.24e+05\n",
      "BsmtQual_Gd           -1.427e+04   2454.772     -5.811      0.000   -1.91e+04   -9449.982\n",
      "MSSubClass_70         -4499.6490   5237.192     -0.859      0.390   -1.48e+04    5774.669\n",
      "Fireplaces             7962.0080   1735.597      4.587      0.000    4557.116    1.14e+04\n",
      "PoolQC_Gd             -8.273e+04   1.99e+04     -4.158      0.000   -1.22e+05   -4.37e+04\n",
      "Neighborhood_NridgHt   3.579e+04   4574.693      7.824      0.000    2.68e+04    4.48e+04\n",
      "GarageArea               34.3987      9.293      3.702      0.000      16.168      52.629\n",
      "MSSubClass_75          2.501e+04   1.71e+04      1.461      0.144   -8583.567    5.86e+04\n",
      "Condition2_Feedr      -5205.6459   1.53e+04     -0.340      0.734   -3.52e+04    2.48e+04\n",
      "GarageCars             6331.2510   2754.838      2.298      0.022     926.813    1.17e+04\n",
      "KitchenQual_Gd        -1.053e+04   2328.720     -4.521      0.000   -1.51e+04   -5958.551\n",
      "Neighborhood_IDOTRR   -1.166e+04   6108.980     -1.909      0.056   -2.36e+04     321.646\n",
      "Foundation_PConc       1.122e+04   4132.232      2.715      0.007    3113.568    1.93e+04\n",
      "Exterior2nd_BrkFace    1.922e+04   6841.157      2.810      0.005    5803.605    3.26e+04\n",
      "Neighborhood_Gilbert  -9709.9954   4595.367     -2.113      0.035   -1.87e+04    -694.810\n",
      "RoofStyle_Gambrel      7098.5765   1.06e+04      0.672      0.502   -1.36e+04    2.78e+04\n",
      "Neighborhood_NWAmes   -1.074e+04   4604.111     -2.333      0.020   -1.98e+04   -1707.427\n",
      "Exterior1st_WdShing   -9523.2387   6631.969     -1.436      0.151   -2.25e+04    3487.352\n",
      "Neighborhood_Sawyer     437.2092   4266.984      0.102      0.918   -7933.756    8808.174\n",
      "Exterior2nd_Stucco    -8131.5042   1.07e+04     -0.757      0.449   -2.92e+04    1.29e+04\n",
      "Exterior1st_Stucco    -6223.9826   1.07e+04     -0.581      0.561   -2.72e+04    1.48e+04\n",
      "HouseStyle_SFoyer     -2182.2651   1.03e+04     -0.213      0.831   -2.23e+04    1.79e+04\n",
      "==============================================================================\n",
      "Omnibus:                      567.389   Durbin-Watson:                   1.882\n",
      "Prob(Omnibus):                  0.000   Jarque-Bera (JB):            13781.353\n",
      "Skew:                           1.247   Prob(JB):                         0.00\n",
      "Kurtosis:                      17.843   Cond. No.                     1.10e+06\n",
      "==============================================================================\n",
      "\n",
      "Warnings:\n",
      "[1] Standard Errors assume that the covariance matrix of the errors is correctly specified.\n",
      "[2] The condition number is large, 1.1e+06. This might indicate that there are\n",
      "strong multicollinearity or other numerical problems.\n"
     ]
    }
   ],
   "source": [
    "result_all = sm.OLS(y_all, df_all[low_vif]).fit()\n",
    "print(result_all.summary())"
   ]
  },
  {
   "cell_type": "markdown",
   "metadata": {},
   "source": [
    "### RMSE 69392"
   ]
  },
  {
   "cell_type": "code",
   "execution_count": 131,
   "metadata": {},
   "outputs": [
    {
     "name": "stdout",
     "output_type": "stream",
     "text": [
      "69392.40028135313\n"
     ]
    }
   ],
   "source": [
    "score = 0 \n",
    "cv = KFold(5, shuffle=True, random_state=0)\n",
    "for i, (idx_train, idx_test) in enumerate(cv.split(df_all)):\n",
    "    df_train, df_train_y = df_all.iloc[idx_train], y_all.iloc[idx_train]\n",
    "    df_test, df_test_y = df_all.iloc[idx_test], y_all.iloc[idx_test]\n",
    "    result_temp = sm.OLS(df_train_y, df_train).fit()\n",
    "    yhat = result_temp.predict(df_test)\n",
    "    temp_score = np.sqrt(mean_squared_error(df_test_y, yhat))\n",
    "    score += temp_score\n",
    "\n",
    "print(score/5)"
   ]
  },
  {
   "cell_type": "markdown",
   "metadata": {},
   "source": [
    "### 예측한 집 값에 마이너스가 들어간 데이터가 존재한다."
   ]
  },
  {
   "cell_type": "code",
   "execution_count": 132,
   "metadata": {},
   "outputs": [
    {
     "data": {
      "text/plain": [
       "<matplotlib.axes._subplots.AxesSubplot at 0x123785b38>"
      ]
     },
     "execution_count": 132,
     "metadata": {},
     "output_type": "execute_result"
    },
    {
     "data": {
      "image/png": "[encoded data removed]",
      "text/plain": [
       "<Figure size 432x288 with 1 Axes>"
      ]
     },
     "metadata": {
      "image/png": {
       "height": 254,
       "width": 417
      },
      "needs_background": "light"
     },
     "output_type": "display_data"
    }
   ],
   "source": [
    "sns.scatterplot(yhat, df_test_y)"
   ]
  },
  {
   "cell_type": "markdown",
   "metadata": {},
   "source": [
    "## Using only related cols\n",
    "### P value가 0.01보다 낮은 변수만 추출"
   ]
  },
  {
   "cell_type": "code",
   "execution_count": 133,
   "metadata": {
    "scrolled": false
   },
   "outputs": [],
   "source": [
    "related_cols = result_all.pvalues[result_all.pvalues < 0.01]\n",
    "related_cols = list(related_cols.index)"
   ]
  },
  {
   "cell_type": "markdown",
   "metadata": {},
   "source": [
    "### RMSE 36721"
   ]
  },
  {
   "cell_type": "code",
   "execution_count": 134,
   "metadata": {},
   "outputs": [
    {
     "name": "stdout",
     "output_type": "stream",
     "text": [
      "36721.873318814316\n"
     ]
    }
   ],
   "source": [
    "df_related = df_all[[col for col in df_all.columns if col in related_cols]]\n",
    "df_test_kaggle = df_test_kaggle[[col for col in df_test_kaggle.columns if col in related_cols]]\n",
    "\n",
    "y_related = y_all.copy()\n",
    "score = 0\n",
    "cv = KFold(5, shuffle=True, random_state=0)\n",
    "for i, (idx_train, idx_test) in enumerate(cv.split(df_related)):\n",
    "    df_train, df_train_y = df_related.iloc[idx_train], y_related.iloc[idx_train]\n",
    "    df_test, df_test_y = df_related.iloc[idx_test], y_related.iloc[idx_test]\n",
    "    result_related = sm.OLS(df_train_y, df_train).fit()\n",
    "    yhat = result_related.predict(df_test)\n",
    "    temp_score = np.sqrt(mean_squared_error(df_test_y, yhat))\n",
    "    score += temp_score\n",
    "print(score/5)"
   ]
  },
  {
   "cell_type": "code",
   "execution_count": 135,
   "metadata": {
    "scrolled": false
   },
   "outputs": [
    {
     "name": "stdout",
     "output_type": "stream",
     "text": [
      "                            OLS Regression Results                            \n",
      "==============================================================================\n",
      "Dep. Variable:              SalePrice   R-squared:                       0.974\n",
      "Model:                            OLS   Adj. R-squared:                  0.973\n",
      "Method:                 Least Squares   F-statistic:                     1204.\n",
      "Date:                Fri, 16 Nov 2018   Prob (F-statistic):               0.00\n",
      "Time:                        20:09:14   Log-Likelihood:                -13791.\n",
      "No. Observations:                1168   AIC:                         2.765e+04\n",
      "Df Residuals:                    1133   BIC:                         2.783e+04\n",
      "Df Model:                          35                                         \n",
      "Covariance Type:            nonrobust                                         \n",
      "========================================================================================\n",
      "                           coef    std err          t      P>|t|      [0.025      0.975]\n",
      "----------------------------------------------------------------------------------------\n",
      "BsmtFullBath           1.46e+04   2049.822      7.123      0.000    1.06e+04    1.86e+04\n",
      "Fireplaces            8423.6049   1860.851      4.527      0.000    4772.503    1.21e+04\n",
      "FullBath              1.852e+04   2697.400      6.865      0.000    1.32e+04    2.38e+04\n",
      "GarageArea              48.2244      5.846      8.250      0.000      36.755      59.694\n",
      "HalfBath              8775.6335   2230.854      3.934      0.000    4398.563    1.32e+04\n",
      "KitchenAbvGr         -2.673e+04   5139.223     -5.202      0.000   -3.68e+04   -1.66e+04\n",
      "LotArea                  0.7363      0.128      5.765      0.000       0.486       0.987\n",
      "MasVnrArea              32.4664      6.876      4.722      0.000      18.975      45.958\n",
      "OverallCond           3616.4394   1029.861      3.512      0.000    1595.790    5637.089\n",
      "OverallQual           1.797e+04   1212.532     14.819      0.000    1.56e+04    2.03e+04\n",
      "ScreenPorch             51.1308     18.318      2.791      0.005      15.189      87.073\n",
      "TotRmsAbvGrd          7361.1952    879.598      8.369      0.000    5635.371    9087.019\n",
      "WoodDeckSF              35.4328      8.694      4.076      0.000      18.375      52.490\n",
      "YearRemodAdd           367.4336     69.526      5.285      0.000     231.020     503.847\n",
      "YrSold                -395.3035     67.463     -5.860      0.000    -527.669    -262.938\n",
      "BsmtExposure_Gd       1.802e+04   3962.074      4.547      0.000    1.02e+04    2.58e+04\n",
      "BsmtExposure_No      -9459.0489   2356.391     -4.014      0.000   -1.41e+04   -4835.667\n",
      "BsmtQual_Gd           -1.07e+04   2640.482     -4.053      0.000   -1.59e+04   -5521.358\n",
      "Condition1_Norm       8129.0282   2866.188      2.836      0.005    2505.396    1.38e+04\n",
      "Condition2_PosN      -1.379e+05   2.42e+04     -5.710      0.000   -1.85e+05   -9.05e+04\n",
      "Exterior2nd_BrkFace    2.31e+04   7670.835      3.011      0.003    8049.563    3.82e+04\n",
      "Exterior2nd_ImStucc   5.914e+04   1.29e+04      4.588      0.000    3.38e+04    8.44e+04\n",
      "Foundation_PConc       1.07e+04   3035.375      3.525      0.000    4742.741    1.67e+04\n",
      "GarageFinish_RFn     -8312.9920   2337.670     -3.556      0.000   -1.29e+04   -3726.344\n",
      "KitchenQual_Gd        -1.08e+04   2599.987     -4.155      0.000   -1.59e+04   -5702.032\n",
      "LandSlope_Sev         -1.64e+04   1.28e+04     -1.283      0.200   -4.15e+04    8671.052\n",
      "LotConfig_CulDSac     1.241e+04   4111.675      3.017      0.003    4338.415    2.05e+04\n",
      "Neighborhood_BrDale  -3.789e+04   9792.729     -3.870      0.000   -5.71e+04   -1.87e+04\n",
      "Neighborhood_Crawfor  2.586e+04   5363.791      4.821      0.000    1.53e+04    3.64e+04\n",
      "Neighborhood_NoRidge   5.61e+04   6443.862      8.705      0.000    4.35e+04    6.87e+04\n",
      "Neighborhood_NridgHt  3.895e+04   4962.542      7.849      0.000    2.92e+04    4.87e+04\n",
      "Neighborhood_StoneBr  5.583e+04   7489.517      7.455      0.000    4.11e+04    7.05e+04\n",
      "PoolQC_Gd            -9.215e+04   1.95e+04     -4.734      0.000    -1.3e+05    -5.4e+04\n",
      "SaleType_WD           -1.48e+04   2995.964     -4.941      0.000   -2.07e+04   -8925.523\n",
      "Street_Pave           2.484e+04   1.69e+04      1.472      0.141   -8276.201     5.8e+04\n",
      "==============================================================================\n",
      "Omnibus:                      404.481   Durbin-Watson:                   1.887\n",
      "Prob(Omnibus):                  0.000   Jarque-Bera (JB):             8702.609\n",
      "Skew:                           1.067   Prob(JB):                         0.00\n",
      "Kurtosis:                      16.201   Cond. No.                     3.67e+05\n",
      "==============================================================================\n",
      "\n",
      "Warnings:\n",
      "[1] Standard Errors assume that the covariance matrix of the errors is correctly specified.\n",
      "[2] The condition number is large, 3.67e+05. This might indicate that there are\n",
      "strong multicollinearity or other numerical problems.\n"
     ]
    }
   ],
   "source": [
    "print(result_related.summary())"
   ]
  },
  {
   "cell_type": "code",
   "execution_count": 136,
   "metadata": {},
   "outputs": [
    {
     "data": {
      "text/plain": [
       "0"
      ]
     },
     "execution_count": 136,
     "metadata": {},
     "output_type": "execute_result"
    }
   ],
   "source": [
    "df_test_kaggle[\"BsmtFullBath\"] = df_test_kaggle[\"BsmtFullBath\"].fillna(df_test_kaggle[\"BsmtFullBath\"].mean())\n",
    "df_test_kaggle[\"BsmtFullBath\"].isnull().values.sum()"
   ]
  },
  {
   "cell_type": "code",
   "execution_count": 137,
   "metadata": {},
   "outputs": [
    {
     "data": {
      "text/plain": [
       "0"
      ]
     },
     "execution_count": 137,
     "metadata": {},
     "output_type": "execute_result"
    }
   ],
   "source": [
    "df_test_kaggle[\"GarageArea\"] = df_test_kaggle[\"GarageArea\"].fillna(df_test_kaggle[\"GarageArea\"].mean())\n",
    "df_test_kaggle[\"GarageArea\"].isnull().values.sum()"
   ]
  },
  {
   "cell_type": "markdown",
   "metadata": {},
   "source": [
    "### Scaling"
   ]
  },
  {
   "cell_type": "code",
   "execution_count": 138,
   "metadata": {
    "scrolled": false
   },
   "outputs": [
    {
     "name": "stdout",
     "output_type": "stream",
     "text": [
      "37885.86360123536\n"
     ]
    }
   ],
   "source": [
    "related_quan = [col for col in quantitative if col in df_related.columns]\n",
    "df_norm = df_related.copy()\n",
    "df_norm[related_quan] = (df_related[related_quan] - df_related[related_quan].mean()) / df_related[related_quan].std()\n",
    "df_test_kaggle[related_quan] = (df_test_kaggle[related_quan] - df_test_kaggle[related_quan].mean()) / df_test_kaggle[related_quan].std()\n",
    "\n",
    "y_norm = y_all.copy()\n",
    "score = 0\n",
    "for i, (idx_train, idx_test) in enumerate(cv.split(df_related)):\n",
    "    df_train, df_train_y = df_norm.iloc[idx_train], y_norm.iloc[idx_train]\n",
    "    df_test, df_test_y = df_norm.iloc[idx_test], y_norm.iloc[idx_test]\n",
    "    result_norm = sm.OLS(df_train_y, df_train).fit()\n",
    "    yhat = result_norm.predict(df_test)\n",
    "    temp_score = np.sqrt(mean_squared_error(df_test_y, yhat))\n",
    "    score += temp_score\n",
    "print(score/5)"
   ]
  },
  {
   "cell_type": "markdown",
   "metadata": {},
   "source": [
    "### Scaling 후 조건수가 50.9로 크게 줄었다."
   ]
  },
  {
   "cell_type": "code",
   "execution_count": 139,
   "metadata": {
    "scrolled": false
   },
   "outputs": [
    {
     "name": "stdout",
     "output_type": "stream",
     "text": [
      "                            OLS Regression Results                            \n",
      "==============================================================================\n",
      "Dep. Variable:              SalePrice   R-squared:                       0.972\n",
      "Model:                            OLS   Adj. R-squared:                  0.971\n",
      "Method:                 Least Squares   F-statistic:                     1110.\n",
      "Date:                Fri, 16 Nov 2018   Prob (F-statistic):               0.00\n",
      "Time:                        20:09:20   Log-Likelihood:                -13837.\n",
      "No. Observations:                1168   AIC:                         2.774e+04\n",
      "Df Residuals:                    1133   BIC:                         2.792e+04\n",
      "Df Model:                          35                                         \n",
      "Covariance Type:            nonrobust                                         \n",
      "========================================================================================\n",
      "                           coef    std err          t      P>|t|      [0.025      0.975]\n",
      "----------------------------------------------------------------------------------------\n",
      "BsmtFullBath          7471.7093   1110.522      6.728      0.000    5292.798    9650.621\n",
      "Fireplaces            5300.4724   1247.934      4.247      0.000    2851.952    7748.993\n",
      "FullBath              9144.0470   1543.096      5.926      0.000    6116.400    1.22e+04\n",
      "GarageArea            1.165e+04   1292.582      9.011      0.000    9111.343    1.42e+04\n",
      "HalfBath              4167.5110   1166.807      3.572      0.000    1878.166    6456.856\n",
      "KitchenAbvGr         -5853.8158   1178.247     -4.968      0.000   -8165.607   -3542.025\n",
      "LotArea               8042.5104   1324.483      6.072      0.000    5443.795    1.06e+04\n",
      "MasVnrArea            5710.5890   1292.558      4.418      0.000    3174.512    8246.666\n",
      "OverallCond           3687.3150   1192.911      3.091      0.002    1346.752    6027.878\n",
      "OverallQual           2.358e+04   1739.241     13.556      0.000    2.02e+04     2.7e+04\n",
      "ScreenPorch           3302.9221   1061.487      3.112      0.002    1220.221    5385.624\n",
      "TotRmsAbvGrd          1.233e+04   1488.273      8.287      0.000    9413.624    1.53e+04\n",
      "WoodDeckSF            3912.7149   1132.423      3.455      0.001    1690.833    6134.597\n",
      "YearRemodAdd          7087.4708   1492.819      4.748      0.000    4158.470       1e+04\n",
      "YrSold                -217.5540   1029.073     -0.211      0.833   -2236.657    1801.549\n",
      "BsmtExposure_Gd         2.3e+04   4089.625      5.624      0.000     1.5e+04     3.1e+04\n",
      "BsmtExposure_No      -7450.2719   2444.493     -3.048      0.002   -1.22e+04   -2654.030\n",
      "BsmtQual_Gd          -8787.2220   2739.244     -3.208      0.001   -1.42e+04   -3412.662\n",
      "Condition1_Norm       1.148e+04   2959.923      3.879      0.000    5672.630    1.73e+04\n",
      "Condition2_PosN      -1.309e+05   2.51e+04     -5.211      0.000    -1.8e+05   -8.16e+04\n",
      "Exterior2nd_BrkFace   2.196e+04   7980.170      2.752      0.006    6300.826    3.76e+04\n",
      "Exterior2nd_ImStucc   5.909e+04   1.34e+04      4.405      0.000    3.28e+04    8.54e+04\n",
      "Foundation_PConc      1.147e+04   3156.852      3.633      0.000    5276.083    1.77e+04\n",
      "GarageFinish_RFn     -7023.7808   2427.950     -2.893      0.004   -1.18e+04   -2259.997\n",
      "KitchenQual_Gd       -1.059e+04   2704.757     -3.916      0.000   -1.59e+04   -5283.794\n",
      "LandSlope_Sev        -2.417e+04   1.33e+04     -1.821      0.069   -5.02e+04    1868.732\n",
      "LotConfig_CulDSac     1.205e+04   4277.314      2.817      0.005    3658.844    2.04e+04\n",
      "Neighborhood_BrDale  -3.635e+04   1.02e+04     -3.568      0.000   -5.63e+04   -1.64e+04\n",
      "Neighborhood_Crawfor  2.612e+04   5583.687      4.677      0.000    1.52e+04    3.71e+04\n",
      "Neighborhood_NoRidge  5.513e+04   6703.704      8.224      0.000     4.2e+04    6.83e+04\n",
      "Neighborhood_NridgHt  4.071e+04   5160.952      7.888      0.000    3.06e+04    5.08e+04\n",
      "Neighborhood_StoneBr  5.766e+04   7789.023      7.402      0.000    4.24e+04    7.29e+04\n",
      "PoolQC_Gd            -9.043e+04   2.03e+04     -4.466      0.000    -1.3e+05   -5.07e+04\n",
      "SaleType_WD          -1.122e+04   3098.513     -3.620      0.000   -1.73e+04   -5135.682\n",
      "Street_Pave           1.827e+05   4459.646     40.957      0.000    1.74e+05    1.91e+05\n",
      "==============================================================================\n",
      "Omnibus:                      450.830   Durbin-Watson:                   1.920\n",
      "Prob(Omnibus):                  0.000   Jarque-Bera (JB):             8550.518\n",
      "Skew:                           1.291   Prob(JB):                         0.00\n",
      "Kurtosis:                      16.001   Cond. No.                         50.9\n",
      "==============================================================================\n",
      "\n",
      "Warnings:\n",
      "[1] Standard Errors assume that the covariance matrix of the errors is correctly specified.\n"
     ]
    }
   ],
   "source": [
    "print(result_norm.summary())"
   ]
  },
  {
   "cell_type": "code",
   "execution_count": 140,
   "metadata": {},
   "outputs": [
    {
     "name": "stdout",
     "output_type": "stream",
     "text": [
      "29002.15268731922\n"
     ]
    }
   ],
   "source": [
    "for_regularization = sm.OLS(df_norm, y_norm).fit()\n",
    "for_reg_yhat = result_norm.predict(df_norm)\n",
    "for_reg_score = np.sqrt(mean_squared_error(df_test_y, yhat))\n",
    "print(for_reg_score)"
   ]
  },
  {
   "cell_type": "code",
   "execution_count": null,
   "metadata": {},
   "outputs": [],
   "source": []
  },
  {
   "cell_type": "code",
   "execution_count": 141,
   "metadata": {
    "scrolled": false
   },
   "outputs": [
    {
     "data": {
      "image/png": "[encoded data removed]",
      "text/plain": [
       "<Figure size 432x288 with 1 Axes>"
      ]
     },
     "metadata": {
      "image/png": {
       "height": 254,
       "width": 417
      },
      "needs_background": "light"
     },
     "output_type": "display_data"
    }
   ],
   "source": [
    "result_from = {'predicted' : yhat, 'SalePrice' : df_test_y}\n",
    "ax = sns.scatterplot(x=\"predicted\", y=\"SalePrice\",data = result_from)"
   ]
  },
  {
   "cell_type": "markdown",
   "metadata": {},
   "source": [
    "## Submit to kaggle"
   ]
  },
  {
   "cell_type": "code",
   "execution_count": 142,
   "metadata": {},
   "outputs": [],
   "source": [
    "kaggle = result_norm.predict(df_test_kaggle)"
   ]
  },
  {
   "cell_type": "code",
   "execution_count": 146,
   "metadata": {},
   "outputs": [],
   "source": [
    "kaggle_csv = pd.read_csv('sample_submission.csv')\n",
    "kaggle_csv['SalePrice'] = kaggle"
   ]
  },
  {
   "cell_type": "code",
   "execution_count": 147,
   "metadata": {},
   "outputs": [],
   "source": [
    "kaggle_csv.to_csv('submission_trial.csv', index=False)"
   ]
  },
  {
   "cell_type": "code",
   "execution_count": 148,
   "metadata": {},
   "outputs": [
    {
     "data": {
      "text/plain": [
       "False"
      ]
     },
     "execution_count": 148,
     "metadata": {},
     "output_type": "execute_result"
    }
   ],
   "source": [
    "kaggle.isnull().values.any()"
   ]
  },
  {
   "cell_type": "markdown",
   "metadata": {},
   "source": [
    "![imgimg](3749.png)"
   ]
  },
  {
   "cell_type": "code",
   "execution_count": null,
   "metadata": {},
   "outputs": [],
   "source": []
  },
  {
   "cell_type": "code",
   "execution_count": null,
   "metadata": {},
   "outputs": [],
   "source": []
  },
  {
   "cell_type": "code",
   "execution_count": null,
   "metadata": {},
   "outputs": [],
   "source": []
  },
  {
   "cell_type": "code",
   "execution_count": null,
   "metadata": {},
   "outputs": [],
   "source": []
  }
 ],
 "metadata": {
  "kernelspec": {
   "display_name": "Python 3",
   "language": "python",
   "name": "python3"
  },
  "language_info": {
   "codemirror_mode": {
    "name": "ipython",
    "version": 3
   },
   "file_extension": ".py",
   "mimetype": "text/x-python",
   "name": "python",
   "nbconvert_exporter": "python",
   "pygments_lexer": "ipython3",
   "version": "3.7.1"
  }
 },
 "nbformat": 4,
 "nbformat_minor": 2
}
